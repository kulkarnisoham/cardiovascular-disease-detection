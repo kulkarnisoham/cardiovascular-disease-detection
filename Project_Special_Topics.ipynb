{
  "cells": [
    {
      "cell_type": "code",
      "execution_count": 69,
      "metadata": {
        "colab": {
          "base_uri": "https://localhost:8080/"
        },
        "id": "CnxQ45himZHv",
        "outputId": "cb35ff50-a883-44fc-b172-f7331bca6fb1"
      },
      "outputs": [
        {
          "output_type": "stream",
          "name": "stdout",
          "text": [
            "Mounted at /content/drive\n"
          ]
        }
      ],
      "source": [
        "from google.colab import drive\n",
        "drive.mount('/content/drive', force_remount=True)"
      ]
    },
    {
      "cell_type": "code",
      "execution_count": 70,
      "metadata": {
        "id": "n7b2bfeynUqk"
      },
      "outputs": [],
      "source": [
        "#Importing Required Libraries for the Project\n",
        "import numpy as np\n",
        "import pandas as pd \n",
        "import seaborn as sns\n",
        "import math\n",
        "import matplotlib.pyplot as plt\n",
        "from matplotlib import rcParams\n",
        "from sklearn.ensemble import RandomForestClassifier\n",
        "from sklearn.model_selection import train_test_split\n",
        "from sklearn.metrics import confusion_matrix, plot_confusion_matrix, accuracy_score \n",
        "from sklearn.linear_model import LogisticRegression\n",
        "from sklearn.neighbors import KNeighborsClassifier\n",
        "from sklearn import svm\n",
        "from xgboost import XGBClassifier"
      ]
    },
    {
      "cell_type": "code",
      "execution_count": 71,
      "metadata": {
        "colab": {
          "base_uri": "https://localhost:8080/",
          "height": 206
        },
        "id": "oQ-PJ4opnq-u",
        "outputId": "506e2e9f-a037-4172-f331-0a49ca75910f"
      },
      "outputs": [
        {
          "output_type": "execute_result",
          "data": {
            "text/plain": [
              "    id    age  gender  height  weight  ap_hi  ap_lo  cholesterol  gluc  smoke  \\\n",
              "0  988  22469       1     155    69.0    130     80            2     2      0   \n",
              "1  989  14648       1     163    71.0    110     70            1     1      0   \n",
              "2  990  21901       1     165    70.0    120     80            1     1      0   \n",
              "3  991  14549       2     165    85.0    120     80            1     1      1   \n",
              "4  992  23393       1     155    62.0    120     80            1     1      0   \n",
              "\n",
              "   alco  active  cardio  \n",
              "0     0       1       0  \n",
              "1     0       1       1  \n",
              "2     0       1       0  \n",
              "3     1       1       0  \n",
              "4     0       1       0  "
            ],
            "text/html": [
              "\n",
              "  <div id=\"df-233ed49a-5fcd-46f8-b001-fc457f56473c\">\n",
              "    <div class=\"colab-df-container\">\n",
              "      <div>\n",
              "<style scoped>\n",
              "    .dataframe tbody tr th:only-of-type {\n",
              "        vertical-align: middle;\n",
              "    }\n",
              "\n",
              "    .dataframe tbody tr th {\n",
              "        vertical-align: top;\n",
              "    }\n",
              "\n",
              "    .dataframe thead th {\n",
              "        text-align: right;\n",
              "    }\n",
              "</style>\n",
              "<table border=\"1\" class=\"dataframe\">\n",
              "  <thead>\n",
              "    <tr style=\"text-align: right;\">\n",
              "      <th></th>\n",
              "      <th>id</th>\n",
              "      <th>age</th>\n",
              "      <th>gender</th>\n",
              "      <th>height</th>\n",
              "      <th>weight</th>\n",
              "      <th>ap_hi</th>\n",
              "      <th>ap_lo</th>\n",
              "      <th>cholesterol</th>\n",
              "      <th>gluc</th>\n",
              "      <th>smoke</th>\n",
              "      <th>alco</th>\n",
              "      <th>active</th>\n",
              "      <th>cardio</th>\n",
              "    </tr>\n",
              "  </thead>\n",
              "  <tbody>\n",
              "    <tr>\n",
              "      <th>0</th>\n",
              "      <td>988</td>\n",
              "      <td>22469</td>\n",
              "      <td>1</td>\n",
              "      <td>155</td>\n",
              "      <td>69.0</td>\n",
              "      <td>130</td>\n",
              "      <td>80</td>\n",
              "      <td>2</td>\n",
              "      <td>2</td>\n",
              "      <td>0</td>\n",
              "      <td>0</td>\n",
              "      <td>1</td>\n",
              "      <td>0</td>\n",
              "    </tr>\n",
              "    <tr>\n",
              "      <th>1</th>\n",
              "      <td>989</td>\n",
              "      <td>14648</td>\n",
              "      <td>1</td>\n",
              "      <td>163</td>\n",
              "      <td>71.0</td>\n",
              "      <td>110</td>\n",
              "      <td>70</td>\n",
              "      <td>1</td>\n",
              "      <td>1</td>\n",
              "      <td>0</td>\n",
              "      <td>0</td>\n",
              "      <td>1</td>\n",
              "      <td>1</td>\n",
              "    </tr>\n",
              "    <tr>\n",
              "      <th>2</th>\n",
              "      <td>990</td>\n",
              "      <td>21901</td>\n",
              "      <td>1</td>\n",
              "      <td>165</td>\n",
              "      <td>70.0</td>\n",
              "      <td>120</td>\n",
              "      <td>80</td>\n",
              "      <td>1</td>\n",
              "      <td>1</td>\n",
              "      <td>0</td>\n",
              "      <td>0</td>\n",
              "      <td>1</td>\n",
              "      <td>0</td>\n",
              "    </tr>\n",
              "    <tr>\n",
              "      <th>3</th>\n",
              "      <td>991</td>\n",
              "      <td>14549</td>\n",
              "      <td>2</td>\n",
              "      <td>165</td>\n",
              "      <td>85.0</td>\n",
              "      <td>120</td>\n",
              "      <td>80</td>\n",
              "      <td>1</td>\n",
              "      <td>1</td>\n",
              "      <td>1</td>\n",
              "      <td>1</td>\n",
              "      <td>1</td>\n",
              "      <td>0</td>\n",
              "    </tr>\n",
              "    <tr>\n",
              "      <th>4</th>\n",
              "      <td>992</td>\n",
              "      <td>23393</td>\n",
              "      <td>1</td>\n",
              "      <td>155</td>\n",
              "      <td>62.0</td>\n",
              "      <td>120</td>\n",
              "      <td>80</td>\n",
              "      <td>1</td>\n",
              "      <td>1</td>\n",
              "      <td>0</td>\n",
              "      <td>0</td>\n",
              "      <td>1</td>\n",
              "      <td>0</td>\n",
              "    </tr>\n",
              "  </tbody>\n",
              "</table>\n",
              "</div>\n",
              "      <button class=\"colab-df-convert\" onclick=\"convertToInteractive('df-233ed49a-5fcd-46f8-b001-fc457f56473c')\"\n",
              "              title=\"Convert this dataframe to an interactive table.\"\n",
              "              style=\"display:none;\">\n",
              "        \n",
              "  <svg xmlns=\"http://www.w3.org/2000/svg\" height=\"24px\"viewBox=\"0 0 24 24\"\n",
              "       width=\"24px\">\n",
              "    <path d=\"M0 0h24v24H0V0z\" fill=\"none\"/>\n",
              "    <path d=\"M18.56 5.44l.94 2.06.94-2.06 2.06-.94-2.06-.94-.94-2.06-.94 2.06-2.06.94zm-11 1L8.5 8.5l.94-2.06 2.06-.94-2.06-.94L8.5 2.5l-.94 2.06-2.06.94zm10 10l.94 2.06.94-2.06 2.06-.94-2.06-.94-.94-2.06-.94 2.06-2.06.94z\"/><path d=\"M17.41 7.96l-1.37-1.37c-.4-.4-.92-.59-1.43-.59-.52 0-1.04.2-1.43.59L10.3 9.45l-7.72 7.72c-.78.78-.78 2.05 0 2.83L4 21.41c.39.39.9.59 1.41.59.51 0 1.02-.2 1.41-.59l7.78-7.78 2.81-2.81c.8-.78.8-2.07 0-2.86zM5.41 20L4 18.59l7.72-7.72 1.47 1.35L5.41 20z\"/>\n",
              "  </svg>\n",
              "      </button>\n",
              "      \n",
              "  <style>\n",
              "    .colab-df-container {\n",
              "      display:flex;\n",
              "      flex-wrap:wrap;\n",
              "      gap: 12px;\n",
              "    }\n",
              "\n",
              "    .colab-df-convert {\n",
              "      background-color: #E8F0FE;\n",
              "      border: none;\n",
              "      border-radius: 50%;\n",
              "      cursor: pointer;\n",
              "      display: none;\n",
              "      fill: #1967D2;\n",
              "      height: 32px;\n",
              "      padding: 0 0 0 0;\n",
              "      width: 32px;\n",
              "    }\n",
              "\n",
              "    .colab-df-convert:hover {\n",
              "      background-color: #E2EBFA;\n",
              "      box-shadow: 0px 1px 2px rgba(60, 64, 67, 0.3), 0px 1px 3px 1px rgba(60, 64, 67, 0.15);\n",
              "      fill: #174EA6;\n",
              "    }\n",
              "\n",
              "    [theme=dark] .colab-df-convert {\n",
              "      background-color: #3B4455;\n",
              "      fill: #D2E3FC;\n",
              "    }\n",
              "\n",
              "    [theme=dark] .colab-df-convert:hover {\n",
              "      background-color: #434B5C;\n",
              "      box-shadow: 0px 1px 3px 1px rgba(0, 0, 0, 0.15);\n",
              "      filter: drop-shadow(0px 1px 2px rgba(0, 0, 0, 0.3));\n",
              "      fill: #FFFFFF;\n",
              "    }\n",
              "  </style>\n",
              "\n",
              "      <script>\n",
              "        const buttonEl =\n",
              "          document.querySelector('#df-233ed49a-5fcd-46f8-b001-fc457f56473c button.colab-df-convert');\n",
              "        buttonEl.style.display =\n",
              "          google.colab.kernel.accessAllowed ? 'block' : 'none';\n",
              "\n",
              "        async function convertToInteractive(key) {\n",
              "          const element = document.querySelector('#df-233ed49a-5fcd-46f8-b001-fc457f56473c');\n",
              "          const dataTable =\n",
              "            await google.colab.kernel.invokeFunction('convertToInteractive',\n",
              "                                                     [key], {});\n",
              "          if (!dataTable) return;\n",
              "\n",
              "          const docLinkHtml = 'Like what you see? Visit the ' +\n",
              "            '<a target=\"_blank\" href=https://colab.research.google.com/notebooks/data_table.ipynb>data table notebook</a>'\n",
              "            + ' to learn more about interactive tables.';\n",
              "          element.innerHTML = '';\n",
              "          dataTable['output_type'] = 'display_data';\n",
              "          await google.colab.output.renderOutput(dataTable, element);\n",
              "          const docLink = document.createElement('div');\n",
              "          docLink.innerHTML = docLinkHtml;\n",
              "          element.appendChild(docLink);\n",
              "        }\n",
              "      </script>\n",
              "    </div>\n",
              "  </div>\n",
              "  "
            ]
          },
          "metadata": {},
          "execution_count": 71
        }
      ],
      "source": [
        "#Loading the dataset\n",
        "cardio_vascular_data = pd.read_csv(\"/content/drive/MyDrive/Colab Notebooks/Data/cardio_train.csv\", delimiter=\";\")\n",
        "cardio_vascular_data.head()"
      ]
    },
    {
      "cell_type": "markdown",
      "metadata": {
        "id": "TYtQLuWMPMnd"
      },
      "source": [
        "# Exploratory Data Analysis"
      ]
    },
    {
      "cell_type": "code",
      "execution_count": 72,
      "metadata": {
        "colab": {
          "base_uri": "https://localhost:8080/",
          "height": 679
        },
        "id": "Slv5TcqzOnV2",
        "outputId": "047df26b-e196-47a4-db84-04b564919ab4"
      },
      "outputs": [
        {
          "output_type": "stream",
          "name": "stderr",
          "text": [
            "/usr/local/lib/python3.7/dist-packages/seaborn/_decorators.py:43: FutureWarning: Pass the following variable as a keyword arg: x. From version 0.12, the only valid positional argument will be `data`, and passing other arguments without an explicit keyword will result in an error or misinterpretation.\n",
            "  FutureWarning\n"
          ]
        },
        {
          "output_type": "execute_result",
          "data": {
            "text/plain": [
              "<matplotlib.axes._subplots.AxesSubplot at 0x7febb9f72810>"
            ]
          },
          "metadata": {},
          "execution_count": 72
        },
        {
          "output_type": "display_data",
          "data": {
            "text/plain": [
              "<Figure size 720x720 with 1 Axes>"
            ],
            "image/png": "[encoded data removed]"
          },
          "metadata": {}
        }
      ],
      "source": [
        "sns.countplot(cardio_vascular_data['gender'])"
      ]
    },
    {
      "cell_type": "code",
      "execution_count": 73,
      "metadata": {
        "colab": {
          "base_uri": "https://localhost:8080/",
          "height": 679
        },
        "id": "7MymmLmrPUnM",
        "outputId": "1bf7ca4c-2ac2-4b92-c894-8e36eb1f2b68"
      },
      "outputs": [
        {
          "output_type": "stream",
          "name": "stderr",
          "text": [
            "/usr/local/lib/python3.7/dist-packages/seaborn/_decorators.py:43: FutureWarning: Pass the following variable as a keyword arg: x. From version 0.12, the only valid positional argument will be `data`, and passing other arguments without an explicit keyword will result in an error or misinterpretation.\n",
            "  FutureWarning\n"
          ]
        },
        {
          "output_type": "execute_result",
          "data": {
            "text/plain": [
              "<matplotlib.axes._subplots.AxesSubplot at 0x7febb9f2ec10>"
            ]
          },
          "metadata": {},
          "execution_count": 73
        },
        {
          "output_type": "display_data",
          "data": {
            "text/plain": [
              "<Figure size 720x720 with 1 Axes>"
            ],
            "image/png": "[encoded data removed]"
          },
          "metadata": {}
        }
      ],
      "source": [
        "sns.countplot(cardio_vascular_data['cholesterol'])"
      ]
    },
    {
      "cell_type": "code",
      "execution_count": 74,
      "metadata": {
        "colab": {
          "base_uri": "https://localhost:8080/",
          "height": 679
        },
        "id": "qSamLangPWtT",
        "outputId": "c8fc87cd-98d3-4da5-d689-b9d2bdcd86a4"
      },
      "outputs": [
        {
          "output_type": "stream",
          "name": "stderr",
          "text": [
            "/usr/local/lib/python3.7/dist-packages/seaborn/_decorators.py:43: FutureWarning: Pass the following variable as a keyword arg: x. From version 0.12, the only valid positional argument will be `data`, and passing other arguments without an explicit keyword will result in an error or misinterpretation.\n",
            "  FutureWarning\n"
          ]
        },
        {
          "output_type": "execute_result",
          "data": {
            "text/plain": [
              "<matplotlib.axes._subplots.AxesSubplot at 0x7febb9f12fd0>"
            ]
          },
          "metadata": {},
          "execution_count": 74
        },
        {
          "output_type": "display_data",
          "data": {
            "text/plain": [
              "<Figure size 720x720 with 1 Axes>"
            ],
            "image/png": "[encoded data removed]"
          },
          "metadata": {}
        }
      ],
      "source": [
        "sns.countplot(cardio_vascular_data['gluc'])"
      ]
    },
    {
      "cell_type": "code",
      "execution_count": 75,
      "metadata": {
        "colab": {
          "base_uri": "https://localhost:8080/",
          "height": 679
        },
        "id": "F4-GG4pwPYkp",
        "outputId": "6a8d1c36-6fd7-4a92-b5c6-a13a5fdc648c"
      },
      "outputs": [
        {
          "output_type": "stream",
          "name": "stderr",
          "text": [
            "/usr/local/lib/python3.7/dist-packages/seaborn/_decorators.py:43: FutureWarning: Pass the following variable as a keyword arg: x. From version 0.12, the only valid positional argument will be `data`, and passing other arguments without an explicit keyword will result in an error or misinterpretation.\n",
            "  FutureWarning\n"
          ]
        },
        {
          "output_type": "execute_result",
          "data": {
            "text/plain": [
              "<matplotlib.axes._subplots.AxesSubplot at 0x7febb9eb0dd0>"
            ]
          },
          "metadata": {},
          "execution_count": 75
        },
        {
          "output_type": "display_data",
          "data": {
            "text/plain": [
              "<Figure size 720x720 with 1 Axes>"
            ],
            "image/png": "[encoded data removed]"
          },
          "metadata": {}
        }
      ],
      "source": [
        "sns.countplot(cardio_vascular_data['alco'])"
      ]
    },
    {
      "cell_type": "code",
      "execution_count": 76,
      "metadata": {
        "colab": {
          "base_uri": "https://localhost:8080/",
          "height": 679
        },
        "id": "bVHQ4DzhPaLd",
        "outputId": "11781fb7-66e4-49d1-f974-2977ba0af4d1"
      },
      "outputs": [
        {
          "output_type": "stream",
          "name": "stderr",
          "text": [
            "/usr/local/lib/python3.7/dist-packages/seaborn/_decorators.py:43: FutureWarning: Pass the following variable as a keyword arg: x. From version 0.12, the only valid positional argument will be `data`, and passing other arguments without an explicit keyword will result in an error or misinterpretation.\n",
            "  FutureWarning\n"
          ]
        },
        {
          "output_type": "execute_result",
          "data": {
            "text/plain": [
              "<matplotlib.axes._subplots.AxesSubplot at 0x7febb9e4a590>"
            ]
          },
          "metadata": {},
          "execution_count": 76
        },
        {
          "output_type": "display_data",
          "data": {
            "text/plain": [
              "<Figure size 720x720 with 1 Axes>"
            ],
            "image/png": "[encoded data removed]"
          },
          "metadata": {}
        }
      ],
      "source": [
        "sns.countplot(cardio_vascular_data['smoke'])"
      ]
    },
    {
      "cell_type": "code",
      "execution_count": 77,
      "metadata": {
        "colab": {
          "base_uri": "https://localhost:8080/",
          "height": 679
        },
        "id": "D9Wq56OLPcB1",
        "outputId": "2625ce9f-7443-4f1b-e8e5-26a6db021804"
      },
      "outputs": [
        {
          "output_type": "stream",
          "name": "stderr",
          "text": [
            "/usr/local/lib/python3.7/dist-packages/seaborn/_decorators.py:43: FutureWarning: Pass the following variable as a keyword arg: x. From version 0.12, the only valid positional argument will be `data`, and passing other arguments without an explicit keyword will result in an error or misinterpretation.\n",
            "  FutureWarning\n"
          ]
        },
        {
          "output_type": "execute_result",
          "data": {
            "text/plain": [
              "<matplotlib.axes._subplots.AxesSubplot at 0x7febb9e24dd0>"
            ]
          },
          "metadata": {},
          "execution_count": 77
        },
        {
          "output_type": "display_data",
          "data": {
            "text/plain": [
              "<Figure size 720x720 with 1 Axes>"
            ],
            "image/png": "[encoded data removed]"
          },
          "metadata": {}
        }
      ],
      "source": [
        "sns.countplot(cardio_vascular_data['active'])"
      ]
    },
    {
      "cell_type": "code",
      "execution_count": 78,
      "metadata": {
        "colab": {
          "base_uri": "https://localhost:8080/",
          "height": 679
        },
        "id": "Bfr0ThHpPfMv",
        "outputId": "efb5758b-30c2-4b15-de66-b7b32b6688bf"
      },
      "outputs": [
        {
          "output_type": "stream",
          "name": "stderr",
          "text": [
            "/usr/local/lib/python3.7/dist-packages/seaborn/_decorators.py:43: FutureWarning: Pass the following variable as a keyword arg: x. From version 0.12, the only valid positional argument will be `data`, and passing other arguments without an explicit keyword will result in an error or misinterpretation.\n",
            "  FutureWarning\n"
          ]
        },
        {
          "output_type": "execute_result",
          "data": {
            "text/plain": [
              "<matplotlib.axes._subplots.AxesSubplot at 0x7febb9e4a8d0>"
            ]
          },
          "metadata": {},
          "execution_count": 78
        },
        {
          "output_type": "display_data",
          "data": {
            "text/plain": [
              "<Figure size 720x720 with 1 Axes>"
            ],
            "image/png": "[encoded data removed]"
          },
          "metadata": {}
        }
      ],
      "source": [
        "sns.countplot(cardio_vascular_data['cardio'])"
      ]
    },
    {
      "cell_type": "markdown",
      "metadata": {
        "id": "WYmcT4vZPzQv"
      },
      "source": [
        "# Data Preprocessing"
      ]
    },
    {
      "cell_type": "code",
      "execution_count": 79,
      "metadata": {
        "colab": {
          "base_uri": "https://localhost:8080/"
        },
        "id": "FeJWHdOOpDL6",
        "outputId": "1fd343a0-4e39-4944-e6b9-4aa4db650a51"
      },
      "outputs": [
        {
          "output_type": "stream",
          "name": "stdout",
          "text": [
            "<class 'pandas.core.frame.DataFrame'>\n",
            "RangeIndex: 69301 entries, 0 to 69300\n",
            "Data columns (total 13 columns):\n",
            " #   Column       Non-Null Count  Dtype  \n",
            "---  ------       --------------  -----  \n",
            " 0   id           69301 non-null  int64  \n",
            " 1   age          69301 non-null  int64  \n",
            " 2   gender       69301 non-null  int64  \n",
            " 3   height       69301 non-null  int64  \n",
            " 4   weight       69301 non-null  float64\n",
            " 5   ap_hi        69301 non-null  int64  \n",
            " 6   ap_lo        69301 non-null  int64  \n",
            " 7   cholesterol  69301 non-null  int64  \n",
            " 8   gluc         69301 non-null  int64  \n",
            " 9   smoke        69301 non-null  int64  \n",
            " 10  alco         69301 non-null  int64  \n",
            " 11  active       69301 non-null  int64  \n",
            " 12  cardio       69301 non-null  int64  \n",
            "dtypes: float64(1), int64(12)\n",
            "memory usage: 6.9 MB\n"
          ]
        }
      ],
      "source": [
        "#Checking the datatypes for all the attributes in the dataset\n",
        "cardio_vascular_data.info()"
      ]
    },
    {
      "cell_type": "code",
      "execution_count": 80,
      "metadata": {
        "colab": {
          "base_uri": "https://localhost:8080/"
        },
        "id": "DqC2dxrFrdV8",
        "outputId": "60fff2eb-d728-48af-a037-5b5e433c08d0"
      },
      "outputs": [
        {
          "output_type": "execute_result",
          "data": {
            "text/plain": [
              "id             0\n",
              "age            0\n",
              "gender         0\n",
              "height         0\n",
              "weight         0\n",
              "ap_hi          0\n",
              "ap_lo          0\n",
              "cholesterol    0\n",
              "gluc           0\n",
              "smoke          0\n",
              "alco           0\n",
              "active         0\n",
              "cardio         0\n",
              "dtype: int64"
            ]
          },
          "metadata": {},
          "execution_count": 80
        }
      ],
      "source": [
        "#Checking for null values in the dataset\n",
        "cardio_vascular_data.isnull().sum()"
      ]
    },
    {
      "cell_type": "code",
      "execution_count": 81,
      "metadata": {
        "colab": {
          "base_uri": "https://localhost:8080/",
          "height": 364
        },
        "id": "Zq1rOeY0VjOv",
        "outputId": "385277c7-f3e0-4931-83ee-5a7fe0ce67d6"
      },
      "outputs": [
        {
          "output_type": "execute_result",
          "data": {
            "text/plain": [
              "                 id           age        gender        height        weight  \\\n",
              "count  69301.000000  69301.000000  69301.000000  69301.000000  69301.000000   \n",
              "mean   50471.480397  19468.786280      1.349519    164.362217     74.203027   \n",
              "std    28563.100347   2467.261818      0.476821      8.205337     14.383469   \n",
              "min      988.000000  10798.000000      1.000000     55.000000     10.000000   \n",
              "25%    25745.000000  17664.000000      1.000000    159.000000     65.000000   \n",
              "50%    50494.000000  19704.000000      1.000000    165.000000     72.000000   \n",
              "75%    75150.000000  21326.000000      2.000000    170.000000     82.000000   \n",
              "max    99999.000000  23713.000000      2.000000    250.000000    200.000000   \n",
              "\n",
              "              ap_hi         ap_lo   cholesterol          gluc         smoke  \\\n",
              "count  69301.000000  69301.000000  69301.000000  69301.000000  69301.000000   \n",
              "mean     128.829584     96.650092      1.366806      1.226447      0.088051   \n",
              "std      154.775805    189.096240      0.680270      0.572246      0.283371   \n",
              "min     -150.000000    -70.000000      1.000000      1.000000      0.000000   \n",
              "25%      120.000000     80.000000      1.000000      1.000000      0.000000   \n",
              "50%      120.000000     80.000000      1.000000      1.000000      0.000000   \n",
              "75%      140.000000     90.000000      2.000000      1.000000      0.000000   \n",
              "max    16020.000000  11000.000000      3.000000      3.000000      1.000000   \n",
              "\n",
              "               alco        active        cardio  \n",
              "count  69301.000000  69301.000000  69301.000000  \n",
              "mean       0.053881      0.803986      0.499589  \n",
              "std        0.225784      0.396982      0.500003  \n",
              "min        0.000000      0.000000      0.000000  \n",
              "25%        0.000000      1.000000      0.000000  \n",
              "50%        0.000000      1.000000      0.000000  \n",
              "75%        0.000000      1.000000      1.000000  \n",
              "max        1.000000      1.000000      1.000000  "
            ],
            "text/html": [
              "\n",
              "  <div id=\"df-8b412960-b3df-4cf8-b349-51cbacc48843\">\n",
              "    <div class=\"colab-df-container\">\n",
              "      <div>\n",
              "<style scoped>\n",
              "    .dataframe tbody tr th:only-of-type {\n",
              "        vertical-align: middle;\n",
              "    }\n",
              "\n",
              "    .dataframe tbody tr th {\n",
              "        vertical-align: top;\n",
              "    }\n",
              "\n",
              "    .dataframe thead th {\n",
              "        text-align: right;\n",
              "    }\n",
              "</style>\n",
              "<table border=\"1\" class=\"dataframe\">\n",
              "  <thead>\n",
              "    <tr style=\"text-align: right;\">\n",
              "      <th></th>\n",
              "      <th>id</th>\n",
              "      <th>age</th>\n",
              "      <th>gender</th>\n",
              "      <th>height</th>\n",
              "      <th>weight</th>\n",
              "      <th>ap_hi</th>\n",
              "      <th>ap_lo</th>\n",
              "      <th>cholesterol</th>\n",
              "      <th>gluc</th>\n",
              "      <th>smoke</th>\n",
              "      <th>alco</th>\n",
              "      <th>active</th>\n",
              "      <th>cardio</th>\n",
              "    </tr>\n",
              "  </thead>\n",
              "  <tbody>\n",
              "    <tr>\n",
              "      <th>count</th>\n",
              "      <td>69301.000000</td>\n",
              "      <td>69301.000000</td>\n",
              "      <td>69301.000000</td>\n",
              "      <td>69301.000000</td>\n",
              "      <td>69301.000000</td>\n",
              "      <td>69301.000000</td>\n",
              "      <td>69301.000000</td>\n",
              "      <td>69301.000000</td>\n",
              "      <td>69301.000000</td>\n",
              "      <td>69301.000000</td>\n",
              "      <td>69301.000000</td>\n",
              "      <td>69301.000000</td>\n",
              "      <td>69301.000000</td>\n",
              "    </tr>\n",
              "    <tr>\n",
              "      <th>mean</th>\n",
              "      <td>50471.480397</td>\n",
              "      <td>19468.786280</td>\n",
              "      <td>1.349519</td>\n",
              "      <td>164.362217</td>\n",
              "      <td>74.203027</td>\n",
              "      <td>128.829584</td>\n",
              "      <td>96.650092</td>\n",
              "      <td>1.366806</td>\n",
              "      <td>1.226447</td>\n",
              "      <td>0.088051</td>\n",
              "      <td>0.053881</td>\n",
              "      <td>0.803986</td>\n",
              "      <td>0.499589</td>\n",
              "    </tr>\n",
              "    <tr>\n",
              "      <th>std</th>\n",
              "      <td>28563.100347</td>\n",
              "      <td>2467.261818</td>\n",
              "      <td>0.476821</td>\n",
              "      <td>8.205337</td>\n",
              "      <td>14.383469</td>\n",
              "      <td>154.775805</td>\n",
              "      <td>189.096240</td>\n",
              "      <td>0.680270</td>\n",
              "      <td>0.572246</td>\n",
              "      <td>0.283371</td>\n",
              "      <td>0.225784</td>\n",
              "      <td>0.396982</td>\n",
              "      <td>0.500003</td>\n",
              "    </tr>\n",
              "    <tr>\n",
              "      <th>min</th>\n",
              "      <td>988.000000</td>\n",
              "      <td>10798.000000</td>\n",
              "      <td>1.000000</td>\n",
              "      <td>55.000000</td>\n",
              "      <td>10.000000</td>\n",
              "      <td>-150.000000</td>\n",
              "      <td>-70.000000</td>\n",
              "      <td>1.000000</td>\n",
              "      <td>1.000000</td>\n",
              "      <td>0.000000</td>\n",
              "      <td>0.000000</td>\n",
              "      <td>0.000000</td>\n",
              "      <td>0.000000</td>\n",
              "    </tr>\n",
              "    <tr>\n",
              "      <th>25%</th>\n",
              "      <td>25745.000000</td>\n",
              "      <td>17664.000000</td>\n",
              "      <td>1.000000</td>\n",
              "      <td>159.000000</td>\n",
              "      <td>65.000000</td>\n",
              "      <td>120.000000</td>\n",
              "      <td>80.000000</td>\n",
              "      <td>1.000000</td>\n",
              "      <td>1.000000</td>\n",
              "      <td>0.000000</td>\n",
              "      <td>0.000000</td>\n",
              "      <td>1.000000</td>\n",
              "      <td>0.000000</td>\n",
              "    </tr>\n",
              "    <tr>\n",
              "      <th>50%</th>\n",
              "      <td>50494.000000</td>\n",
              "      <td>19704.000000</td>\n",
              "      <td>1.000000</td>\n",
              "      <td>165.000000</td>\n",
              "      <td>72.000000</td>\n",
              "      <td>120.000000</td>\n",
              "      <td>80.000000</td>\n",
              "      <td>1.000000</td>\n",
              "      <td>1.000000</td>\n",
              "      <td>0.000000</td>\n",
              "      <td>0.000000</td>\n",
              "      <td>1.000000</td>\n",
              "      <td>0.000000</td>\n",
              "    </tr>\n",
              "    <tr>\n",
              "      <th>75%</th>\n",
              "      <td>75150.000000</td>\n",
              "      <td>21326.000000</td>\n",
              "      <td>2.000000</td>\n",
              "      <td>170.000000</td>\n",
              "      <td>82.000000</td>\n",
              "      <td>140.000000</td>\n",
              "      <td>90.000000</td>\n",
              "      <td>2.000000</td>\n",
              "      <td>1.000000</td>\n",
              "      <td>0.000000</td>\n",
              "      <td>0.000000</td>\n",
              "      <td>1.000000</td>\n",
              "      <td>1.000000</td>\n",
              "    </tr>\n",
              "    <tr>\n",
              "      <th>max</th>\n",
              "      <td>99999.000000</td>\n",
              "      <td>23713.000000</td>\n",
              "      <td>2.000000</td>\n",
              "      <td>250.000000</td>\n",
              "      <td>200.000000</td>\n",
              "      <td>16020.000000</td>\n",
              "      <td>11000.000000</td>\n",
              "      <td>3.000000</td>\n",
              "      <td>3.000000</td>\n",
              "      <td>1.000000</td>\n",
              "      <td>1.000000</td>\n",
              "      <td>1.000000</td>\n",
              "      <td>1.000000</td>\n",
              "    </tr>\n",
              "  </tbody>\n",
              "</table>\n",
              "</div>\n",
              "      <button class=\"colab-df-convert\" onclick=\"convertToInteractive('df-8b412960-b3df-4cf8-b349-51cbacc48843')\"\n",
              "              title=\"Convert this dataframe to an interactive table.\"\n",
              "              style=\"display:none;\">\n",
              "        \n",
              "  <svg xmlns=\"http://www.w3.org/2000/svg\" height=\"24px\"viewBox=\"0 0 24 24\"\n",
              "       width=\"24px\">\n",
              "    <path d=\"M0 0h24v24H0V0z\" fill=\"none\"/>\n",
              "    <path d=\"M18.56 5.44l.94 2.06.94-2.06 2.06-.94-2.06-.94-.94-2.06-.94 2.06-2.06.94zm-11 1L8.5 8.5l.94-2.06 2.06-.94-2.06-.94L8.5 2.5l-.94 2.06-2.06.94zm10 10l.94 2.06.94-2.06 2.06-.94-2.06-.94-.94-2.06-.94 2.06-2.06.94z\"/><path d=\"M17.41 7.96l-1.37-1.37c-.4-.4-.92-.59-1.43-.59-.52 0-1.04.2-1.43.59L10.3 9.45l-7.72 7.72c-.78.78-.78 2.05 0 2.83L4 21.41c.39.39.9.59 1.41.59.51 0 1.02-.2 1.41-.59l7.78-7.78 2.81-2.81c.8-.78.8-2.07 0-2.86zM5.41 20L4 18.59l7.72-7.72 1.47 1.35L5.41 20z\"/>\n",
              "  </svg>\n",
              "      </button>\n",
              "      \n",
              "  <style>\n",
              "    .colab-df-container {\n",
              "      display:flex;\n",
              "      flex-wrap:wrap;\n",
              "      gap: 12px;\n",
              "    }\n",
              "\n",
              "    .colab-df-convert {\n",
              "      background-color: #E8F0FE;\n",
              "      border: none;\n",
              "      border-radius: 50%;\n",
              "      cursor: pointer;\n",
              "      display: none;\n",
              "      fill: #1967D2;\n",
              "      height: 32px;\n",
              "      padding: 0 0 0 0;\n",
              "      width: 32px;\n",
              "    }\n",
              "\n",
              "    .colab-df-convert:hover {\n",
              "      background-color: #E2EBFA;\n",
              "      box-shadow: 0px 1px 2px rgba(60, 64, 67, 0.3), 0px 1px 3px 1px rgba(60, 64, 67, 0.15);\n",
              "      fill: #174EA6;\n",
              "    }\n",
              "\n",
              "    [theme=dark] .colab-df-convert {\n",
              "      background-color: #3B4455;\n",
              "      fill: #D2E3FC;\n",
              "    }\n",
              "\n",
              "    [theme=dark] .colab-df-convert:hover {\n",
              "      background-color: #434B5C;\n",
              "      box-shadow: 0px 1px 3px 1px rgba(0, 0, 0, 0.15);\n",
              "      filter: drop-shadow(0px 1px 2px rgba(0, 0, 0, 0.3));\n",
              "      fill: #FFFFFF;\n",
              "    }\n",
              "  </style>\n",
              "\n",
              "      <script>\n",
              "        const buttonEl =\n",
              "          document.querySelector('#df-8b412960-b3df-4cf8-b349-51cbacc48843 button.colab-df-convert');\n",
              "        buttonEl.style.display =\n",
              "          google.colab.kernel.accessAllowed ? 'block' : 'none';\n",
              "\n",
              "        async function convertToInteractive(key) {\n",
              "          const element = document.querySelector('#df-8b412960-b3df-4cf8-b349-51cbacc48843');\n",
              "          const dataTable =\n",
              "            await google.colab.kernel.invokeFunction('convertToInteractive',\n",
              "                                                     [key], {});\n",
              "          if (!dataTable) return;\n",
              "\n",
              "          const docLinkHtml = 'Like what you see? Visit the ' +\n",
              "            '<a target=\"_blank\" href=https://colab.research.google.com/notebooks/data_table.ipynb>data table notebook</a>'\n",
              "            + ' to learn more about interactive tables.';\n",
              "          element.innerHTML = '';\n",
              "          dataTable['output_type'] = 'display_data';\n",
              "          await google.colab.output.renderOutput(dataTable, element);\n",
              "          const docLink = document.createElement('div');\n",
              "          docLink.innerHTML = docLinkHtml;\n",
              "          element.appendChild(docLink);\n",
              "        }\n",
              "      </script>\n",
              "    </div>\n",
              "  </div>\n",
              "  "
            ]
          },
          "metadata": {},
          "execution_count": 81
        }
      ],
      "source": [
        "#Checking for the starting and ending values to find out the outliers present in the dataset\n",
        "cardio_vascular_data.describe()"
      ]
    },
    {
      "cell_type": "code",
      "execution_count": 82,
      "metadata": {
        "id": "-_9MHJapbytZ"
      },
      "outputs": [],
      "source": [
        "#Age attribute is in the form of number of days. So, converting age to number of years.\n",
        "cardio_vascular_data['age'] = cardio_vascular_data['age']/365.25"
      ]
    },
    {
      "cell_type": "code",
      "execution_count": 83,
      "metadata": {
        "id": "lyNgy09pdXXk"
      },
      "outputs": [],
      "source": [
        "#Dropping the data entries where ap_hi and ap_lo are out of range.\n",
        "cardio_vascular_data.drop(cardio_vascular_data.query('ap_hi >220 or ap_lo >180 or ap_hi<40 or ap_lo<40').index, axis=0, inplace=True)"
      ]
    },
    {
      "cell_type": "code",
      "execution_count": 84,
      "metadata": {
        "colab": {
          "base_uri": "https://localhost:8080/",
          "height": 206
        },
        "id": "1s8oqW4zfqoq",
        "outputId": "3ed11e87-97a1-47a8-c569-2691caffeff8"
      },
      "outputs": [
        {
          "output_type": "execute_result",
          "data": {
            "text/plain": [
              "    id        age  gender  height  weight  ap_hi  ap_lo  cholesterol  gluc  \\\n",
              "0  988  61.516769       1     155    69.0    130     80            2     2   \n",
              "1  989  40.104038       1     163    71.0    110     70            1     1   \n",
              "2  990  59.961670       1     165    70.0    120     80            1     1   \n",
              "3  991  39.832991       2     165    85.0    120     80            1     1   \n",
              "4  992  64.046543       1     155    62.0    120     80            1     1   \n",
              "\n",
              "   smoke  alco  active  cardio  \n",
              "0      0     0       1       0  \n",
              "1      0     0       1       1  \n",
              "2      0     0       1       0  \n",
              "3      1     1       1       0  \n",
              "4      0     0       1       0  "
            ],
            "text/html": [
              "\n",
              "  <div id=\"df-ca497553-99da-493a-8637-56a3880ee739\">\n",
              "    <div class=\"colab-df-container\">\n",
              "      <div>\n",
              "<style scoped>\n",
              "    .dataframe tbody tr th:only-of-type {\n",
              "        vertical-align: middle;\n",
              "    }\n",
              "\n",
              "    .dataframe tbody tr th {\n",
              "        vertical-align: top;\n",
              "    }\n",
              "\n",
              "    .dataframe thead th {\n",
              "        text-align: right;\n",
              "    }\n",
              "</style>\n",
              "<table border=\"1\" class=\"dataframe\">\n",
              "  <thead>\n",
              "    <tr style=\"text-align: right;\">\n",
              "      <th></th>\n",
              "      <th>id</th>\n",
              "      <th>age</th>\n",
              "      <th>gender</th>\n",
              "      <th>height</th>\n",
              "      <th>weight</th>\n",
              "      <th>ap_hi</th>\n",
              "      <th>ap_lo</th>\n",
              "      <th>cholesterol</th>\n",
              "      <th>gluc</th>\n",
              "      <th>smoke</th>\n",
              "      <th>alco</th>\n",
              "      <th>active</th>\n",
              "      <th>cardio</th>\n",
              "    </tr>\n",
              "  </thead>\n",
              "  <tbody>\n",
              "    <tr>\n",
              "      <th>0</th>\n",
              "      <td>988</td>\n",
              "      <td>61.516769</td>\n",
              "      <td>1</td>\n",
              "      <td>155</td>\n",
              "      <td>69.0</td>\n",
              "      <td>130</td>\n",
              "      <td>80</td>\n",
              "      <td>2</td>\n",
              "      <td>2</td>\n",
              "      <td>0</td>\n",
              "      <td>0</td>\n",
              "      <td>1</td>\n",
              "      <td>0</td>\n",
              "    </tr>\n",
              "    <tr>\n",
              "      <th>1</th>\n",
              "      <td>989</td>\n",
              "      <td>40.104038</td>\n",
              "      <td>1</td>\n",
              "      <td>163</td>\n",
              "      <td>71.0</td>\n",
              "      <td>110</td>\n",
              "      <td>70</td>\n",
              "      <td>1</td>\n",
              "      <td>1</td>\n",
              "      <td>0</td>\n",
              "      <td>0</td>\n",
              "      <td>1</td>\n",
              "      <td>1</td>\n",
              "    </tr>\n",
              "    <tr>\n",
              "      <th>2</th>\n",
              "      <td>990</td>\n",
              "      <td>59.961670</td>\n",
              "      <td>1</td>\n",
              "      <td>165</td>\n",
              "      <td>70.0</td>\n",
              "      <td>120</td>\n",
              "      <td>80</td>\n",
              "      <td>1</td>\n",
              "      <td>1</td>\n",
              "      <td>0</td>\n",
              "      <td>0</td>\n",
              "      <td>1</td>\n",
              "      <td>0</td>\n",
              "    </tr>\n",
              "    <tr>\n",
              "      <th>3</th>\n",
              "      <td>991</td>\n",
              "      <td>39.832991</td>\n",
              "      <td>2</td>\n",
              "      <td>165</td>\n",
              "      <td>85.0</td>\n",
              "      <td>120</td>\n",
              "      <td>80</td>\n",
              "      <td>1</td>\n",
              "      <td>1</td>\n",
              "      <td>1</td>\n",
              "      <td>1</td>\n",
              "      <td>1</td>\n",
              "      <td>0</td>\n",
              "    </tr>\n",
              "    <tr>\n",
              "      <th>4</th>\n",
              "      <td>992</td>\n",
              "      <td>64.046543</td>\n",
              "      <td>1</td>\n",
              "      <td>155</td>\n",
              "      <td>62.0</td>\n",
              "      <td>120</td>\n",
              "      <td>80</td>\n",
              "      <td>1</td>\n",
              "      <td>1</td>\n",
              "      <td>0</td>\n",
              "      <td>0</td>\n",
              "      <td>1</td>\n",
              "      <td>0</td>\n",
              "    </tr>\n",
              "  </tbody>\n",
              "</table>\n",
              "</div>\n",
              "      <button class=\"colab-df-convert\" onclick=\"convertToInteractive('df-ca497553-99da-493a-8637-56a3880ee739')\"\n",
              "              title=\"Convert this dataframe to an interactive table.\"\n",
              "              style=\"display:none;\">\n",
              "        \n",
              "  <svg xmlns=\"http://www.w3.org/2000/svg\" height=\"24px\"viewBox=\"0 0 24 24\"\n",
              "       width=\"24px\">\n",
              "    <path d=\"M0 0h24v24H0V0z\" fill=\"none\"/>\n",
              "    <path d=\"M18.56 5.44l.94 2.06.94-2.06 2.06-.94-2.06-.94-.94-2.06-.94 2.06-2.06.94zm-11 1L8.5 8.5l.94-2.06 2.06-.94-2.06-.94L8.5 2.5l-.94 2.06-2.06.94zm10 10l.94 2.06.94-2.06 2.06-.94-2.06-.94-.94-2.06-.94 2.06-2.06.94z\"/><path d=\"M17.41 7.96l-1.37-1.37c-.4-.4-.92-.59-1.43-.59-.52 0-1.04.2-1.43.59L10.3 9.45l-7.72 7.72c-.78.78-.78 2.05 0 2.83L4 21.41c.39.39.9.59 1.41.59.51 0 1.02-.2 1.41-.59l7.78-7.78 2.81-2.81c.8-.78.8-2.07 0-2.86zM5.41 20L4 18.59l7.72-7.72 1.47 1.35L5.41 20z\"/>\n",
              "  </svg>\n",
              "      </button>\n",
              "      \n",
              "  <style>\n",
              "    .colab-df-container {\n",
              "      display:flex;\n",
              "      flex-wrap:wrap;\n",
              "      gap: 12px;\n",
              "    }\n",
              "\n",
              "    .colab-df-convert {\n",
              "      background-color: #E8F0FE;\n",
              "      border: none;\n",
              "      border-radius: 50%;\n",
              "      cursor: pointer;\n",
              "      display: none;\n",
              "      fill: #1967D2;\n",
              "      height: 32px;\n",
              "      padding: 0 0 0 0;\n",
              "      width: 32px;\n",
              "    }\n",
              "\n",
              "    .colab-df-convert:hover {\n",
              "      background-color: #E2EBFA;\n",
              "      box-shadow: 0px 1px 2px rgba(60, 64, 67, 0.3), 0px 1px 3px 1px rgba(60, 64, 67, 0.15);\n",
              "      fill: #174EA6;\n",
              "    }\n",
              "\n",
              "    [theme=dark] .colab-df-convert {\n",
              "      background-color: #3B4455;\n",
              "      fill: #D2E3FC;\n",
              "    }\n",
              "\n",
              "    [theme=dark] .colab-df-convert:hover {\n",
              "      background-color: #434B5C;\n",
              "      box-shadow: 0px 1px 3px 1px rgba(0, 0, 0, 0.15);\n",
              "      filter: drop-shadow(0px 1px 2px rgba(0, 0, 0, 0.3));\n",
              "      fill: #FFFFFF;\n",
              "    }\n",
              "  </style>\n",
              "\n",
              "      <script>\n",
              "        const buttonEl =\n",
              "          document.querySelector('#df-ca497553-99da-493a-8637-56a3880ee739 button.colab-df-convert');\n",
              "        buttonEl.style.display =\n",
              "          google.colab.kernel.accessAllowed ? 'block' : 'none';\n",
              "\n",
              "        async function convertToInteractive(key) {\n",
              "          const element = document.querySelector('#df-ca497553-99da-493a-8637-56a3880ee739');\n",
              "          const dataTable =\n",
              "            await google.colab.kernel.invokeFunction('convertToInteractive',\n",
              "                                                     [key], {});\n",
              "          if (!dataTable) return;\n",
              "\n",
              "          const docLinkHtml = 'Like what you see? Visit the ' +\n",
              "            '<a target=\"_blank\" href=https://colab.research.google.com/notebooks/data_table.ipynb>data table notebook</a>'\n",
              "            + ' to learn more about interactive tables.';\n",
              "          element.innerHTML = '';\n",
              "          dataTable['output_type'] = 'display_data';\n",
              "          await google.colab.output.renderOutput(dataTable, element);\n",
              "          const docLink = document.createElement('div');\n",
              "          docLink.innerHTML = docLinkHtml;\n",
              "          element.appendChild(docLink);\n",
              "        }\n",
              "      </script>\n",
              "    </div>\n",
              "  </div>\n",
              "  "
            ]
          },
          "metadata": {},
          "execution_count": 84
        }
      ],
      "source": [
        "#Displaying the top 5 entries from the datatset to check if the data is preprocessed properly.\n",
        "cardio_vascular_data.head()"
      ]
    },
    {
      "cell_type": "markdown",
      "metadata": {
        "id": "befAlBs2jyfp"
      },
      "source": [
        "# Correlation Matrix Plot "
      ]
    },
    {
      "cell_type": "markdown",
      "metadata": {
        "id": "K9lpF7ibjyfq"
      },
      "source": [
        "### Correlation Matrix Visualization without Values "
      ]
    },
    {
      "cell_type": "code",
      "execution_count": 85,
      "metadata": {
        "colab": {
          "base_uri": "https://localhost:8080/",
          "height": 609
        },
        "id": "RHsIJtHdjugx",
        "outputId": "4137dc6a-dc6c-4930-a5c6-556f106e72c1"
      },
      "outputs": [
        {
          "output_type": "execute_result",
          "data": {
            "text/plain": [
              "<matplotlib.colorbar.Colorbar at 0x7febb9cc48d0>"
            ]
          },
          "metadata": {},
          "execution_count": 85
        },
        {
          "output_type": "display_data",
          "data": {
            "text/plain": [
              "<Figure size 720x720 with 2 Axes>"
            ],
            "image/png": "[encoded data removed]"
          },
          "metadata": {}
        }
      ],
      "source": [
        "#Correlation matrix for finding out which attributes(features) are correlated.\n",
        "rcParams['figure.figsize'] = 10,10\n",
        "plt.matshow(cardio_vascular_data.corr())\n",
        "plt.yticks(np.arange(cardio_vascular_data.shape[1]), cardio_vascular_data.columns ,rotation='horizontal')\n",
        "plt.xticks(np.arange(cardio_vascular_data.shape[1]), cardio_vascular_data.columns, rotation='vertical')\n",
        "plt.colorbar()"
      ]
    },
    {
      "cell_type": "markdown",
      "metadata": {
        "id": "wkcEbu5tjyfr"
      },
      "source": [
        "### Correlation Matrix Visualization with Values "
      ]
    },
    {
      "cell_type": "code",
      "execution_count": 86,
      "metadata": {
        "colab": {
          "base_uri": "https://localhost:8080/",
          "height": 665
        },
        "id": "btSwj8_ur_-G",
        "outputId": "9b323e4c-bd32-4e35-cfc4-78367f5c95d8"
      },
      "outputs": [
        {
          "output_type": "display_data",
          "data": {
            "text/plain": [
              "<Figure size 720x720 with 2 Axes>"
            ],
            "image/png": "[encoded data removed]"
          },
          "metadata": {}
        }
      ],
      "source": [
        "corrmat = cardio_vascular_data.corr()\n",
        "\n",
        "plt.figure(figsize=(10,10))\n",
        "sns.set(font_scale=2)\n",
        "hm = sns.heatmap(corrmat,cmap = 'Set1', cbar=True, annot=True,vmin=0,vmax =1,center=True, square=True, fmt='.2f', annot_kws={'size': 10},\n",
        "             yticklabels = cardio_vascular_data.columns, xticklabels = cardio_vascular_data.columns)\n",
        "plt.show()"
      ]
    },
    {
      "cell_type": "code",
      "execution_count": 87,
      "metadata": {
        "colab": {
          "base_uri": "https://localhost:8080/",
          "height": 902
        },
        "id": "T82cuIBl3odl",
        "outputId": "bde2e6a0-272d-4b40-9469-7e920e9e1167"
      },
      "outputs": [
        {
          "output_type": "execute_result",
          "data": {
            "text/plain": [
              "array([[<matplotlib.axes._subplots.AxesSubplot object at 0x7febb9d65c10>,\n",
              "        <matplotlib.axes._subplots.AxesSubplot object at 0x7febba8a1a10>,\n",
              "        <matplotlib.axes._subplots.AxesSubplot object at 0x7febbabd5b10>,\n",
              "        <matplotlib.axes._subplots.AxesSubplot object at 0x7febba639dd0>],\n",
              "       [<matplotlib.axes._subplots.AxesSubplot object at 0x7febba4db550>,\n",
              "        <matplotlib.axes._subplots.AxesSubplot object at 0x7febbae44ad0>,\n",
              "        <matplotlib.axes._subplots.AxesSubplot object at 0x7febbfcc1850>,\n",
              "        <matplotlib.axes._subplots.AxesSubplot object at 0x7febbfc90890>],\n",
              "       [<matplotlib.axes._subplots.AxesSubplot object at 0x7febbfc90bd0>,\n",
              "        <matplotlib.axes._subplots.AxesSubplot object at 0x7febbfbe9bd0>,\n",
              "        <matplotlib.axes._subplots.AxesSubplot object at 0x7febbfd4ab50>,\n",
              "        <matplotlib.axes._subplots.AxesSubplot object at 0x7febbfdc9290>],\n",
              "       [<matplotlib.axes._subplots.AxesSubplot object at 0x7febbfc95590>,\n",
              "        <matplotlib.axes._subplots.AxesSubplot object at 0x7febb9977b90>,\n",
              "        <matplotlib.axes._subplots.AxesSubplot object at 0x7febb993b1d0>,\n",
              "        <matplotlib.axes._subplots.AxesSubplot object at 0x7febb98f17d0>]],\n",
              "      dtype=object)"
            ]
          },
          "metadata": {},
          "execution_count": 87
        },
        {
          "output_type": "display_data",
          "data": {
            "text/plain": [
              "<Figure size 720x720 with 16 Axes>"
            ],
            "image/png": "[encoded data removed]"
          },
          "metadata": {}
        }
      ],
      "source": [
        "sns.set(font_scale=0.8)\n",
        "cardio_vascular_data.hist()"
      ]
    },
    {
      "cell_type": "code",
      "execution_count": 88,
      "metadata": {
        "id": "ojZmea6Ov0Ce"
      },
      "outputs": [],
      "source": [
        "#Dropping attribute \"id\" as it is not important for classifying the CVD \n",
        "#and setting X(input features) and y(target variable) for using the classification model on the data.\n",
        "X = cardio_vascular_data.drop(['id','cardio'], axis=1)\n",
        "y = cardio_vascular_data['cardio']"
      ]
    },
    {
      "cell_type": "markdown",
      "metadata": {
        "id": "IRdUo9ERjyft"
      },
      "source": [
        "# Applying Machine Learning Model to the Processed Data "
      ]
    },
    {
      "cell_type": "markdown",
      "metadata": {
        "id": "hkmZOfXcT_-i"
      },
      "source": [
        "# 1. Random Forest Classifier "
      ]
    },
    {
      "cell_type": "code",
      "execution_count": 89,
      "metadata": {
        "id": "jMCP6WZsvGek"
      },
      "outputs": [],
      "source": [
        "#Splitting the dataset into training and testing dataset.\n",
        "#Tried Random Forest Classifier model for different number of Decision Trees.\n",
        "\n",
        "acc__train_rfc = []\n",
        "y_pred_train_rfc = []\n",
        "acc__test_rfc = []\n",
        "y_pred_test_rfc = []\n",
        "cnt = 0\n",
        "\n",
        "no_of_decision_trees = [10, 20, 30, 40, 50, 60, 70, 80, 90, 100, 110, 120, 130, 140, 150, 160, 170, 180, 190, 200]\n",
        "X_train, X_test, y_train, y_test = train_test_split(X, y, train_size = .66)\n",
        "\n",
        "for i in no_of_decision_trees:\n",
        "  random_forest_model = RandomForestClassifier(n_estimators=i, max_depth=8, random_state=0)\n",
        "  random_forest_model.fit(X_train, y_train)\n",
        "  y_pred_train_rfc.append(random_forest_model.predict(X_train))\n",
        "  y_pred_test_rfc.append(random_forest_model.predict(X_test))\n",
        "\n",
        "  acc__train_rfc.append(accuracy_score(y_train, y_pred_train_rfc[cnt]))\n",
        "  acc__test_rfc.append(accuracy_score(y_test, y_pred_test_rfc[cnt]))\n",
        "\n",
        "  cnt += 1"
      ]
    },
    {
      "cell_type": "code",
      "source": [
        "#Printing Training and Testing Accuracies for different number of decision trees.\n",
        "\n",
        "for i in range(0,20):\n",
        "  print(\"\\nTraining and Testing Accuracy for \", no_of_decision_trees[i],\" Decision Trees: \")\n",
        "  print(\"Training Accuracy: \", acc__train_rfc[i])\n",
        "  print(\"Testing Accuracy: \", acc__test_rfc[i])"
      ],
      "metadata": {
        "colab": {
          "base_uri": "https://localhost:8080/"
        },
        "id": "FgyZXG7vrAe9",
        "outputId": "8c6a47d8-1d31-4942-a7f4-384846a6249c"
      },
      "execution_count": 90,
      "outputs": [
        {
          "output_type": "stream",
          "name": "stdout",
          "text": [
            "\n",
            "Training and Testing Accuracy for  10  Decision Trees: \n",
            "Training Accuracy:  0.7401958602270198\n",
            "Testing Accuracy:  0.7323627251911695\n",
            "\n",
            "Training and Testing Accuracy for  20  Decision Trees: \n",
            "Training Accuracy:  0.7426886267527265\n",
            "Testing Accuracy:  0.7344364280468311\n",
            "\n",
            "Training and Testing Accuracy for  30  Decision Trees: \n",
            "Training Accuracy:  0.7431115067883374\n",
            "Testing Accuracy:  0.7354300773318356\n",
            "\n",
            "Training and Testing Accuracy for  40  Decision Trees: \n",
            "Training Accuracy:  0.7425550856888493\n",
            "Testing Accuracy:  0.7362941201883614\n",
            "\n",
            "Training and Testing Accuracy for  50  Decision Trees: \n",
            "Training Accuracy:  0.742243489873136\n",
            "Testing Accuracy:  0.7357756944744459\n",
            "\n",
            "Training and Testing Accuracy for  60  Decision Trees: \n",
            "Training Accuracy:  0.7424215446249722\n",
            "Testing Accuracy:  0.7355596837603146\n",
            "\n",
            "Training and Testing Accuracy for  70  Decision Trees: \n",
            "Training Accuracy:  0.7419764077453816\n",
            "Testing Accuracy:  0.7358188966172722\n",
            "\n",
            "Training and Testing Accuracy for  80  Decision Trees: \n",
            "Training Accuracy:  0.7422212330291564\n",
            "Testing Accuracy:  0.7362509180455351\n",
            "\n",
            "Training and Testing Accuracy for  90  Decision Trees: \n",
            "Training Accuracy:  0.7420654351212999\n",
            "Testing Accuracy:  0.7360349073314036\n",
            "\n",
            "Training and Testing Accuracy for  100  Decision Trees: \n",
            "Training Accuracy:  0.7420431782773202\n",
            "Testing Accuracy:  0.7357324923316196\n",
            "\n",
            "Training and Testing Accuracy for  110  Decision Trees: \n",
            "Training Accuracy:  0.7418206098375251\n",
            "Testing Accuracy:  0.7353868751890094\n",
            "\n",
            "Training and Testing Accuracy for  120  Decision Trees: \n",
            "Training Accuracy:  0.7423547740930336\n",
            "Testing Accuracy:  0.7362941201883614\n",
            "\n",
            "Training and Testing Accuracy for  130  Decision Trees: \n",
            "Training Accuracy:  0.742154462497218\n",
            "Testing Accuracy:  0.7362941201883614\n",
            "\n",
            "Training and Testing Accuracy for  140  Decision Trees: \n",
            "Training Accuracy:  0.7421989761851769\n",
            "Testing Accuracy:  0.7356460880459671\n",
            "\n",
            "Training and Testing Accuracy for  150  Decision Trees: \n",
            "Training Accuracy:  0.7425550856888493\n",
            "Testing Accuracy:  0.7357756944744459\n",
            "\n",
            "Training and Testing Accuracy for  160  Decision Trees: \n",
            "Training Accuracy:  0.7423770309370131\n",
            "Testing Accuracy:  0.7355164816174883\n",
            "\n",
            "Training and Testing Accuracy for  170  Decision Trees: \n",
            "Training Accuracy:  0.7422657467171155\n",
            "Testing Accuracy:  0.7356460880459671\n",
            "\n",
            "Training and Testing Accuracy for  180  Decision Trees: \n",
            "Training Accuracy:  0.7425328288448698\n",
            "Testing Accuracy:  0.7355164816174883\n",
            "\n",
            "Training and Testing Accuracy for  190  Decision Trees: \n",
            "Training Accuracy:  0.7425105720008903\n",
            "Testing Accuracy:  0.7353868751890094\n",
            "\n",
            "Training and Testing Accuracy for  200  Decision Trees: \n",
            "Training Accuracy:  0.7423992877809926\n",
            "Testing Accuracy:  0.7350844601892254\n"
          ]
        }
      ]
    },
    {
      "cell_type": "code",
      "source": [
        "#Plotting Training and Testing Accuracies for different number of decision trees.\n",
        "\n",
        "labels = [10,20,30,40,50,60,70,80,90,100,110,120,130,140,150,160,170,180,190,200]\n",
        "plt.xticks([0,1,2,3,4,5,6,7,8,9,10,11,12,13,14,15,16,17,18,19],labels)\n",
        "plt.xlabel(\"Decision Trees\")\n",
        "plt.ylabel(\"Accuracy\")\n",
        "plt.plot(acc__train_rfc,label='Training Accuracy')\n",
        "plt.plot(acc__test_rfc,label='Testing Accuracy')\n",
        "plt.legend()"
      ],
      "metadata": {
        "colab": {
          "base_uri": "https://localhost:8080/",
          "height": 624
        },
        "id": "YzgeVqu6pCBh",
        "outputId": "f681119e-42ce-42e1-94d9-24e518d6ad67"
      },
      "execution_count": 101,
      "outputs": [
        {
          "output_type": "execute_result",
          "data": {
            "text/plain": [
              "<matplotlib.legend.Legend at 0x7febb70ae350>"
            ]
          },
          "metadata": {},
          "execution_count": 101
        },
        {
          "output_type": "display_data",
          "data": {
            "text/plain": [
              "<Figure size 720x720 with 1 Axes>"
            ],
            "image/png": "[encoded data removed]"
          },
          "metadata": {}
        }
      ]
    },
    {
      "cell_type": "code",
      "source": [
        "#Printing Testing and Training Accuracy and Confusion Matrix for the best number of decision trees.\n",
        "#i.e. For the number of decision trees that has highest testing accuracy in Random Forest Classifier.\n",
        "\n",
        "max_test_accuracy = max(acc__test_rfc)\n",
        "index = acc__test_rfc.index(max_test_accuracy)\n",
        "print(\"Maximum Testing Accuracy found for \", no_of_decision_trees[index], \"Decision Trees.\")\n",
        "print(\"\\nTraining Accuracy: \", acc__train_rfc[index])\n",
        "print(\"Testing Accuracy: \", acc__test_rfc[index])\n",
        "\n",
        "print(\"\\n\\nConfusion Matrix for the Training Dataset\")\n",
        "print(confusion_matrix(y_train, y_pred_train_rfc[index]))\n",
        "print(\"\\n\\nConfusion Matrix for the Testing Dataset\")\n",
        "print(confusion_matrix(y_test, y_pred_test_rfc[index]))"
      ],
      "metadata": {
        "colab": {
          "base_uri": "https://localhost:8080/"
        },
        "id": "hC2kgMsHtyyd",
        "outputId": "c534c907-3848-4a44-e812-37e7bebf7a17"
      },
      "execution_count": 92,
      "outputs": [
        {
          "output_type": "stream",
          "name": "stdout",
          "text": [
            "Maximum Testing Accuracy found for  40 Decision Trees.\n",
            "\n",
            "Training Accuracy:  0.7425550856888493\n",
            "Testing Accuracy:  0.7362941201883614\n",
            "\n",
            "\n",
            "Confusion Matrix for the Training Dataset\n",
            "[[18271  4448]\n",
            " [ 7119 15092]]\n",
            "\n",
            "\n",
            "Confusion Matrix for the Testing Dataset\n",
            "[[9325 2350]\n",
            " [3754 7718]]\n"
          ]
        }
      ]
    },
    {
      "cell_type": "markdown",
      "metadata": {
        "id": "Gf6EoFrbkj3c"
      },
      "source": [
        "# 2. Logistic Regression"
      ]
    },
    {
      "cell_type": "code",
      "execution_count": 94,
      "metadata": {
        "colab": {
          "base_uri": "https://localhost:8080/"
        },
        "id": "XJ3jPZbEKHv0",
        "outputId": "ea835b2f-d79d-4232-8fd4-94beacea5d77"
      },
      "outputs": [
        {
          "output_type": "stream",
          "name": "stdout",
          "text": [
            "Confusion Matrix for the Training Dataset\n",
            "[[17227  5492]\n",
            " [ 7386 14825]]\n",
            "\n",
            "\n",
            "Confusion Matrix for the Testing Dataset\n",
            "[[8891 2784]\n",
            " [3815 7657]]\n",
            "\n",
            "\n",
            "Training Accuracy:  0.7133763632316937\n",
            "Testing Accuracy:  0.7149090594893507\n"
          ]
        },
        {
          "output_type": "stream",
          "name": "stderr",
          "text": [
            "/usr/local/lib/python3.7/dist-packages/sklearn/linear_model/_logistic.py:818: ConvergenceWarning: lbfgs failed to converge (status=1):\n",
            "STOP: TOTAL NO. of ITERATIONS REACHED LIMIT.\n",
            "\n",
            "Increase the number of iterations (max_iter) or scale the data as shown in:\n",
            "    https://scikit-learn.org/stable/modules/preprocessing.html\n",
            "Please also refer to the documentation for alternative solver options:\n",
            "    https://scikit-learn.org/stable/modules/linear_model.html#logistic-regression\n",
            "  extra_warning_msg=_LOGISTIC_SOLVER_CONVERGENCE_MSG,\n"
          ]
        }
      ],
      "source": [
        "#Using Logistic Regression model for prediction.\n",
        "\n",
        "logreg = LogisticRegression()\n",
        "logreg.fit(X_train, y_train)\n",
        "\n",
        "y_pred_train_lgr = pd.Series(logreg.predict(X_train))\n",
        "y_pred_test_lgr = pd.Series(logreg.predict(X_test))\n",
        "\n",
        "print(\"Confusion Matrix for the Training Dataset\")\n",
        "print(confusion_matrix(y_train, y_pred_train_lgr))\n",
        "print(\"\\n\\nConfusion Matrix for the Testing Dataset\")\n",
        "print(confusion_matrix(y_test, y_pred_test_lgr))\n",
        "\n",
        "acc_train_lgr = accuracy_score(y_train, y_pred_train_lgr)\n",
        "print(\"\\n\\nTraining Accuracy: \", acc_train_lgr)\n",
        "acc_test_lgr = accuracy_score(y_test, y_pred_test_lgr)\n",
        "print(\"Testing Accuracy: \", acc_test_lgr)"
      ]
    },
    {
      "cell_type": "markdown",
      "metadata": {
        "id": "bMgBlf75kp-k"
      },
      "source": [
        "# 3. K Nearest Neighbours"
      ]
    },
    {
      "cell_type": "code",
      "execution_count": 95,
      "metadata": {
        "id": "dyXfyMN4KKKu"
      },
      "outputs": [],
      "source": [
        "#Using kNN for classification for different values of k\n",
        "\n",
        "k = [2,3,4,5,6,7,8,9,10,11,12,13,14,15]\n",
        "y_pred_train_knn = []\n",
        "y_pred_test_knn = []\n",
        "acc_train_knn = []\n",
        "acc_test_knn = []\n",
        "cnt = 0\n",
        "\n",
        "for i in k:\n",
        "  classifier = KNeighborsClassifier(n_neighbors = i)\n",
        "  classifier.fit(X_train, y_train)\n",
        "\n",
        "  y_pred_train_knn.append(classifier.predict(X_train))\n",
        "  y_pred_test_knn.append(classifier.predict(X_test))\n",
        "\n",
        "  acc_train_knn.append(accuracy_score(y_train, y_pred_train_knn[cnt]))\n",
        "  acc_test_knn.append(accuracy_score(y_test, y_pred_test_knn[cnt]))\n",
        "  \n",
        "  cnt += 1"
      ]
    },
    {
      "cell_type": "code",
      "source": [
        "#Printing Testing and Training Accuracies for different values of k.\n",
        "\n",
        "for i in k:\n",
        "  print(\"\\nTraining and Testing Accuracy for k =\", i)\n",
        "  print(\"Training Accuracy: \", acc_train_knn[i-2])\n",
        "  print(\"Testing Accuracy: \", acc_test_knn[i-2])"
      ],
      "metadata": {
        "colab": {
          "base_uri": "https://localhost:8080/"
        },
        "id": "5DATl5oQ0Xl3",
        "outputId": "d36d5868-508d-4b5d-b440-b8ab7c9e3750"
      },
      "execution_count": 96,
      "outputs": [
        {
          "output_type": "stream",
          "name": "stdout",
          "text": [
            "\n",
            "Training and Testing Accuracy for k = 2\n",
            "Training Accuracy:  0.8115958157133318\n",
            "Testing Accuracy:  0.6400829481142265\n",
            "\n",
            "Training and Testing Accuracy for k = 3\n",
            "Training Accuracy:  0.8148675717783218\n",
            "Testing Accuracy:  0.6731757895191601\n",
            "\n",
            "Training and Testing Accuracy for k = 4\n",
            "Training Accuracy:  0.7763632316937459\n",
            "Testing Accuracy:  0.6733485980904653\n",
            "\n",
            "Training and Testing Accuracy for k = 5\n",
            "Training Accuracy:  0.7795682172267973\n",
            "Testing Accuracy:  0.6889013695079276\n",
            "\n",
            "Training and Testing Accuracy for k = 6\n",
            "Training Accuracy:  0.7621856220787893\n",
            "Testing Accuracy:  0.6910614766492418\n",
            "\n",
            "Training and Testing Accuracy for k = 7\n",
            "Training Accuracy:  0.7653460939238816\n",
            "Testing Accuracy:  0.6994858945003672\n",
            "\n",
            "Training and Testing Accuracy for k = 8\n",
            "Training Accuracy:  0.7546628088137102\n",
            "Testing Accuracy:  0.7000043202142826\n",
            "\n",
            "Training and Testing Accuracy for k = 9\n",
            "Training Accuracy:  0.7546628088137102\n",
            "Testing Accuracy:  0.7032444809262539\n",
            "\n",
            "Training and Testing Accuracy for k = 10\n",
            "Training Accuracy:  0.7480970398397507\n",
            "Testing Accuracy:  0.7060526202099624\n",
            "\n",
            "Training and Testing Accuracy for k = 11\n",
            "Training Accuracy:  0.7496105052303583\n",
            "Testing Accuracy:  0.7071758759234458\n",
            "\n",
            "Training and Testing Accuracy for k = 12\n",
            "Training Accuracy:  0.744113064767416\n",
            "Testing Accuracy:  0.7071758759234458\n",
            "\n",
            "Training and Testing Accuracy for k = 13\n",
            "Training Accuracy:  0.7449588248386378\n",
            "Testing Accuracy:  0.7092063766362812\n",
            "\n",
            "Training and Testing Accuracy for k = 14\n",
            "Training Accuracy:  0.7421099488092588\n",
            "Testing Accuracy:  0.7089903659221497\n",
            "\n",
            "Training and Testing Accuracy for k = 15\n",
            "Training Accuracy:  0.7420654351212999\n",
            "Testing Accuracy:  0.7086879509223657\n"
          ]
        }
      ]
    },
    {
      "cell_type": "code",
      "source": [
        "#Plotting Testing and Training Accuracies for different values of k.\n",
        "\n",
        "labels = [2,3,4,5,6,7,8,9,10,11,12,13,14,15]\n",
        "plt.xticks([0,1,2,3,4,5,6,7,8,9,10,11,12,13],labels)\n",
        "plt.xlabel(\"Nearest Neighbours(k)\")\n",
        "plt.ylabel(\"Accuracy\")\n",
        "plt.plot(acc_train_knn,label='Training Accuracy')\n",
        "plt.plot(acc_test_knn,label='Testing Accuracy')\n",
        "plt.legend()"
      ],
      "metadata": {
        "colab": {
          "base_uri": "https://localhost:8080/",
          "height": 624
        },
        "id": "JnnahXGL4InP",
        "outputId": "3e66290e-280e-4249-80a4-194fc35af8f5"
      },
      "execution_count": 102,
      "outputs": [
        {
          "output_type": "execute_result",
          "data": {
            "text/plain": [
              "<matplotlib.legend.Legend at 0x7febb70c31d0>"
            ]
          },
          "metadata": {},
          "execution_count": 102
        },
        {
          "output_type": "display_data",
          "data": {
            "text/plain": [
              "<Figure size 720x720 with 1 Axes>"
            ],
            "image/png": "[encoded data removed]"
          },
          "metadata": {}
        }
      ]
    },
    {
      "cell_type": "code",
      "source": [
        "#Printing Testing and Training Accuracy and Confusion Matrix for the best value of k.\n",
        "#i.e. For the value of k that has highest testing accuracy in kNN.\n",
        "\n",
        "max_test_accuracy = max(acc_test_knn)\n",
        "index = acc_test_knn.index(max_test_accuracy)\n",
        "print(\"Maximum Testing Accuracy found for value of k =\", k[index])\n",
        "print(\"\\nTraining Accuracy: \", acc_train_knn[index])\n",
        "print(\"Testing Accuracy: \", acc_test_knn[index])\n",
        "\n",
        "print(\"\\n\\nConfusion Matrix for the Training Dataset\")\n",
        "print(confusion_matrix(y_train, y_pred_train_knn[index]))\n",
        "print(\"\\n\\nConfusion Matrix for the Testing Dataset\")\n",
        "print(confusion_matrix(y_test, y_pred_test_knn[index]))"
      ],
      "metadata": {
        "colab": {
          "base_uri": "https://localhost:8080/"
        },
        "id": "-XgaiGKE5MAN",
        "outputId": "9ced0b86-c1c0-4b35-9625-03dd80b325ae"
      },
      "execution_count": 98,
      "outputs": [
        {
          "output_type": "stream",
          "name": "stdout",
          "text": [
            "Maximum Testing Accuracy found for value of k = 13\n",
            "\n",
            "Training Accuracy:  0.7449588248386378\n",
            "Testing Accuracy:  0.7092063766362812\n",
            "\n",
            "\n",
            "Confusion Matrix for the Training Dataset\n",
            "[[17863  4856]\n",
            " [ 6603 15608]]\n",
            "\n",
            "\n",
            "Confusion Matrix for the Testing Dataset\n",
            "[[8735 2940]\n",
            " [3791 7681]]\n"
          ]
        }
      ]
    },
    {
      "cell_type": "markdown",
      "metadata": {
        "id": "rxWAfekAjyfv"
      },
      "source": [
        "# 4. Support Vector Classifier (LinearSVC)"
      ]
    },
    {
      "cell_type": "code",
      "execution_count": 99,
      "metadata": {
        "colab": {
          "base_uri": "https://localhost:8080/"
        },
        "id": "0d4gZ8Ok5148",
        "outputId": "cac1da0e-c197-41cd-9ca6-8c2eb7b27b95",
        "scrolled": true
      },
      "outputs": [
        {
          "output_type": "stream",
          "name": "stdout",
          "text": [
            "Confusion Matrix for the Training Dataset\n",
            "[[17972  4747]\n",
            " [ 7615 14596]]\n",
            "\n",
            "\n",
            "Confusion Matrix for the Testing Dataset\n",
            "[[9282 2393]\n",
            " [3894 7578]]\n",
            "\n",
            "\n",
            "Training Accuracy:  0.7248608947251279\n",
            "Testing Accuracy:  0.7283881280511514\n"
          ]
        }
      ],
      "source": [
        "support_vector_classifier = svm.LinearSVC(dual=False) \n",
        "support_vector_classifier.fit(X_train,y_train)\n",
        "\n",
        "y_pred_train_svc = support_vector_classifier.predict(X_train) \n",
        "y_pred_test_svc = support_vector_classifier.predict(X_test)\n",
        "\n",
        "print(\"Confusion Matrix for the Training Dataset\") \n",
        "print(confusion_matrix(y_train, y_pred_train_svc)) \n",
        "print(\"\\n\\nConfusion Matrix for the Testing Dataset\") \n",
        "print(confusion_matrix(y_test, y_pred_test_svc))\n",
        "\n",
        "acc_train_svc = accuracy_score(y_train, y_pred_train_svc) \n",
        "print(\"\\n\\nTraining Accuracy: \", acc_train_svc) \n",
        "acc_test_svc = accuracy_score(y_test, y_pred_test_svc) \n",
        "print(\"Testing Accuracy: \", acc_test_svc)"
      ]
    },
    {
      "cell_type": "markdown",
      "metadata": {
        "id": "NPyPDcRYjyfw"
      },
      "source": [
        "# 5. XG-Boost Classifier (eXtreme Gradient Boosting)"
      ]
    },
    {
      "cell_type": "code",
      "execution_count": 100,
      "metadata": {
        "colab": {
          "base_uri": "https://localhost:8080/"
        },
        "id": "xHfMcsnfA8zJ",
        "outputId": "20ad9c2e-a245-470e-ca97-0f811994529b"
      },
      "outputs": [
        {
          "output_type": "stream",
          "name": "stdout",
          "text": [
            "Confusion Matrix for the Training Dataset\n",
            "[[17791  4928]\n",
            " [ 6851 15360]]\n",
            "\n",
            "\n",
            "Confusion Matrix for the Testing Dataset\n",
            "[[9161 2514]\n",
            " [3603 7869]]\n",
            "\n",
            "\n",
            "Training Accuracy:  0.7378366347651903\n",
            "Testing Accuracy:  0.7357324923316196\n"
          ]
        }
      ],
      "source": [
        "xgb_classifier = XGBClassifier(use_label_encoder=False, eval_metric='mlogloss')\n",
        "xgb_classifier.fit(X_train,y_train)\n",
        "\n",
        "y_pred_train_xgb = xgb_classifier.predict(X_train) \n",
        "y_pred_test_xgb = xgb_classifier.predict(X_test)\n",
        "\n",
        "print(\"Confusion Matrix for the Training Dataset\") \n",
        "print(confusion_matrix(y_train, y_pred_train_xgb)) \n",
        "print(\"\\n\\nConfusion Matrix for the Testing Dataset\") \n",
        "print(confusion_matrix(y_test, y_pred_test_xgb))\n",
        "\n",
        "acc_train_xgb = accuracy_score(y_train, y_pred_train_xgb) \n",
        "print(\"\\n\\nTraining Accuracy: \", acc_train_xgb) \n",
        "acc_test_xgb = accuracy_score(y_test, y_pred_test_xgb) \n",
        "print(\"Testing Accuracy: \", acc_test_xgb)"
      ]
    }
  ],
  "metadata": {
    "accelerator": "TPU",
    "colab": {
      "collapsed_sections": [],
      "name": "Project_Special_Topics.ipynb",
      "provenance": []
    },
    "kernelspec": {
      "display_name": "Python 3",
      "language": "python",
      "name": "python3"
    },
    "language_info": {
      "codemirror_mode": {
        "name": "ipython",
        "version": 3
      },
      "file_extension": ".py",
      "mimetype": "text/x-python",
      "name": "python",
      "nbconvert_exporter": "python",
      "pygments_lexer": "ipython3",
      "version": "3.8.8"
    }
  },
  "nbformat": 4,
  "nbformat_minor": 0
}