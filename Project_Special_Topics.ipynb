{
  "cells": [
    {
      "cell_type": "code",
      "execution_count": 1,
      "metadata": {
        "colab": {
          "base_uri": "https://localhost:8080/"
        },
        "id": "CnxQ45himZHv",
        "outputId": "e795529b-93f1-4156-de2e-3dd3f0af759e"
      },
      "outputs": [
        {
          "output_type": "stream",
          "name": "stdout",
          "text": [
            "Mounted at /content/drive\n"
          ]
        }
      ],
      "source": [
        "from google.colab import drive\n",
        "drive.mount('/content/drive', force_remount=True)"
      ]
    },
    {
      "cell_type": "code",
      "execution_count": 2,
      "metadata": {
        "id": "n7b2bfeynUqk"
      },
      "outputs": [],
      "source": [
        "#Importing Required Libraries for the Project\n",
        "import numpy as np\n",
        "import pandas as pd \n",
        "import seaborn as sns\n",
        "import math\n",
        "import matplotlib.pyplot as plt\n",
        "from matplotlib import rcParams\n",
        "from sklearn.ensemble import RandomForestClassifier\n",
        "from sklearn.model_selection import train_test_split\n",
        "from sklearn.metrics import confusion_matrix\n",
        "from sklearn.metrics import accuracy_score \n",
        "from sklearn.linear_model import LogisticRegression\n",
        "from sklearn.neighbors import KNeighborsClassifier\n",
        "from sklearn import svm\n",
        "from xgboost import XGBClassifier"
      ]
    },
    {
      "cell_type": "code",
      "execution_count": 3,
      "metadata": {
        "colab": {
          "base_uri": "https://localhost:8080/",
          "height": 206
        },
        "id": "oQ-PJ4opnq-u",
        "outputId": "1f00f6e1-d55d-419d-d5e7-0a2dad5524dc"
      },
      "outputs": [
        {
          "output_type": "execute_result",
          "data": {
            "text/plain": [
              "    id    age  gender  height  weight  ap_hi  ap_lo  cholesterol  gluc  smoke  \\\n",
              "0  988  22469       1     155    69.0    130     80            2     2      0   \n",
              "1  989  14648       1     163    71.0    110     70            1     1      0   \n",
              "2  990  21901       1     165    70.0    120     80            1     1      0   \n",
              "3  991  14549       2     165    85.0    120     80            1     1      1   \n",
              "4  992  23393       1     155    62.0    120     80            1     1      0   \n",
              "\n",
              "   alco  active  cardio  \n",
              "0     0       1       0  \n",
              "1     0       1       1  \n",
              "2     0       1       0  \n",
              "3     1       1       0  \n",
              "4     0       1       0  "
            ],
            "text/html": [
              "\n",
              "  <div id=\"df-3d526a13-f431-4e48-9b7c-4da50a217030\">\n",
              "    <div class=\"colab-df-container\">\n",
              "      <div>\n",
              "<style scoped>\n",
              "    .dataframe tbody tr th:only-of-type {\n",
              "        vertical-align: middle;\n",
              "    }\n",
              "\n",
              "    .dataframe tbody tr th {\n",
              "        vertical-align: top;\n",
              "    }\n",
              "\n",
              "    .dataframe thead th {\n",
              "        text-align: right;\n",
              "    }\n",
              "</style>\n",
              "<table border=\"1\" class=\"dataframe\">\n",
              "  <thead>\n",
              "    <tr style=\"text-align: right;\">\n",
              "      <th></th>\n",
              "      <th>id</th>\n",
              "      <th>age</th>\n",
              "      <th>gender</th>\n",
              "      <th>height</th>\n",
              "      <th>weight</th>\n",
              "      <th>ap_hi</th>\n",
              "      <th>ap_lo</th>\n",
              "      <th>cholesterol</th>\n",
              "      <th>gluc</th>\n",
              "      <th>smoke</th>\n",
              "      <th>alco</th>\n",
              "      <th>active</th>\n",
              "      <th>cardio</th>\n",
              "    </tr>\n",
              "  </thead>\n",
              "  <tbody>\n",
              "    <tr>\n",
              "      <th>0</th>\n",
              "      <td>988</td>\n",
              "      <td>22469</td>\n",
              "      <td>1</td>\n",
              "      <td>155</td>\n",
              "      <td>69.0</td>\n",
              "      <td>130</td>\n",
              "      <td>80</td>\n",
              "      <td>2</td>\n",
              "      <td>2</td>\n",
              "      <td>0</td>\n",
              "      <td>0</td>\n",
              "      <td>1</td>\n",
              "      <td>0</td>\n",
              "    </tr>\n",
              "    <tr>\n",
              "      <th>1</th>\n",
              "      <td>989</td>\n",
              "      <td>14648</td>\n",
              "      <td>1</td>\n",
              "      <td>163</td>\n",
              "      <td>71.0</td>\n",
              "      <td>110</td>\n",
              "      <td>70</td>\n",
              "      <td>1</td>\n",
              "      <td>1</td>\n",
              "      <td>0</td>\n",
              "      <td>0</td>\n",
              "      <td>1</td>\n",
              "      <td>1</td>\n",
              "    </tr>\n",
              "    <tr>\n",
              "      <th>2</th>\n",
              "      <td>990</td>\n",
              "      <td>21901</td>\n",
              "      <td>1</td>\n",
              "      <td>165</td>\n",
              "      <td>70.0</td>\n",
              "      <td>120</td>\n",
              "      <td>80</td>\n",
              "      <td>1</td>\n",
              "      <td>1</td>\n",
              "      <td>0</td>\n",
              "      <td>0</td>\n",
              "      <td>1</td>\n",
              "      <td>0</td>\n",
              "    </tr>\n",
              "    <tr>\n",
              "      <th>3</th>\n",
              "      <td>991</td>\n",
              "      <td>14549</td>\n",
              "      <td>2</td>\n",
              "      <td>165</td>\n",
              "      <td>85.0</td>\n",
              "      <td>120</td>\n",
              "      <td>80</td>\n",
              "      <td>1</td>\n",
              "      <td>1</td>\n",
              "      <td>1</td>\n",
              "      <td>1</td>\n",
              "      <td>1</td>\n",
              "      <td>0</td>\n",
              "    </tr>\n",
              "    <tr>\n",
              "      <th>4</th>\n",
              "      <td>992</td>\n",
              "      <td>23393</td>\n",
              "      <td>1</td>\n",
              "      <td>155</td>\n",
              "      <td>62.0</td>\n",
              "      <td>120</td>\n",
              "      <td>80</td>\n",
              "      <td>1</td>\n",
              "      <td>1</td>\n",
              "      <td>0</td>\n",
              "      <td>0</td>\n",
              "      <td>1</td>\n",
              "      <td>0</td>\n",
              "    </tr>\n",
              "  </tbody>\n",
              "</table>\n",
              "</div>\n",
              "      <button class=\"colab-df-convert\" onclick=\"convertToInteractive('df-3d526a13-f431-4e48-9b7c-4da50a217030')\"\n",
              "              title=\"Convert this dataframe to an interactive table.\"\n",
              "              style=\"display:none;\">\n",
              "        \n",
              "  <svg xmlns=\"http://www.w3.org/2000/svg\" height=\"24px\"viewBox=\"0 0 24 24\"\n",
              "       width=\"24px\">\n",
              "    <path d=\"M0 0h24v24H0V0z\" fill=\"none\"/>\n",
              "    <path d=\"M18.56 5.44l.94 2.06.94-2.06 2.06-.94-2.06-.94-.94-2.06-.94 2.06-2.06.94zm-11 1L8.5 8.5l.94-2.06 2.06-.94-2.06-.94L8.5 2.5l-.94 2.06-2.06.94zm10 10l.94 2.06.94-2.06 2.06-.94-2.06-.94-.94-2.06-.94 2.06-2.06.94z\"/><path d=\"M17.41 7.96l-1.37-1.37c-.4-.4-.92-.59-1.43-.59-.52 0-1.04.2-1.43.59L10.3 9.45l-7.72 7.72c-.78.78-.78 2.05 0 2.83L4 21.41c.39.39.9.59 1.41.59.51 0 1.02-.2 1.41-.59l7.78-7.78 2.81-2.81c.8-.78.8-2.07 0-2.86zM5.41 20L4 18.59l7.72-7.72 1.47 1.35L5.41 20z\"/>\n",
              "  </svg>\n",
              "      </button>\n",
              "      \n",
              "  <style>\n",
              "    .colab-df-container {\n",
              "      display:flex;\n",
              "      flex-wrap:wrap;\n",
              "      gap: 12px;\n",
              "    }\n",
              "\n",
              "    .colab-df-convert {\n",
              "      background-color: #E8F0FE;\n",
              "      border: none;\n",
              "      border-radius: 50%;\n",
              "      cursor: pointer;\n",
              "      display: none;\n",
              "      fill: #1967D2;\n",
              "      height: 32px;\n",
              "      padding: 0 0 0 0;\n",
              "      width: 32px;\n",
              "    }\n",
              "\n",
              "    .colab-df-convert:hover {\n",
              "      background-color: #E2EBFA;\n",
              "      box-shadow: 0px 1px 2px rgba(60, 64, 67, 0.3), 0px 1px 3px 1px rgba(60, 64, 67, 0.15);\n",
              "      fill: #174EA6;\n",
              "    }\n",
              "\n",
              "    [theme=dark] .colab-df-convert {\n",
              "      background-color: #3B4455;\n",
              "      fill: #D2E3FC;\n",
              "    }\n",
              "\n",
              "    [theme=dark] .colab-df-convert:hover {\n",
              "      background-color: #434B5C;\n",
              "      box-shadow: 0px 1px 3px 1px rgba(0, 0, 0, 0.15);\n",
              "      filter: drop-shadow(0px 1px 2px rgba(0, 0, 0, 0.3));\n",
              "      fill: #FFFFFF;\n",
              "    }\n",
              "  </style>\n",
              "\n",
              "      <script>\n",
              "        const buttonEl =\n",
              "          document.querySelector('#df-3d526a13-f431-4e48-9b7c-4da50a217030 button.colab-df-convert');\n",
              "        buttonEl.style.display =\n",
              "          google.colab.kernel.accessAllowed ? 'block' : 'none';\n",
              "\n",
              "        async function convertToInteractive(key) {\n",
              "          const element = document.querySelector('#df-3d526a13-f431-4e48-9b7c-4da50a217030');\n",
              "          const dataTable =\n",
              "            await google.colab.kernel.invokeFunction('convertToInteractive',\n",
              "                                                     [key], {});\n",
              "          if (!dataTable) return;\n",
              "\n",
              "          const docLinkHtml = 'Like what you see? Visit the ' +\n",
              "            '<a target=\"_blank\" href=https://colab.research.google.com/notebooks/data_table.ipynb>data table notebook</a>'\n",
              "            + ' to learn more about interactive tables.';\n",
              "          element.innerHTML = '';\n",
              "          dataTable['output_type'] = 'display_data';\n",
              "          await google.colab.output.renderOutput(dataTable, element);\n",
              "          const docLink = document.createElement('div');\n",
              "          docLink.innerHTML = docLinkHtml;\n",
              "          element.appendChild(docLink);\n",
              "        }\n",
              "      </script>\n",
              "    </div>\n",
              "  </div>\n",
              "  "
            ]
          },
          "metadata": {},
          "execution_count": 3
        }
      ],
      "source": [
        "#Loading the dataset\n",
        "cardio_vascular_data = pd.read_csv(\"/content/drive/MyDrive/Colab Notebooks/Data/cardio_train.csv\", delimiter=\";\")\n",
        "cardio_vascular_data.head()"
      ]
    },
    {
      "cell_type": "markdown",
      "metadata": {
        "id": "TYtQLuWMPMnd"
      },
      "source": [
        "# Exploratory Data Analysis"
      ]
    },
    {
      "cell_type": "code",
      "execution_count": 4,
      "metadata": {
        "colab": {
          "base_uri": "https://localhost:8080/",
          "height": 351
        },
        "id": "Slv5TcqzOnV2",
        "outputId": "886be955-e7b6-48cb-a841-3c05e60a8d02"
      },
      "outputs": [
        {
          "output_type": "stream",
          "name": "stderr",
          "text": [
            "/usr/local/lib/python3.7/dist-packages/seaborn/_decorators.py:43: FutureWarning: Pass the following variable as a keyword arg: x. From version 0.12, the only valid positional argument will be `data`, and passing other arguments without an explicit keyword will result in an error or misinterpretation.\n",
            "  FutureWarning\n"
          ]
        },
        {
          "output_type": "execute_result",
          "data": {
            "text/plain": [
              "<matplotlib.axes._subplots.AxesSubplot at 0x7febc0698850>"
            ]
          },
          "metadata": {},
          "execution_count": 4
        },
        {
          "output_type": "display_data",
          "data": {
            "text/plain": [
              "<Figure size 432x288 with 1 Axes>"
            ],
            "image/png": "[encoded data removed]"
          },
          "metadata": {
            "needs_background": "light"
          }
        }
      ],
      "source": [
        "sns.countplot(cardio_vascular_data['gender'])"
      ]
    },
    {
      "cell_type": "code",
      "execution_count": 5,
      "metadata": {
        "colab": {
          "base_uri": "https://localhost:8080/",
          "height": 351
        },
        "id": "7MymmLmrPUnM",
        "outputId": "7f0a6204-2b21-42aa-a92b-ff4bc088e028"
      },
      "outputs": [
        {
          "output_type": "stream",
          "name": "stderr",
          "text": [
            "/usr/local/lib/python3.7/dist-packages/seaborn/_decorators.py:43: FutureWarning: Pass the following variable as a keyword arg: x. From version 0.12, the only valid positional argument will be `data`, and passing other arguments without an explicit keyword will result in an error or misinterpretation.\n",
            "  FutureWarning\n"
          ]
        },
        {
          "output_type": "execute_result",
          "data": {
            "text/plain": [
              "<matplotlib.axes._subplots.AxesSubplot at 0x7febc05cc890>"
            ]
          },
          "metadata": {},
          "execution_count": 5
        },
        {
          "output_type": "display_data",
          "data": {
            "text/plain": [
              "<Figure size 432x288 with 1 Axes>"
            ],
            "image/png": "[encoded data removed]"
          },
          "metadata": {
            "needs_background": "light"
          }
        }
      ],
      "source": [
        "sns.countplot(cardio_vascular_data['cholesterol'])"
      ]
    },
    {
      "cell_type": "code",
      "execution_count": 6,
      "metadata": {
        "colab": {
          "base_uri": "https://localhost:8080/",
          "height": 351
        },
        "id": "qSamLangPWtT",
        "outputId": "04f41826-b828-4350-9700-321b4f56722b"
      },
      "outputs": [
        {
          "output_type": "stream",
          "name": "stderr",
          "text": [
            "/usr/local/lib/python3.7/dist-packages/seaborn/_decorators.py:43: FutureWarning: Pass the following variable as a keyword arg: x. From version 0.12, the only valid positional argument will be `data`, and passing other arguments without an explicit keyword will result in an error or misinterpretation.\n",
            "  FutureWarning\n"
          ]
        },
        {
          "output_type": "execute_result",
          "data": {
            "text/plain": [
              "<matplotlib.axes._subplots.AxesSubplot at 0x7febc00da1d0>"
            ]
          },
          "metadata": {},
          "execution_count": 6
        },
        {
          "output_type": "display_data",
          "data": {
            "text/plain": [
              "<Figure size 432x288 with 1 Axes>"
            ],
            "image/png": "[encoded data removed]"
          },
          "metadata": {
            "needs_background": "light"
          }
        }
      ],
      "source": [
        "sns.countplot(cardio_vascular_data['gluc'])"
      ]
    },
    {
      "cell_type": "code",
      "execution_count": 7,
      "metadata": {
        "colab": {
          "base_uri": "https://localhost:8080/",
          "height": 351
        },
        "id": "F4-GG4pwPYkp",
        "outputId": "e7a5a9bb-005e-4e60-c2b2-afd9ed07db7c"
      },
      "outputs": [
        {
          "output_type": "stream",
          "name": "stderr",
          "text": [
            "/usr/local/lib/python3.7/dist-packages/seaborn/_decorators.py:43: FutureWarning: Pass the following variable as a keyword arg: x. From version 0.12, the only valid positional argument will be `data`, and passing other arguments without an explicit keyword will result in an error or misinterpretation.\n",
            "  FutureWarning\n"
          ]
        },
        {
          "output_type": "execute_result",
          "data": {
            "text/plain": [
              "<matplotlib.axes._subplots.AxesSubplot at 0x7febc006df10>"
            ]
          },
          "metadata": {},
          "execution_count": 7
        },
        {
          "output_type": "display_data",
          "data": {
            "text/plain": [
              "<Figure size 432x288 with 1 Axes>"
            ],
            "image/png": "[encoded data removed]"
          },
          "metadata": {
            "needs_background": "light"
          }
        }
      ],
      "source": [
        "sns.countplot(cardio_vascular_data['alco'])"
      ]
    },
    {
      "cell_type": "code",
      "execution_count": 8,
      "metadata": {
        "colab": {
          "base_uri": "https://localhost:8080/",
          "height": 351
        },
        "id": "bVHQ4DzhPaLd",
        "outputId": "e7cef1c6-155f-4860-d14f-054c1806caef"
      },
      "outputs": [
        {
          "output_type": "stream",
          "name": "stderr",
          "text": [
            "/usr/local/lib/python3.7/dist-packages/seaborn/_decorators.py:43: FutureWarning: Pass the following variable as a keyword arg: x. From version 0.12, the only valid positional argument will be `data`, and passing other arguments without an explicit keyword will result in an error or misinterpretation.\n",
            "  FutureWarning\n"
          ]
        },
        {
          "output_type": "execute_result",
          "data": {
            "text/plain": [
              "<matplotlib.axes._subplots.AxesSubplot at 0x7febc003d410>"
            ]
          },
          "metadata": {},
          "execution_count": 8
        },
        {
          "output_type": "display_data",
          "data": {
            "text/plain": [
              "<Figure size 432x288 with 1 Axes>"
            ],
            "image/png": "[encoded data removed]"
          },
          "metadata": {
            "needs_background": "light"
          }
        }
      ],
      "source": [
        "sns.countplot(cardio_vascular_data['smoke'])"
      ]
    },
    {
      "cell_type": "code",
      "execution_count": 9,
      "metadata": {
        "colab": {
          "base_uri": "https://localhost:8080/",
          "height": 351
        },
        "id": "D9Wq56OLPcB1",
        "outputId": "1e739eaa-bad5-4a0e-bc67-2d6d812f646e"
      },
      "outputs": [
        {
          "output_type": "stream",
          "name": "stderr",
          "text": [
            "/usr/local/lib/python3.7/dist-packages/seaborn/_decorators.py:43: FutureWarning: Pass the following variable as a keyword arg: x. From version 0.12, the only valid positional argument will be `data`, and passing other arguments without an explicit keyword will result in an error or misinterpretation.\n",
            "  FutureWarning\n"
          ]
        },
        {
          "output_type": "execute_result",
          "data": {
            "text/plain": [
              "<matplotlib.axes._subplots.AxesSubplot at 0x7febbffb1490>"
            ]
          },
          "metadata": {},
          "execution_count": 9
        },
        {
          "output_type": "display_data",
          "data": {
            "text/plain": [
              "<Figure size 432x288 with 1 Axes>"
            ],
            "image/png": "[encoded data removed]"
          },
          "metadata": {
            "needs_background": "light"
          }
        }
      ],
      "source": [
        "sns.countplot(cardio_vascular_data['active'])"
      ]
    },
    {
      "cell_type": "code",
      "execution_count": 10,
      "metadata": {
        "colab": {
          "base_uri": "https://localhost:8080/",
          "height": 351
        },
        "id": "Bfr0ThHpPfMv",
        "outputId": "6879b7b2-5640-4213-ca5c-a749ee6640aa"
      },
      "outputs": [
        {
          "output_type": "stream",
          "name": "stderr",
          "text": [
            "/usr/local/lib/python3.7/dist-packages/seaborn/_decorators.py:43: FutureWarning: Pass the following variable as a keyword arg: x. From version 0.12, the only valid positional argument will be `data`, and passing other arguments without an explicit keyword will result in an error or misinterpretation.\n",
            "  FutureWarning\n"
          ]
        },
        {
          "output_type": "execute_result",
          "data": {
            "text/plain": [
              "<matplotlib.axes._subplots.AxesSubplot at 0x7febbff882d0>"
            ]
          },
          "metadata": {},
          "execution_count": 10
        },
        {
          "output_type": "display_data",
          "data": {
            "text/plain": [
              "<Figure size 432x288 with 1 Axes>"
            ],
            "image/png": "[encoded data removed]"
          },
          "metadata": {
            "needs_background": "light"
          }
        }
      ],
      "source": [
        "sns.countplot(cardio_vascular_data['cardio'])"
      ]
    },
    {
      "cell_type": "markdown",
      "metadata": {
        "id": "WYmcT4vZPzQv"
      },
      "source": [
        "# Data Preprocessing"
      ]
    },
    {
      "cell_type": "code",
      "execution_count": 11,
      "metadata": {
        "colab": {
          "base_uri": "https://localhost:8080/"
        },
        "id": "FeJWHdOOpDL6",
        "outputId": "6b8a0027-7caf-4659-cf5f-ea5bca9de466"
      },
      "outputs": [
        {
          "output_type": "stream",
          "name": "stdout",
          "text": [
            "<class 'pandas.core.frame.DataFrame'>\n",
            "RangeIndex: 69301 entries, 0 to 69300\n",
            "Data columns (total 13 columns):\n",
            " #   Column       Non-Null Count  Dtype  \n",
            "---  ------       --------------  -----  \n",
            " 0   id           69301 non-null  int64  \n",
            " 1   age          69301 non-null  int64  \n",
            " 2   gender       69301 non-null  int64  \n",
            " 3   height       69301 non-null  int64  \n",
            " 4   weight       69301 non-null  float64\n",
            " 5   ap_hi        69301 non-null  int64  \n",
            " 6   ap_lo        69301 non-null  int64  \n",
            " 7   cholesterol  69301 non-null  int64  \n",
            " 8   gluc         69301 non-null  int64  \n",
            " 9   smoke        69301 non-null  int64  \n",
            " 10  alco         69301 non-null  int64  \n",
            " 11  active       69301 non-null  int64  \n",
            " 12  cardio       69301 non-null  int64  \n",
            "dtypes: float64(1), int64(12)\n",
            "memory usage: 6.9 MB\n"
          ]
        }
      ],
      "source": [
        "#Checking the datatypes for all the attributes in the dataset\n",
        "cardio_vascular_data.info()"
      ]
    },
    {
      "cell_type": "code",
      "execution_count": 12,
      "metadata": {
        "colab": {
          "base_uri": "https://localhost:8080/"
        },
        "id": "DqC2dxrFrdV8",
        "outputId": "3a020fe0-7441-4b75-f535-c81f50faedfd"
      },
      "outputs": [
        {
          "output_type": "execute_result",
          "data": {
            "text/plain": [
              "id             0\n",
              "age            0\n",
              "gender         0\n",
              "height         0\n",
              "weight         0\n",
              "ap_hi          0\n",
              "ap_lo          0\n",
              "cholesterol    0\n",
              "gluc           0\n",
              "smoke          0\n",
              "alco           0\n",
              "active         0\n",
              "cardio         0\n",
              "dtype: int64"
            ]
          },
          "metadata": {},
          "execution_count": 12
        }
      ],
      "source": [
        "#Checking for null values in the dataset\n",
        "cardio_vascular_data.isnull().sum()"
      ]
    },
    {
      "cell_type": "code",
      "execution_count": 13,
      "metadata": {
        "colab": {
          "base_uri": "https://localhost:8080/",
          "height": 364
        },
        "id": "Zq1rOeY0VjOv",
        "outputId": "b31ff860-48c4-43cf-aa5c-67b156e15b43"
      },
      "outputs": [
        {
          "output_type": "execute_result",
          "data": {
            "text/plain": [
              "                 id           age        gender        height        weight  \\\n",
              "count  69301.000000  69301.000000  69301.000000  69301.000000  69301.000000   \n",
              "mean   50471.480397  19468.786280      1.349519    164.362217     74.203027   \n",
              "std    28563.100347   2467.261818      0.476821      8.205337     14.383469   \n",
              "min      988.000000  10798.000000      1.000000     55.000000     10.000000   \n",
              "25%    25745.000000  17664.000000      1.000000    159.000000     65.000000   \n",
              "50%    50494.000000  19704.000000      1.000000    165.000000     72.000000   \n",
              "75%    75150.000000  21326.000000      2.000000    170.000000     82.000000   \n",
              "max    99999.000000  23713.000000      2.000000    250.000000    200.000000   \n",
              "\n",
              "              ap_hi         ap_lo   cholesterol          gluc         smoke  \\\n",
              "count  69301.000000  69301.000000  69301.000000  69301.000000  69301.000000   \n",
              "mean     128.829584     96.650092      1.366806      1.226447      0.088051   \n",
              "std      154.775805    189.096240      0.680270      0.572246      0.283371   \n",
              "min     -150.000000    -70.000000      1.000000      1.000000      0.000000   \n",
              "25%      120.000000     80.000000      1.000000      1.000000      0.000000   \n",
              "50%      120.000000     80.000000      1.000000      1.000000      0.000000   \n",
              "75%      140.000000     90.000000      2.000000      1.000000      0.000000   \n",
              "max    16020.000000  11000.000000      3.000000      3.000000      1.000000   \n",
              "\n",
              "               alco        active        cardio  \n",
              "count  69301.000000  69301.000000  69301.000000  \n",
              "mean       0.053881      0.803986      0.499589  \n",
              "std        0.225784      0.396982      0.500003  \n",
              "min        0.000000      0.000000      0.000000  \n",
              "25%        0.000000      1.000000      0.000000  \n",
              "50%        0.000000      1.000000      0.000000  \n",
              "75%        0.000000      1.000000      1.000000  \n",
              "max        1.000000      1.000000      1.000000  "
            ],
            "text/html": [
              "\n",
              "  <div id=\"df-48012cef-4192-42f7-8285-f889760cf1df\">\n",
              "    <div class=\"colab-df-container\">\n",
              "      <div>\n",
              "<style scoped>\n",
              "    .dataframe tbody tr th:only-of-type {\n",
              "        vertical-align: middle;\n",
              "    }\n",
              "\n",
              "    .dataframe tbody tr th {\n",
              "        vertical-align: top;\n",
              "    }\n",
              "\n",
              "    .dataframe thead th {\n",
              "        text-align: right;\n",
              "    }\n",
              "</style>\n",
              "<table border=\"1\" class=\"dataframe\">\n",
              "  <thead>\n",
              "    <tr style=\"text-align: right;\">\n",
              "      <th></th>\n",
              "      <th>id</th>\n",
              "      <th>age</th>\n",
              "      <th>gender</th>\n",
              "      <th>height</th>\n",
              "      <th>weight</th>\n",
              "      <th>ap_hi</th>\n",
              "      <th>ap_lo</th>\n",
              "      <th>cholesterol</th>\n",
              "      <th>gluc</th>\n",
              "      <th>smoke</th>\n",
              "      <th>alco</th>\n",
              "      <th>active</th>\n",
              "      <th>cardio</th>\n",
              "    </tr>\n",
              "  </thead>\n",
              "  <tbody>\n",
              "    <tr>\n",
              "      <th>count</th>\n",
              "      <td>69301.000000</td>\n",
              "      <td>69301.000000</td>\n",
              "      <td>69301.000000</td>\n",
              "      <td>69301.000000</td>\n",
              "      <td>69301.000000</td>\n",
              "      <td>69301.000000</td>\n",
              "      <td>69301.000000</td>\n",
              "      <td>69301.000000</td>\n",
              "      <td>69301.000000</td>\n",
              "      <td>69301.000000</td>\n",
              "      <td>69301.000000</td>\n",
              "      <td>69301.000000</td>\n",
              "      <td>69301.000000</td>\n",
              "    </tr>\n",
              "    <tr>\n",
              "      <th>mean</th>\n",
              "      <td>50471.480397</td>\n",
              "      <td>19468.786280</td>\n",
              "      <td>1.349519</td>\n",
              "      <td>164.362217</td>\n",
              "      <td>74.203027</td>\n",
              "      <td>128.829584</td>\n",
              "      <td>96.650092</td>\n",
              "      <td>1.366806</td>\n",
              "      <td>1.226447</td>\n",
              "      <td>0.088051</td>\n",
              "      <td>0.053881</td>\n",
              "      <td>0.803986</td>\n",
              "      <td>0.499589</td>\n",
              "    </tr>\n",
              "    <tr>\n",
              "      <th>std</th>\n",
              "      <td>28563.100347</td>\n",
              "      <td>2467.261818</td>\n",
              "      <td>0.476821</td>\n",
              "      <td>8.205337</td>\n",
              "      <td>14.383469</td>\n",
              "      <td>154.775805</td>\n",
              "      <td>189.096240</td>\n",
              "      <td>0.680270</td>\n",
              "      <td>0.572246</td>\n",
              "      <td>0.283371</td>\n",
              "      <td>0.225784</td>\n",
              "      <td>0.396982</td>\n",
              "      <td>0.500003</td>\n",
              "    </tr>\n",
              "    <tr>\n",
              "      <th>min</th>\n",
              "      <td>988.000000</td>\n",
              "      <td>10798.000000</td>\n",
              "      <td>1.000000</td>\n",
              "      <td>55.000000</td>\n",
              "      <td>10.000000</td>\n",
              "      <td>-150.000000</td>\n",
              "      <td>-70.000000</td>\n",
              "      <td>1.000000</td>\n",
              "      <td>1.000000</td>\n",
              "      <td>0.000000</td>\n",
              "      <td>0.000000</td>\n",
              "      <td>0.000000</td>\n",
              "      <td>0.000000</td>\n",
              "    </tr>\n",
              "    <tr>\n",
              "      <th>25%</th>\n",
              "      <td>25745.000000</td>\n",
              "      <td>17664.000000</td>\n",
              "      <td>1.000000</td>\n",
              "      <td>159.000000</td>\n",
              "      <td>65.000000</td>\n",
              "      <td>120.000000</td>\n",
              "      <td>80.000000</td>\n",
              "      <td>1.000000</td>\n",
              "      <td>1.000000</td>\n",
              "      <td>0.000000</td>\n",
              "      <td>0.000000</td>\n",
              "      <td>1.000000</td>\n",
              "      <td>0.000000</td>\n",
              "    </tr>\n",
              "    <tr>\n",
              "      <th>50%</th>\n",
              "      <td>50494.000000</td>\n",
              "      <td>19704.000000</td>\n",
              "      <td>1.000000</td>\n",
              "      <td>165.000000</td>\n",
              "      <td>72.000000</td>\n",
              "      <td>120.000000</td>\n",
              "      <td>80.000000</td>\n",
              "      <td>1.000000</td>\n",
              "      <td>1.000000</td>\n",
              "      <td>0.000000</td>\n",
              "      <td>0.000000</td>\n",
              "      <td>1.000000</td>\n",
              "      <td>0.000000</td>\n",
              "    </tr>\n",
              "    <tr>\n",
              "      <th>75%</th>\n",
              "      <td>75150.000000</td>\n",
              "      <td>21326.000000</td>\n",
              "      <td>2.000000</td>\n",
              "      <td>170.000000</td>\n",
              "      <td>82.000000</td>\n",
              "      <td>140.000000</td>\n",
              "      <td>90.000000</td>\n",
              "      <td>2.000000</td>\n",
              "      <td>1.000000</td>\n",
              "      <td>0.000000</td>\n",
              "      <td>0.000000</td>\n",
              "      <td>1.000000</td>\n",
              "      <td>1.000000</td>\n",
              "    </tr>\n",
              "    <tr>\n",
              "      <th>max</th>\n",
              "      <td>99999.000000</td>\n",
              "      <td>23713.000000</td>\n",
              "      <td>2.000000</td>\n",
              "      <td>250.000000</td>\n",
              "      <td>200.000000</td>\n",
              "      <td>16020.000000</td>\n",
              "      <td>11000.000000</td>\n",
              "      <td>3.000000</td>\n",
              "      <td>3.000000</td>\n",
              "      <td>1.000000</td>\n",
              "      <td>1.000000</td>\n",
              "      <td>1.000000</td>\n",
              "      <td>1.000000</td>\n",
              "    </tr>\n",
              "  </tbody>\n",
              "</table>\n",
              "</div>\n",
              "      <button class=\"colab-df-convert\" onclick=\"convertToInteractive('df-48012cef-4192-42f7-8285-f889760cf1df')\"\n",
              "              title=\"Convert this dataframe to an interactive table.\"\n",
              "              style=\"display:none;\">\n",
              "        \n",
              "  <svg xmlns=\"http://www.w3.org/2000/svg\" height=\"24px\"viewBox=\"0 0 24 24\"\n",
              "       width=\"24px\">\n",
              "    <path d=\"M0 0h24v24H0V0z\" fill=\"none\"/>\n",
              "    <path d=\"M18.56 5.44l.94 2.06.94-2.06 2.06-.94-2.06-.94-.94-2.06-.94 2.06-2.06.94zm-11 1L8.5 8.5l.94-2.06 2.06-.94-2.06-.94L8.5 2.5l-.94 2.06-2.06.94zm10 10l.94 2.06.94-2.06 2.06-.94-2.06-.94-.94-2.06-.94 2.06-2.06.94z\"/><path d=\"M17.41 7.96l-1.37-1.37c-.4-.4-.92-.59-1.43-.59-.52 0-1.04.2-1.43.59L10.3 9.45l-7.72 7.72c-.78.78-.78 2.05 0 2.83L4 21.41c.39.39.9.59 1.41.59.51 0 1.02-.2 1.41-.59l7.78-7.78 2.81-2.81c.8-.78.8-2.07 0-2.86zM5.41 20L4 18.59l7.72-7.72 1.47 1.35L5.41 20z\"/>\n",
              "  </svg>\n",
              "      </button>\n",
              "      \n",
              "  <style>\n",
              "    .colab-df-container {\n",
              "      display:flex;\n",
              "      flex-wrap:wrap;\n",
              "      gap: 12px;\n",
              "    }\n",
              "\n",
              "    .colab-df-convert {\n",
              "      background-color: #E8F0FE;\n",
              "      border: none;\n",
              "      border-radius: 50%;\n",
              "      cursor: pointer;\n",
              "      display: none;\n",
              "      fill: #1967D2;\n",
              "      height: 32px;\n",
              "      padding: 0 0 0 0;\n",
              "      width: 32px;\n",
              "    }\n",
              "\n",
              "    .colab-df-convert:hover {\n",
              "      background-color: #E2EBFA;\n",
              "      box-shadow: 0px 1px 2px rgba(60, 64, 67, 0.3), 0px 1px 3px 1px rgba(60, 64, 67, 0.15);\n",
              "      fill: #174EA6;\n",
              "    }\n",
              "\n",
              "    [theme=dark] .colab-df-convert {\n",
              "      background-color: #3B4455;\n",
              "      fill: #D2E3FC;\n",
              "    }\n",
              "\n",
              "    [theme=dark] .colab-df-convert:hover {\n",
              "      background-color: #434B5C;\n",
              "      box-shadow: 0px 1px 3px 1px rgba(0, 0, 0, 0.15);\n",
              "      filter: drop-shadow(0px 1px 2px rgba(0, 0, 0, 0.3));\n",
              "      fill: #FFFFFF;\n",
              "    }\n",
              "  </style>\n",
              "\n",
              "      <script>\n",
              "        const buttonEl =\n",
              "          document.querySelector('#df-48012cef-4192-42f7-8285-f889760cf1df button.colab-df-convert');\n",
              "        buttonEl.style.display =\n",
              "          google.colab.kernel.accessAllowed ? 'block' : 'none';\n",
              "\n",
              "        async function convertToInteractive(key) {\n",
              "          const element = document.querySelector('#df-48012cef-4192-42f7-8285-f889760cf1df');\n",
              "          const dataTable =\n",
              "            await google.colab.kernel.invokeFunction('convertToInteractive',\n",
              "                                                     [key], {});\n",
              "          if (!dataTable) return;\n",
              "\n",
              "          const docLinkHtml = 'Like what you see? Visit the ' +\n",
              "            '<a target=\"_blank\" href=https://colab.research.google.com/notebooks/data_table.ipynb>data table notebook</a>'\n",
              "            + ' to learn more about interactive tables.';\n",
              "          element.innerHTML = '';\n",
              "          dataTable['output_type'] = 'display_data';\n",
              "          await google.colab.output.renderOutput(dataTable, element);\n",
              "          const docLink = document.createElement('div');\n",
              "          docLink.innerHTML = docLinkHtml;\n",
              "          element.appendChild(docLink);\n",
              "        }\n",
              "      </script>\n",
              "    </div>\n",
              "  </div>\n",
              "  "
            ]
          },
          "metadata": {},
          "execution_count": 13
        }
      ],
      "source": [
        "#Checking for the starting and ending values to find out the outliers present in the dataset\n",
        "cardio_vascular_data.describe()"
      ]
    },
    {
      "cell_type": "code",
      "execution_count": 14,
      "metadata": {
        "id": "-_9MHJapbytZ"
      },
      "outputs": [],
      "source": [
        "#Age attribute is in the form of number of days. So, converting age to number of years.\n",
        "cardio_vascular_data['age'] = cardio_vascular_data['age']/365.25"
      ]
    },
    {
      "cell_type": "code",
      "execution_count": 15,
      "metadata": {
        "id": "lyNgy09pdXXk"
      },
      "outputs": [],
      "source": [
        "#Dropping the data entries where ap_hi and ap_lo are out of range.\n",
        "cardio_vascular_data.drop(cardio_vascular_data.query('ap_hi >220 or ap_lo >180 or ap_hi<40 or ap_lo<40').index, axis=0, inplace=True)"
      ]
    },
    {
      "cell_type": "code",
      "execution_count": 16,
      "metadata": {
        "colab": {
          "base_uri": "https://localhost:8080/",
          "height": 206
        },
        "id": "1s8oqW4zfqoq",
        "outputId": "a2bf2f1c-984f-49a0-a6ef-13cf49e7b8cf"
      },
      "outputs": [
        {
          "output_type": "execute_result",
          "data": {
            "text/plain": [
              "    id        age  gender  height  weight  ap_hi  ap_lo  cholesterol  gluc  \\\n",
              "0  988  61.516769       1     155    69.0    130     80            2     2   \n",
              "1  989  40.104038       1     163    71.0    110     70            1     1   \n",
              "2  990  59.961670       1     165    70.0    120     80            1     1   \n",
              "3  991  39.832991       2     165    85.0    120     80            1     1   \n",
              "4  992  64.046543       1     155    62.0    120     80            1     1   \n",
              "\n",
              "   smoke  alco  active  cardio  \n",
              "0      0     0       1       0  \n",
              "1      0     0       1       1  \n",
              "2      0     0       1       0  \n",
              "3      1     1       1       0  \n",
              "4      0     0       1       0  "
            ],
            "text/html": [
              "\n",
              "  <div id=\"df-70155eca-6b70-4baa-8e55-3a159fce2969\">\n",
              "    <div class=\"colab-df-container\">\n",
              "      <div>\n",
              "<style scoped>\n",
              "    .dataframe tbody tr th:only-of-type {\n",
              "        vertical-align: middle;\n",
              "    }\n",
              "\n",
              "    .dataframe tbody tr th {\n",
              "        vertical-align: top;\n",
              "    }\n",
              "\n",
              "    .dataframe thead th {\n",
              "        text-align: right;\n",
              "    }\n",
              "</style>\n",
              "<table border=\"1\" class=\"dataframe\">\n",
              "  <thead>\n",
              "    <tr style=\"text-align: right;\">\n",
              "      <th></th>\n",
              "      <th>id</th>\n",
              "      <th>age</th>\n",
              "      <th>gender</th>\n",
              "      <th>height</th>\n",
              "      <th>weight</th>\n",
              "      <th>ap_hi</th>\n",
              "      <th>ap_lo</th>\n",
              "      <th>cholesterol</th>\n",
              "      <th>gluc</th>\n",
              "      <th>smoke</th>\n",
              "      <th>alco</th>\n",
              "      <th>active</th>\n",
              "      <th>cardio</th>\n",
              "    </tr>\n",
              "  </thead>\n",
              "  <tbody>\n",
              "    <tr>\n",
              "      <th>0</th>\n",
              "      <td>988</td>\n",
              "      <td>61.516769</td>\n",
              "      <td>1</td>\n",
              "      <td>155</td>\n",
              "      <td>69.0</td>\n",
              "      <td>130</td>\n",
              "      <td>80</td>\n",
              "      <td>2</td>\n",
              "      <td>2</td>\n",
              "      <td>0</td>\n",
              "      <td>0</td>\n",
              "      <td>1</td>\n",
              "      <td>0</td>\n",
              "    </tr>\n",
              "    <tr>\n",
              "      <th>1</th>\n",
              "      <td>989</td>\n",
              "      <td>40.104038</td>\n",
              "      <td>1</td>\n",
              "      <td>163</td>\n",
              "      <td>71.0</td>\n",
              "      <td>110</td>\n",
              "      <td>70</td>\n",
              "      <td>1</td>\n",
              "      <td>1</td>\n",
              "      <td>0</td>\n",
              "      <td>0</td>\n",
              "      <td>1</td>\n",
              "      <td>1</td>\n",
              "    </tr>\n",
              "    <tr>\n",
              "      <th>2</th>\n",
              "      <td>990</td>\n",
              "      <td>59.961670</td>\n",
              "      <td>1</td>\n",
              "      <td>165</td>\n",
              "      <td>70.0</td>\n",
              "      <td>120</td>\n",
              "      <td>80</td>\n",
              "      <td>1</td>\n",
              "      <td>1</td>\n",
              "      <td>0</td>\n",
              "      <td>0</td>\n",
              "      <td>1</td>\n",
              "      <td>0</td>\n",
              "    </tr>\n",
              "    <tr>\n",
              "      <th>3</th>\n",
              "      <td>991</td>\n",
              "      <td>39.832991</td>\n",
              "      <td>2</td>\n",
              "      <td>165</td>\n",
              "      <td>85.0</td>\n",
              "      <td>120</td>\n",
              "      <td>80</td>\n",
              "      <td>1</td>\n",
              "      <td>1</td>\n",
              "      <td>1</td>\n",
              "      <td>1</td>\n",
              "      <td>1</td>\n",
              "      <td>0</td>\n",
              "    </tr>\n",
              "    <tr>\n",
              "      <th>4</th>\n",
              "      <td>992</td>\n",
              "      <td>64.046543</td>\n",
              "      <td>1</td>\n",
              "      <td>155</td>\n",
              "      <td>62.0</td>\n",
              "      <td>120</td>\n",
              "      <td>80</td>\n",
              "      <td>1</td>\n",
              "      <td>1</td>\n",
              "      <td>0</td>\n",
              "      <td>0</td>\n",
              "      <td>1</td>\n",
              "      <td>0</td>\n",
              "    </tr>\n",
              "  </tbody>\n",
              "</table>\n",
              "</div>\n",
              "      <button class=\"colab-df-convert\" onclick=\"convertToInteractive('df-70155eca-6b70-4baa-8e55-3a159fce2969')\"\n",
              "              title=\"Convert this dataframe to an interactive table.\"\n",
              "              style=\"display:none;\">\n",
              "        \n",
              "  <svg xmlns=\"http://www.w3.org/2000/svg\" height=\"24px\"viewBox=\"0 0 24 24\"\n",
              "       width=\"24px\">\n",
              "    <path d=\"M0 0h24v24H0V0z\" fill=\"none\"/>\n",
              "    <path d=\"M18.56 5.44l.94 2.06.94-2.06 2.06-.94-2.06-.94-.94-2.06-.94 2.06-2.06.94zm-11 1L8.5 8.5l.94-2.06 2.06-.94-2.06-.94L8.5 2.5l-.94 2.06-2.06.94zm10 10l.94 2.06.94-2.06 2.06-.94-2.06-.94-.94-2.06-.94 2.06-2.06.94z\"/><path d=\"M17.41 7.96l-1.37-1.37c-.4-.4-.92-.59-1.43-.59-.52 0-1.04.2-1.43.59L10.3 9.45l-7.72 7.72c-.78.78-.78 2.05 0 2.83L4 21.41c.39.39.9.59 1.41.59.51 0 1.02-.2 1.41-.59l7.78-7.78 2.81-2.81c.8-.78.8-2.07 0-2.86zM5.41 20L4 18.59l7.72-7.72 1.47 1.35L5.41 20z\"/>\n",
              "  </svg>\n",
              "      </button>\n",
              "      \n",
              "  <style>\n",
              "    .colab-df-container {\n",
              "      display:flex;\n",
              "      flex-wrap:wrap;\n",
              "      gap: 12px;\n",
              "    }\n",
              "\n",
              "    .colab-df-convert {\n",
              "      background-color: #E8F0FE;\n",
              "      border: none;\n",
              "      border-radius: 50%;\n",
              "      cursor: pointer;\n",
              "      display: none;\n",
              "      fill: #1967D2;\n",
              "      height: 32px;\n",
              "      padding: 0 0 0 0;\n",
              "      width: 32px;\n",
              "    }\n",
              "\n",
              "    .colab-df-convert:hover {\n",
              "      background-color: #E2EBFA;\n",
              "      box-shadow: 0px 1px 2px rgba(60, 64, 67, 0.3), 0px 1px 3px 1px rgba(60, 64, 67, 0.15);\n",
              "      fill: #174EA6;\n",
              "    }\n",
              "\n",
              "    [theme=dark] .colab-df-convert {\n",
              "      background-color: #3B4455;\n",
              "      fill: #D2E3FC;\n",
              "    }\n",
              "\n",
              "    [theme=dark] .colab-df-convert:hover {\n",
              "      background-color: #434B5C;\n",
              "      box-shadow: 0px 1px 3px 1px rgba(0, 0, 0, 0.15);\n",
              "      filter: drop-shadow(0px 1px 2px rgba(0, 0, 0, 0.3));\n",
              "      fill: #FFFFFF;\n",
              "    }\n",
              "  </style>\n",
              "\n",
              "      <script>\n",
              "        const buttonEl =\n",
              "          document.querySelector('#df-70155eca-6b70-4baa-8e55-3a159fce2969 button.colab-df-convert');\n",
              "        buttonEl.style.display =\n",
              "          google.colab.kernel.accessAllowed ? 'block' : 'none';\n",
              "\n",
              "        async function convertToInteractive(key) {\n",
              "          const element = document.querySelector('#df-70155eca-6b70-4baa-8e55-3a159fce2969');\n",
              "          const dataTable =\n",
              "            await google.colab.kernel.invokeFunction('convertToInteractive',\n",
              "                                                     [key], {});\n",
              "          if (!dataTable) return;\n",
              "\n",
              "          const docLinkHtml = 'Like what you see? Visit the ' +\n",
              "            '<a target=\"_blank\" href=https://colab.research.google.com/notebooks/data_table.ipynb>data table notebook</a>'\n",
              "            + ' to learn more about interactive tables.';\n",
              "          element.innerHTML = '';\n",
              "          dataTable['output_type'] = 'display_data';\n",
              "          await google.colab.output.renderOutput(dataTable, element);\n",
              "          const docLink = document.createElement('div');\n",
              "          docLink.innerHTML = docLinkHtml;\n",
              "          element.appendChild(docLink);\n",
              "        }\n",
              "      </script>\n",
              "    </div>\n",
              "  </div>\n",
              "  "
            ]
          },
          "metadata": {},
          "execution_count": 16
        }
      ],
      "source": [
        "#Displaying the top 5 entries from the datatset to check if the data is preprocessed properly.\n",
        "cardio_vascular_data.head()"
      ]
    },
    {
      "cell_type": "markdown",
      "metadata": {
        "id": "befAlBs2jyfp"
      },
      "source": [
        "# Correlation Matrix Plot "
      ]
    },
    {
      "cell_type": "markdown",
      "metadata": {
        "id": "K9lpF7ibjyfq"
      },
      "source": [
        "### Correlation Matrix Visualization without Values "
      ]
    },
    {
      "cell_type": "code",
      "execution_count": 17,
      "metadata": {
        "colab": {
          "base_uri": "https://localhost:8080/",
          "height": 612
        },
        "id": "RHsIJtHdjugx",
        "outputId": "5c8fdac8-2737-4552-8a3e-c1c224134b56"
      },
      "outputs": [
        {
          "output_type": "execute_result",
          "data": {
            "text/plain": [
              "<matplotlib.colorbar.Colorbar at 0x7febbfe8c250>"
            ]
          },
          "metadata": {},
          "execution_count": 17
        },
        {
          "output_type": "display_data",
          "data": {
            "text/plain": [
              "<Figure size 720x720 with 2 Axes>"
            ],
            "image/png": "[encoded data removed]"
          },
          "metadata": {
            "needs_background": "light"
          }
        }
      ],
      "source": [
        "#Correlation matrix for finding out which attributes(features) are correlated.\n",
        "rcParams['figure.figsize'] = 10,10\n",
        "plt.matshow(cardio_vascular_data.corr())\n",
        "plt.yticks(np.arange(cardio_vascular_data.shape[1]), cardio_vascular_data.columns ,rotation='horizontal')\n",
        "plt.xticks(np.arange(cardio_vascular_data.shape[1]), cardio_vascular_data.columns, rotation='vertical')\n",
        "plt.colorbar()"
      ]
    },
    {
      "cell_type": "markdown",
      "metadata": {
        "id": "wkcEbu5tjyfr"
      },
      "source": [
        "### Correlation Matrix Visualization with Values "
      ]
    },
    {
      "cell_type": "code",
      "execution_count": 18,
      "metadata": {
        "colab": {
          "base_uri": "https://localhost:8080/",
          "height": 665
        },
        "id": "btSwj8_ur_-G",
        "outputId": "fe217850-95b8-4077-8b49-103ffcf06819"
      },
      "outputs": [
        {
          "output_type": "display_data",
          "data": {
            "text/plain": [
              "<Figure size 720x720 with 2 Axes>"
            ],
            "image/png": "[encoded data removed]"
          },
          "metadata": {
            "needs_background": "light"
          }
        }
      ],
      "source": [
        "corrmat = cardio_vascular_data.corr()\n",
        "\n",
        "plt.figure(figsize=(10,10))\n",
        "sns.set(font_scale=2)\n",
        "hm = sns.heatmap(corrmat,cmap = 'Set1', cbar=True, annot=True,vmin=0,vmax =1,center=True, square=True, fmt='.2f', annot_kws={'size': 10},\n",
        "             yticklabels = cardio_vascular_data.columns, xticklabels = cardio_vascular_data.columns)\n",
        "plt.show()"
      ]
    },
    {
      "cell_type": "code",
      "execution_count": 65,
      "metadata": {
        "colab": {
          "base_uri": "https://localhost:8080/",
          "height": 902
        },
        "id": "T82cuIBl3odl",
        "outputId": "6a50f3f0-982d-4dfb-8c27-11b043013b30"
      },
      "outputs": [
        {
          "output_type": "execute_result",
          "data": {
            "text/plain": [
              "array([[<matplotlib.axes._subplots.AxesSubplot object at 0x7febbad34990>,\n",
              "        <matplotlib.axes._subplots.AxesSubplot object at 0x7febbac04d10>,\n",
              "        <matplotlib.axes._subplots.AxesSubplot object at 0x7febba7bcc90>,\n",
              "        <matplotlib.axes._subplots.AxesSubplot object at 0x7febbb02ad50>],\n",
              "       [<matplotlib.axes._subplots.AxesSubplot object at 0x7febbb0f6910>,\n",
              "        <matplotlib.axes._subplots.AxesSubplot object at 0x7febba709110>,\n",
              "        <matplotlib.axes._subplots.AxesSubplot object at 0x7febba6b8790>,\n",
              "        <matplotlib.axes._subplots.AxesSubplot object at 0x7febba66dcd0>],\n",
              "       [<matplotlib.axes._subplots.AxesSubplot object at 0x7febba66dd10>,\n",
              "        <matplotlib.axes._subplots.AxesSubplot object at 0x7febba630450>,\n",
              "        <matplotlib.axes._subplots.AxesSubplot object at 0x7febba61ef50>,\n",
              "        <matplotlib.axes._subplots.AxesSubplot object at 0x7febba5df590>],\n",
              "       [<matplotlib.axes._subplots.AxesSubplot object at 0x7febba595b90>,\n",
              "        <matplotlib.axes._subplots.AxesSubplot object at 0x7febba55a1d0>,\n",
              "        <matplotlib.axes._subplots.AxesSubplot object at 0x7febba5117d0>,\n",
              "        <matplotlib.axes._subplots.AxesSubplot object at 0x7febba4c7dd0>]],\n",
              "      dtype=object)"
            ]
          },
          "metadata": {},
          "execution_count": 65
        },
        {
          "output_type": "display_data",
          "data": {
            "text/plain": [
              "<Figure size 720x720 with 16 Axes>"
            ],
            "image/png": "[encoded data removed]"
          },
          "metadata": {}
        }
      ],
      "source": [
        "sns.set(font_scale=0.8)\n",
        "cardio_vascular_data.hist()"
      ]
    },
    {
      "cell_type": "code",
      "execution_count": 21,
      "metadata": {
        "id": "ojZmea6Ov0Ce"
      },
      "outputs": [],
      "source": [
        "#Dropping attribute \"id\" as it is not important for classifying the CVD \n",
        "#and setting X(input features) and y(target variable) for using the classification model on the data.\n",
        "cardio_vascular_data.drop(['id'], axis=1)\n",
        "X = cardio_vascular_data.drop(['cardio'], axis=1)\n",
        "y = cardio_vascular_data['cardio']"
      ]
    },
    {
      "cell_type": "markdown",
      "metadata": {
        "id": "IRdUo9ERjyft"
      },
      "source": [
        "# Applying Machine Learning Model to the Processed Data "
      ]
    },
    {
      "cell_type": "markdown",
      "metadata": {
        "id": "hkmZOfXcT_-i"
      },
      "source": [
        "# 1. Random Forest Classifier "
      ]
    },
    {
      "cell_type": "code",
      "execution_count": 46,
      "metadata": {
        "id": "jMCP6WZsvGek"
      },
      "outputs": [],
      "source": [
        "#Splitting the dataset into training and testing dataset.\n",
        "#Tried Random Forest Classifier model for different number of Decision Trees.\n",
        "\n",
        "acc__train_rfc = []\n",
        "y_pred_train_rfc = []\n",
        "acc__test_rfc = []\n",
        "y_pred_test_rfc = []\n",
        "cnt = 0\n",
        "\n",
        "no_of_decision_trees = [10, 20, 30, 40, 50, 60, 70, 80, 90, 100, 110, 120, 130, 140, 150, 160, 170, 180, 190, 200]\n",
        "X_train, X_test, y_train, y_test = train_test_split(X, y, train_size = .66)\n",
        "\n",
        "for i in no_of_decision_trees:\n",
        "  random_forest_model = RandomForestClassifier(n_estimators=i, max_depth=8, random_state=0)\n",
        "  random_forest_model.fit(X_train, y_train)\n",
        "  y_pred_train_rfc.append(random_forest_model.predict(X_train))\n",
        "  y_pred_test_rfc.append(random_forest_model.predict(X_test))\n",
        "\n",
        "  acc__train_rfc.append(accuracy_score(y_train, y_pred_train_rfc[cnt]))\n",
        "  acc__test_rfc.append(accuracy_score(y_test, y_pred_test_rfc[cnt]))\n",
        "\n",
        "  cnt += 1"
      ]
    },
    {
      "cell_type": "code",
      "source": [
        "#Printing Training and Testing Accuracies for different number of decision trees.\n",
        "\n",
        "for i in range(0,20):\n",
        "  print(\"\\nTraining and Testing Accuracy for \", no_of_decision_trees[i],\" Decision Trees: \")\n",
        "  print(\"Training Accuracy: \", acc__train_rfc[i])\n",
        "  print(\"Testing Accuracy: \", acc__test_rfc[i])"
      ],
      "metadata": {
        "colab": {
          "base_uri": "https://localhost:8080/"
        },
        "id": "FgyZXG7vrAe9",
        "outputId": "934a08bf-6367-4dce-c7ec-735f6d36f440"
      },
      "execution_count": 47,
      "outputs": [
        {
          "output_type": "stream",
          "name": "stdout",
          "text": [
            "\n",
            "Training and Testing Accuracy for  10  Decision Trees: \n",
            "Training Accuracy:  0.7397284665034498\n",
            "Testing Accuracy:  0.7315850866202964\n",
            "\n",
            "Training and Testing Accuracy for  20  Decision Trees: \n",
            "Training Accuracy:  0.7397284665034498\n",
            "Testing Accuracy:  0.7328811509050849\n",
            "\n",
            "Training and Testing Accuracy for  30  Decision Trees: \n",
            "Training Accuracy:  0.7402848876029379\n",
            "Testing Accuracy:  0.7327947466194323\n",
            "\n",
            "Training and Testing Accuracy for  40  Decision Trees: \n",
            "Training Accuracy:  0.7413977298019141\n",
            "Testing Accuracy:  0.7325787359053009\n",
            "\n",
            "Training and Testing Accuracy for  50  Decision Trees: \n",
            "Training Accuracy:  0.7415312708657912\n",
            "Testing Accuracy:  0.7333995766190003\n",
            "\n",
            "Training and Testing Accuracy for  60  Decision Trees: \n",
            "Training Accuracy:  0.7412196750500779\n",
            "Testing Accuracy:  0.7328811509050849\n",
            "\n",
            "Training and Testing Accuracy for  70  Decision Trees: \n",
            "Training Accuracy:  0.7415757845537503\n",
            "Testing Accuracy:  0.7323195230483432\n",
            "\n",
            "Training and Testing Accuracy for  80  Decision Trees: \n",
            "Training Accuracy:  0.7413754729579346\n",
            "Testing Accuracy:  0.7321899166198643\n",
            "\n",
            "Training and Testing Accuracy for  90  Decision Trees: \n",
            "Training Accuracy:  0.7418428666815046\n",
            "Testing Accuracy:  0.7324923316196483\n",
            "\n",
            "Training and Testing Accuracy for  100  Decision Trees: \n",
            "Training Accuracy:  0.7413309592699755\n",
            "Testing Accuracy:  0.7320603101913855\n",
            "\n",
            "Training and Testing Accuracy for  110  Decision Trees: \n",
            "Training Accuracy:  0.7408635655464055\n",
            "Testing Accuracy:  0.7318875016200803\n",
            "\n",
            "Training and Testing Accuracy for  120  Decision Trees: \n",
            "Training Accuracy:  0.7409525929223236\n",
            "Testing Accuracy:  0.731973905905733\n",
            "\n",
            "Training and Testing Accuracy for  130  Decision Trees: \n",
            "Training Accuracy:  0.7405519697306922\n",
            "Testing Accuracy:  0.7318010973344278\n",
            "\n",
            "Training and Testing Accuracy for  140  Decision Trees: \n",
            "Training Accuracy:  0.7406855107945693\n",
            "Testing Accuracy:  0.7325355337624746\n",
            "\n",
            "Training and Testing Accuracy for  150  Decision Trees: \n",
            "Training Accuracy:  0.7407745381704874\n",
            "Testing Accuracy:  0.7324491294768221\n",
            "\n",
            "Training and Testing Accuracy for  160  Decision Trees: \n",
            "Training Accuracy:  0.7407967950144669\n",
            "Testing Accuracy:  0.7326651401909535\n",
            "\n",
            "Training and Testing Accuracy for  170  Decision Trees: \n",
            "Training Accuracy:  0.7407745381704874\n",
            "Testing Accuracy:  0.7324059273339958\n",
            "\n",
            "Training and Testing Accuracy for  180  Decision Trees: \n",
            "Training Accuracy:  0.740841308702426\n",
            "Testing Accuracy:  0.7323627251911695\n",
            "\n",
            "Training and Testing Accuracy for  190  Decision Trees: \n",
            "Training Accuracy:  0.7409080792343645\n",
            "Testing Accuracy:  0.7323195230483432\n",
            "\n",
            "Training and Testing Accuracy for  200  Decision Trees: \n",
            "Training Accuracy:  0.7412196750500779\n",
            "Testing Accuracy:  0.7324491294768221\n"
          ]
        }
      ]
    },
    {
      "cell_type": "code",
      "source": [
        "#Plotting Training and Testing Accuracies for different number of decision trees.\n",
        "\n",
        "labels = [10,20,30,40,50,60,70,80,90,100,110,120,130,140,150,160,170,180,190,200]\n",
        "plt.xticks([0,1,2,3,4,5,6,7,8,9,10,11,12,13,14,15,16,17,18,19],labels)\n",
        "plt.plot(acc__train_rfc,label='Training Accuracy')\n",
        "plt.plot(acc__test_rfc,label='Testing Accuracy')\n",
        "plt.legend()"
      ],
      "metadata": {
        "colab": {
          "base_uri": "https://localhost:8080/",
          "height": 611
        },
        "id": "YzgeVqu6pCBh",
        "outputId": "253fc5f3-1d3e-4af5-bd6a-20eb5e1e83b4"
      },
      "execution_count": 48,
      "outputs": [
        {
          "output_type": "execute_result",
          "data": {
            "text/plain": [
              "<matplotlib.legend.Legend at 0x7febbb0b5f50>"
            ]
          },
          "metadata": {},
          "execution_count": 48
        },
        {
          "output_type": "display_data",
          "data": {
            "text/plain": [
              "<Figure size 720x720 with 1 Axes>"
            ],
            "image/png": "[encoded data removed]"
          },
          "metadata": {}
        }
      ]
    },
    {
      "cell_type": "code",
      "source": [
        "#Printing Testing and Training Accuracy and Confusion Matrix for the best number of decision trees.\n",
        "#i.e. For the number of decision trees that has highest testing accuracy in Random Forest Classifier.\n",
        "\n",
        "max_test_accuracy = max(acc__test_rfc)\n",
        "index = acc__test_rfc.index(max_test_accuracy)\n",
        "print(\"Maximum Testing Accuracy found for \", no_of_decision_trees[index], \"Decision Trees.\")\n",
        "print(\"\\nTraining Accuracy: \", acc__train_rfc[index])\n",
        "print(\"Testing Accuracy: \", acc__test_rfc[index])\n",
        "\n",
        "print(\"\\n\\nConfusion Matrix for the Training Dataset\")\n",
        "print(confusion_matrix(y_train, y_pred_train_rfc[index]))\n",
        "print(\"\\n\\nConfusion Matrix for the Testing Dataset\")\n",
        "print(confusion_matrix(y_test, y_pred_test_rfc[index]))"
      ],
      "metadata": {
        "colab": {
          "base_uri": "https://localhost:8080/"
        },
        "id": "hC2kgMsHtyyd",
        "outputId": "0b6fd55e-40f8-4cec-fbd7-ecca54c66ea6"
      },
      "execution_count": 51,
      "outputs": [
        {
          "output_type": "stream",
          "name": "stdout",
          "text": [
            "Maximum Testing Accuracy found for  50 Decision Trees.\n",
            "\n",
            "Training Accuracy:  0.7415312708657912\n",
            "Testing Accuracy:  0.7333995766190003\n",
            "\n",
            "\n",
            "Confusion Matrix for the Training Dataset\n",
            "[[18282  4323]\n",
            " [ 7290 15035]]\n",
            "\n",
            "\n",
            "Confusion Matrix for the Testing Dataset\n",
            "[[9397 2392]\n",
            " [3779 7579]]\n"
          ]
        }
      ]
    },
    {
      "cell_type": "markdown",
      "metadata": {
        "id": "Gf6EoFrbkj3c"
      },
      "source": [
        "# 2. Logistic Regression"
      ]
    },
    {
      "cell_type": "code",
      "execution_count": null,
      "metadata": {
        "colab": {
          "base_uri": "https://localhost:8080/"
        },
        "id": "XJ3jPZbEKHv0",
        "outputId": "5962e2e6-2278-4615-a717-1edcd501a5dd"
      },
      "outputs": [
        {
          "name": "stdout",
          "output_type": "stream",
          "text": [
            "Confusion Matrix for the Training Dataset\n",
            "[[17235  5435]\n",
            " [ 7831 14429]]\n",
            "\n",
            "\n",
            "Confusion Matrix for the Testing Dataset\n",
            "[[8791 2933]\n",
            " [4064 7359]]\n",
            "\n",
            "\n",
            "Training Accuracy:  0.7047407077676385\n",
            "Testing Accuracy:  0.6977146066444896\n"
          ]
        }
      ],
      "source": [
        "#Using Logistic Regression model for prediction.\n",
        "\n",
        "logreg = LogisticRegression()\n",
        "logreg.fit(X_train, y_train)\n",
        "\n",
        "y_pred_train_lgr = pd.Series(logreg.predict(X_train))\n",
        "y_pred_test_lgr = pd.Series(logreg.predict(X_test))\n",
        "\n",
        "print(\"Confusion Matrix for the Training Dataset\")\n",
        "print(confusion_matrix(y_train, y_pred_train_lgr))\n",
        "print(\"\\n\\nConfusion Matrix for the Testing Dataset\")\n",
        "print(confusion_matrix(y_test, y_pred_test_lgr))\n",
        "\n",
        "acc_train_lgr = accuracy_score(y_train, y_pred_train_lgr)\n",
        "print(\"\\n\\nTraining Accuracy: \", acc_train_lgr)\n",
        "acc_test_lgr = accuracy_score(y_test, y_pred_test_lgr)\n",
        "print(\"Testing Accuracy: \", acc_test_lgr)"
      ]
    },
    {
      "cell_type": "markdown",
      "metadata": {
        "id": "bMgBlf75kp-k"
      },
      "source": [
        "# 3. K Nearest Neighbours"
      ]
    },
    {
      "cell_type": "code",
      "execution_count": 59,
      "metadata": {
        "id": "dyXfyMN4KKKu"
      },
      "outputs": [],
      "source": [
        "#Using kNN for classification for different values of k\n",
        "\n",
        "k = [2,3,4,5,6,7,8,9,10,11,12,13,14,15]\n",
        "y_pred_train_knn = []\n",
        "y_pred_test_knn = []\n",
        "acc_train_knn = []\n",
        "acc_test_knn = []\n",
        "cnt = 0\n",
        "\n",
        "for i in k:\n",
        "  classifier = KNeighborsClassifier(n_neighbors = i)\n",
        "  classifier.fit(X_train, y_train)\n",
        "\n",
        "  y_pred_train_knn.append(classifier.predict(X_train))\n",
        "  y_pred_test_knn.append(classifier.predict(X_test))\n",
        "\n",
        "  acc_train_knn.append(accuracy_score(y_train, y_pred_train_knn[cnt]))\n",
        "  acc_test_knn.append(accuracy_score(y_test, y_pred_test_knn[cnt]))\n",
        "  \n",
        "  cnt += 1"
      ]
    },
    {
      "cell_type": "code",
      "source": [
        "#Printing Testing and Training Accuracies for different values of k.\n",
        "\n",
        "for i in k:\n",
        "  print(\"\\nTraining and Testing Accuracy for k =\", i)\n",
        "  print(\"Training Accuracy: \", acc_train_knn[i-2])\n",
        "  print(\"Testing Accuracy: \", acc_test_knn[i-2])"
      ],
      "metadata": {
        "colab": {
          "base_uri": "https://localhost:8080/"
        },
        "id": "5DATl5oQ0Xl3",
        "outputId": "337bf71f-6976-4ed0-928a-67d16b100d35"
      },
      "execution_count": 62,
      "outputs": [
        {
          "output_type": "stream",
          "name": "stdout",
          "text": [
            "\n",
            "Training and Testing Accuracy for k = 2\n",
            "Training Accuracy:  0.7969953260627644\n",
            "Testing Accuracy:  0.6050028081392838\n",
            "\n",
            "Training and Testing Accuracy for k = 3\n",
            "Training Accuracy:  0.8064989984420209\n",
            "Testing Accuracy:  0.6214196224132716\n",
            "\n",
            "Training and Testing Accuracy for k = 4\n",
            "Training Accuracy:  0.7525261517916759\n",
            "Testing Accuracy:  0.625869443124379\n",
            "\n",
            "Training and Testing Accuracy for k = 5\n",
            "Training Accuracy:  0.7627197863342978\n",
            "Testing Accuracy:  0.6303624659783125\n",
            "\n",
            "Training and Testing Accuracy for k = 6\n",
            "Training Accuracy:  0.7341197418206098\n",
            "Testing Accuracy:  0.6313993174061433\n",
            "\n",
            "Training and Testing Accuracy for k = 7\n",
            "Training Accuracy:  0.7419986645893613\n",
            "Testing Accuracy:  0.6349850952607249\n",
            "\n",
            "Training and Testing Accuracy for k = 8\n",
            "Training Accuracy:  0.7208769196527932\n",
            "Testing Accuracy:  0.6333002116904999\n",
            "\n",
            "Training and Testing Accuracy for k = 9\n",
            "Training Accuracy:  0.7282884486979746\n",
            "Testing Accuracy:  0.6372316066876917\n",
            "\n",
            "Training and Testing Accuracy for k = 10\n",
            "Training Accuracy:  0.7108835967059871\n",
            "Testing Accuracy:  0.6358059359744244\n",
            "\n",
            "Training and Testing Accuracy for k = 11\n",
            "Training Accuracy:  0.7176496772757623\n",
            "Testing Accuracy:  0.6381820538298699\n",
            "\n",
            "Training and Testing Accuracy for k = 12\n",
            "Training Accuracy:  0.7040952592922324\n",
            "Testing Accuracy:  0.6345098716896358\n",
            "\n",
            "Training and Testing Accuracy for k = 13\n",
            "Training Accuracy:  0.7099042955708881\n",
            "Testing Accuracy:  0.6355899252602929\n",
            "\n",
            "Training and Testing Accuracy for k = 14\n",
            "Training Accuracy:  0.697240151346539\n",
            "Testing Accuracy:  0.6306216788352702\n",
            "\n",
            "Training and Testing Accuracy for k = 15\n",
            "Training Accuracy:  0.7036723792566214\n",
            "Testing Accuracy:  0.631183306692012\n"
          ]
        }
      ]
    },
    {
      "cell_type": "code",
      "source": [
        "#Plotting Testing and Training Accuracies for different values of k.\n",
        "\n",
        "labels = [2,3,4,5,6,7,8,9,10,11,12,13,14,15]\n",
        "plt.xticks([0,1,2,3,4,5,6,7,8,9,10,11,12,13],labels)\n",
        "plt.plot(acc_train_knn,label='Training Accuracy')\n",
        "plt.plot(acc_test_knn,label='Testing Accuracy')\n",
        "plt.legend()"
      ],
      "metadata": {
        "colab": {
          "base_uri": "https://localhost:8080/",
          "height": 611
        },
        "id": "JnnahXGL4InP",
        "outputId": "a70f2df2-735b-4d80-d5a3-43b5245c36c5"
      },
      "execution_count": 61,
      "outputs": [
        {
          "output_type": "execute_result",
          "data": {
            "text/plain": [
              "<matplotlib.legend.Legend at 0x7febbaf282d0>"
            ]
          },
          "metadata": {},
          "execution_count": 61
        },
        {
          "output_type": "display_data",
          "data": {
            "text/plain": [
              "<Figure size 720x720 with 1 Axes>"
            ],
            "image/png": "[encoded data removed]"
          },
          "metadata": {}
        }
      ]
    },
    {
      "cell_type": "code",
      "source": [
        "#Printing Testing and Training Accuracy and Confusion Matrix for the best value of k.\n",
        "#i.e. For the value of k that has highest testing accuracy in kNN.\n",
        "\n",
        "max_test_accuracy = max(acc_test_knn)\n",
        "index = acc_test_knn.index(max_test_accuracy)\n",
        "print(\"Maximum Testing Accuracy found for value of k =\", k[index])\n",
        "print(\"\\nTraining Accuracy: \", acc_train_knn[index])\n",
        "print(\"Testing Accuracy: \", acc_test_knn[index])\n",
        "\n",
        "print(\"\\n\\nConfusion Matrix for the Training Dataset\")\n",
        "print(confusion_matrix(y_train, y_pred_train_knn[index]))\n",
        "print(\"\\n\\nConfusion Matrix for the Testing Dataset\")\n",
        "print(confusion_matrix(y_test, y_pred_test_knn[index]))"
      ],
      "metadata": {
        "colab": {
          "base_uri": "https://localhost:8080/"
        },
        "id": "-XgaiGKE5MAN",
        "outputId": "fa78d7e9-a2f2-4331-a4c0-a9e3621ecac2"
      },
      "execution_count": 63,
      "outputs": [
        {
          "output_type": "stream",
          "name": "stdout",
          "text": [
            "Maximum Testing Accuracy found for value of k = 11\n",
            "\n",
            "Training Accuracy:  0.7176496772757623\n",
            "Testing Accuracy:  0.6381820538298699\n",
            "\n",
            "\n",
            "Confusion Matrix for the Training Dataset\n",
            "[[17773  4832]\n",
            " [ 7854 14471]]\n",
            "\n",
            "\n",
            "Confusion Matrix for the Testing Dataset\n",
            "[[8397 3392]\n",
            " [4983 6375]]\n"
          ]
        }
      ]
    },
    {
      "cell_type": "markdown",
      "metadata": {
        "id": "rxWAfekAjyfv"
      },
      "source": [
        "# 4. Support Vector Classifier (LinearSVC)"
      ]
    },
    {
      "cell_type": "code",
      "execution_count": null,
      "metadata": {
        "colab": {
          "base_uri": "https://localhost:8080/"
        },
        "id": "0d4gZ8Ok5148",
        "outputId": "b5dbd514-763d-4d35-c411-781e16038280",
        "scrolled": true
      },
      "outputs": [
        {
          "name": "stdout",
          "output_type": "stream",
          "text": [
            "Confusion Matrix for the Training Dataset\n",
            "[[17502  5168]\n",
            " [ 7605 14655]]\n",
            "\n",
            "\n",
            "Confusion Matrix for the Testing Dataset\n",
            "[[8943 2781]\n",
            " [3921 7502]]\n",
            "\n",
            "\n",
            "Training Accuracy:  0.7157133318495438\n",
            "Testing Accuracy:  0.7104592387782434\n"
          ]
        }
      ],
      "source": [
        "support_vector_classifier = svm.LinearSVC(dual=False) \n",
        "support_vector_classifier.fit(X_train,y_train)\n",
        "\n",
        "y_pred_train_svc = support_vector_classifier.predict(X_train) \n",
        "y_pred_test_svc = support_vector_classifier.predict(X_test)\n",
        "\n",
        "print(\"Confusion Matrix for the Training Dataset\") \n",
        "print(confusion_matrix(y_train, y_pred_train_svc)) \n",
        "print(\"\\n\\nConfusion Matrix for the Testing Dataset\") \n",
        "print(confusion_matrix(y_test, y_pred_test_svc))\n",
        "\n",
        "acc_train_svc = accuracy_score(y_train, y_pred_train_svc) \n",
        "print(\"\\n\\nTraining Accuracy: \", acc_train_svc) \n",
        "acc_test_svc = accuracy_score(y_test, y_pred_test_svc) \n",
        "print(\"Testing Accuracy: \", acc_test_svc)"
      ]
    },
    {
      "cell_type": "markdown",
      "metadata": {
        "id": "NPyPDcRYjyfw"
      },
      "source": [
        "# 5. XG-Boost Classifier (eXtreme Gradient Boosting)"
      ]
    },
    {
      "cell_type": "code",
      "execution_count": null,
      "metadata": {
        "colab": {
          "base_uri": "https://localhost:8080/"
        },
        "id": "xHfMcsnfA8zJ",
        "outputId": "86c92753-cb6b-4043-ed1b-589822f419c1"
      },
      "outputs": [
        {
          "name": "stdout",
          "output_type": "stream",
          "text": [
            "Confusion Matrix for the Training Dataset\n",
            "[[17849  4821]\n",
            " [ 6900 15360]]\n",
            "\n",
            "\n",
            "Confusion Matrix for the Testing Dataset\n",
            "[[9139 2585]\n",
            " [3618 7805]]\n",
            "\n",
            "\n",
            "Training Accuracy:  0.7391275317160027\n",
            "Testing Accuracy:  0.7320171080485592\n"
          ]
        }
      ],
      "source": [
        "xgb_classifier = XGBClassifier(use_label_encoder=False, eval_metric='mlogloss')\n",
        "xgb_classifier.fit(X_train,y_train)\n",
        "\n",
        "y_pred_train_xgb = xgb_classifier.predict(X_train) \n",
        "y_pred_test_xgb = xgb_classifier.predict(X_test)\n",
        "\n",
        "print(\"Confusion Matrix for the Training Dataset\") \n",
        "print(confusion_matrix(y_train, y_pred_train_xgb)) \n",
        "print(\"\\n\\nConfusion Matrix for the Testing Dataset\") \n",
        "print(confusion_matrix(y_test, y_pred_test_xgb))\n",
        "\n",
        "acc_train_xgb = accuracy_score(y_train, y_pred_train_xgb) \n",
        "print(\"\\n\\nTraining Accuracy: \", acc_train_xgb) \n",
        "acc_test_xgb = accuracy_score(y_test, y_pred_test_xgb) \n",
        "print(\"Testing Accuracy: \", acc_test_xgb)"
      ]
    }
  ],
  "metadata": {
    "accelerator": "TPU",
    "colab": {
      "collapsed_sections": [],
      "name": "Project_Special_Topics.ipynb",
      "provenance": []
    },
    "kernelspec": {
      "display_name": "Python 3",
      "language": "python",
      "name": "python3"
    },
    "language_info": {
      "codemirror_mode": {
        "name": "ipython",
        "version": 3
      },
      "file_extension": ".py",
      "mimetype": "text/x-python",
      "name": "python",
      "nbconvert_exporter": "python",
      "pygments_lexer": "ipython3",
      "version": "3.8.8"
    }
  },
  "nbformat": 4,
  "nbformat_minor": 0
}