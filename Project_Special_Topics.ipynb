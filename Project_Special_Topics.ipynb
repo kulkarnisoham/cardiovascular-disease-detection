{
  "cells": [
    {
      "cell_type": "code",
      "execution_count": 1,
      "metadata": {
        "colab": {
          "base_uri": "https://localhost:8080/"
        },
        "id": "CnxQ45himZHv",
        "outputId": "25f255ed-6b3c-4ca8-d512-6aafb88610bf"
      },
      "outputs": [
        {
          "output_type": "stream",
          "name": "stdout",
          "text": [
            "Mounted at /content/drive\n"
          ]
        }
      ],
      "source": [
        "from google.colab import drive\n",
        "drive.mount('/content/drive', force_remount=True)"
      ]
    },
    {
      "cell_type": "code",
      "execution_count": 2,
      "metadata": {
        "id": "n7b2bfeynUqk"
      },
      "outputs": [],
      "source": [
        "#Importing Required Libraries for the Project\n",
        "import numpy as np\n",
        "import pandas as pd \n",
        "import seaborn as sns\n",
        "import math\n",
        "import matplotlib.pyplot as plt\n",
        "from matplotlib import rcParams\n",
        "from sklearn.ensemble import RandomForestClassifier\n",
        "from sklearn.model_selection import train_test_split, cross_val_score\n",
        "from sklearn.metrics import confusion_matrix, plot_confusion_matrix\n",
        "from sklearn.metrics import accuracy_score, precision_score, recall_score, f1_score\n",
        "from sklearn.linear_model import LogisticRegression\n",
        "from sklearn.neighbors import KNeighborsClassifier\n",
        "from sklearn import svm\n",
        "from xgboost import XGBClassifier\n",
        "from sklearn.tree import DecisionTreeClassifier\n",
        "from sklearn.preprocessing import StandardScaler\n",
        "from sklearn.pipeline import make_pipeline"
      ]
    },
    {
      "cell_type": "code",
      "execution_count": 3,
      "metadata": {
        "colab": {
          "base_uri": "https://localhost:8080/",
          "height": 206
        },
        "id": "oQ-PJ4opnq-u",
        "outputId": "30032516-e9ff-4b6d-8fde-0b8610d36572"
      },
      "outputs": [
        {
          "output_type": "execute_result",
          "data": {
            "text/plain": [
              "    id    age  gender  height  weight  ap_hi  ap_lo  cholesterol  gluc  smoke  \\\n",
              "0  988  22469       1     155    69.0    130     80            2     2      0   \n",
              "1  989  14648       1     163    71.0    110     70            1     1      0   \n",
              "2  990  21901       1     165    70.0    120     80            1     1      0   \n",
              "3  991  14549       2     165    85.0    120     80            1     1      1   \n",
              "4  992  23393       1     155    62.0    120     80            1     1      0   \n",
              "\n",
              "   alco  active  cardio  \n",
              "0     0       1       0  \n",
              "1     0       1       1  \n",
              "2     0       1       0  \n",
              "3     1       1       0  \n",
              "4     0       1       0  "
            ],
            "text/html": [
              "\n",
              "  <div id=\"df-49da7a61-ab66-46d2-a6f8-bde2eb0d04d1\">\n",
              "    <div class=\"colab-df-container\">\n",
              "      <div>\n",
              "<style scoped>\n",
              "    .dataframe tbody tr th:only-of-type {\n",
              "        vertical-align: middle;\n",
              "    }\n",
              "\n",
              "    .dataframe tbody tr th {\n",
              "        vertical-align: top;\n",
              "    }\n",
              "\n",
              "    .dataframe thead th {\n",
              "        text-align: right;\n",
              "    }\n",
              "</style>\n",
              "<table border=\"1\" class=\"dataframe\">\n",
              "  <thead>\n",
              "    <tr style=\"text-align: right;\">\n",
              "      <th></th>\n",
              "      <th>id</th>\n",
              "      <th>age</th>\n",
              "      <th>gender</th>\n",
              "      <th>height</th>\n",
              "      <th>weight</th>\n",
              "      <th>ap_hi</th>\n",
              "      <th>ap_lo</th>\n",
              "      <th>cholesterol</th>\n",
              "      <th>gluc</th>\n",
              "      <th>smoke</th>\n",
              "      <th>alco</th>\n",
              "      <th>active</th>\n",
              "      <th>cardio</th>\n",
              "    </tr>\n",
              "  </thead>\n",
              "  <tbody>\n",
              "    <tr>\n",
              "      <th>0</th>\n",
              "      <td>988</td>\n",
              "      <td>22469</td>\n",
              "      <td>1</td>\n",
              "      <td>155</td>\n",
              "      <td>69.0</td>\n",
              "      <td>130</td>\n",
              "      <td>80</td>\n",
              "      <td>2</td>\n",
              "      <td>2</td>\n",
              "      <td>0</td>\n",
              "      <td>0</td>\n",
              "      <td>1</td>\n",
              "      <td>0</td>\n",
              "    </tr>\n",
              "    <tr>\n",
              "      <th>1</th>\n",
              "      <td>989</td>\n",
              "      <td>14648</td>\n",
              "      <td>1</td>\n",
              "      <td>163</td>\n",
              "      <td>71.0</td>\n",
              "      <td>110</td>\n",
              "      <td>70</td>\n",
              "      <td>1</td>\n",
              "      <td>1</td>\n",
              "      <td>0</td>\n",
              "      <td>0</td>\n",
              "      <td>1</td>\n",
              "      <td>1</td>\n",
              "    </tr>\n",
              "    <tr>\n",
              "      <th>2</th>\n",
              "      <td>990</td>\n",
              "      <td>21901</td>\n",
              "      <td>1</td>\n",
              "      <td>165</td>\n",
              "      <td>70.0</td>\n",
              "      <td>120</td>\n",
              "      <td>80</td>\n",
              "      <td>1</td>\n",
              "      <td>1</td>\n",
              "      <td>0</td>\n",
              "      <td>0</td>\n",
              "      <td>1</td>\n",
              "      <td>0</td>\n",
              "    </tr>\n",
              "    <tr>\n",
              "      <th>3</th>\n",
              "      <td>991</td>\n",
              "      <td>14549</td>\n",
              "      <td>2</td>\n",
              "      <td>165</td>\n",
              "      <td>85.0</td>\n",
              "      <td>120</td>\n",
              "      <td>80</td>\n",
              "      <td>1</td>\n",
              "      <td>1</td>\n",
              "      <td>1</td>\n",
              "      <td>1</td>\n",
              "      <td>1</td>\n",
              "      <td>0</td>\n",
              "    </tr>\n",
              "    <tr>\n",
              "      <th>4</th>\n",
              "      <td>992</td>\n",
              "      <td>23393</td>\n",
              "      <td>1</td>\n",
              "      <td>155</td>\n",
              "      <td>62.0</td>\n",
              "      <td>120</td>\n",
              "      <td>80</td>\n",
              "      <td>1</td>\n",
              "      <td>1</td>\n",
              "      <td>0</td>\n",
              "      <td>0</td>\n",
              "      <td>1</td>\n",
              "      <td>0</td>\n",
              "    </tr>\n",
              "  </tbody>\n",
              "</table>\n",
              "</div>\n",
              "      <button class=\"colab-df-convert\" onclick=\"convertToInteractive('df-49da7a61-ab66-46d2-a6f8-bde2eb0d04d1')\"\n",
              "              title=\"Convert this dataframe to an interactive table.\"\n",
              "              style=\"display:none;\">\n",
              "        \n",
              "  <svg xmlns=\"http://www.w3.org/2000/svg\" height=\"24px\"viewBox=\"0 0 24 24\"\n",
              "       width=\"24px\">\n",
              "    <path d=\"M0 0h24v24H0V0z\" fill=\"none\"/>\n",
              "    <path d=\"M18.56 5.44l.94 2.06.94-2.06 2.06-.94-2.06-.94-.94-2.06-.94 2.06-2.06.94zm-11 1L8.5 8.5l.94-2.06 2.06-.94-2.06-.94L8.5 2.5l-.94 2.06-2.06.94zm10 10l.94 2.06.94-2.06 2.06-.94-2.06-.94-.94-2.06-.94 2.06-2.06.94z\"/><path d=\"M17.41 7.96l-1.37-1.37c-.4-.4-.92-.59-1.43-.59-.52 0-1.04.2-1.43.59L10.3 9.45l-7.72 7.72c-.78.78-.78 2.05 0 2.83L4 21.41c.39.39.9.59 1.41.59.51 0 1.02-.2 1.41-.59l7.78-7.78 2.81-2.81c.8-.78.8-2.07 0-2.86zM5.41 20L4 18.59l7.72-7.72 1.47 1.35L5.41 20z\"/>\n",
              "  </svg>\n",
              "      </button>\n",
              "      \n",
              "  <style>\n",
              "    .colab-df-container {\n",
              "      display:flex;\n",
              "      flex-wrap:wrap;\n",
              "      gap: 12px;\n",
              "    }\n",
              "\n",
              "    .colab-df-convert {\n",
              "      background-color: #E8F0FE;\n",
              "      border: none;\n",
              "      border-radius: 50%;\n",
              "      cursor: pointer;\n",
              "      display: none;\n",
              "      fill: #1967D2;\n",
              "      height: 32px;\n",
              "      padding: 0 0 0 0;\n",
              "      width: 32px;\n",
              "    }\n",
              "\n",
              "    .colab-df-convert:hover {\n",
              "      background-color: #E2EBFA;\n",
              "      box-shadow: 0px 1px 2px rgba(60, 64, 67, 0.3), 0px 1px 3px 1px rgba(60, 64, 67, 0.15);\n",
              "      fill: #174EA6;\n",
              "    }\n",
              "\n",
              "    [theme=dark] .colab-df-convert {\n",
              "      background-color: #3B4455;\n",
              "      fill: #D2E3FC;\n",
              "    }\n",
              "\n",
              "    [theme=dark] .colab-df-convert:hover {\n",
              "      background-color: #434B5C;\n",
              "      box-shadow: 0px 1px 3px 1px rgba(0, 0, 0, 0.15);\n",
              "      filter: drop-shadow(0px 1px 2px rgba(0, 0, 0, 0.3));\n",
              "      fill: #FFFFFF;\n",
              "    }\n",
              "  </style>\n",
              "\n",
              "      <script>\n",
              "        const buttonEl =\n",
              "          document.querySelector('#df-49da7a61-ab66-46d2-a6f8-bde2eb0d04d1 button.colab-df-convert');\n",
              "        buttonEl.style.display =\n",
              "          google.colab.kernel.accessAllowed ? 'block' : 'none';\n",
              "\n",
              "        async function convertToInteractive(key) {\n",
              "          const element = document.querySelector('#df-49da7a61-ab66-46d2-a6f8-bde2eb0d04d1');\n",
              "          const dataTable =\n",
              "            await google.colab.kernel.invokeFunction('convertToInteractive',\n",
              "                                                     [key], {});\n",
              "          if (!dataTable) return;\n",
              "\n",
              "          const docLinkHtml = 'Like what you see? Visit the ' +\n",
              "            '<a target=\"_blank\" href=https://colab.research.google.com/notebooks/data_table.ipynb>data table notebook</a>'\n",
              "            + ' to learn more about interactive tables.';\n",
              "          element.innerHTML = '';\n",
              "          dataTable['output_type'] = 'display_data';\n",
              "          await google.colab.output.renderOutput(dataTable, element);\n",
              "          const docLink = document.createElement('div');\n",
              "          docLink.innerHTML = docLinkHtml;\n",
              "          element.appendChild(docLink);\n",
              "        }\n",
              "      </script>\n",
              "    </div>\n",
              "  </div>\n",
              "  "
            ]
          },
          "metadata": {},
          "execution_count": 3
        }
      ],
      "source": [
        "#Loading the dataset\n",
        "cardio_vascular_data = pd.read_csv(\"/content/drive/MyDrive/Colab Notebooks/Data/cardio_train.csv\", delimiter=\";\")\n",
        "cardio_vascular_data.head()"
      ]
    },
    {
      "cell_type": "markdown",
      "metadata": {
        "id": "TYtQLuWMPMnd"
      },
      "source": [
        "# Exploratory Data Analysis"
      ]
    },
    {
      "cell_type": "code",
      "execution_count": 4,
      "metadata": {
        "colab": {
          "base_uri": "https://localhost:8080/",
          "height": 353
        },
        "id": "Slv5TcqzOnV2",
        "outputId": "62e03ad6-ff58-4baa-8c65-bf4e241142a6"
      },
      "outputs": [
        {
          "output_type": "stream",
          "name": "stderr",
          "text": [
            "/usr/local/lib/python3.7/dist-packages/seaborn/_decorators.py:43: FutureWarning: Pass the following variable as a keyword arg: x. From version 0.12, the only valid positional argument will be `data`, and passing other arguments without an explicit keyword will result in an error or misinterpretation.\n",
            "  FutureWarning\n"
          ]
        },
        {
          "output_type": "execute_result",
          "data": {
            "text/plain": [
              "<matplotlib.axes._subplots.AxesSubplot at 0x7f3b45a990d0>"
            ]
          },
          "metadata": {},
          "execution_count": 4
        },
        {
          "output_type": "display_data",
          "data": {
            "text/plain": [
              "<Figure size 432x288 with 1 Axes>"
            ],
            "image/png": "[encoded data removed]"
          },
          "metadata": {
            "needs_background": "light"
          }
        }
      ],
      "source": [
        "sns.countplot(cardio_vascular_data['gender'])"
      ]
    },
    {
      "cell_type": "code",
      "execution_count": 5,
      "metadata": {
        "colab": {
          "base_uri": "https://localhost:8080/",
          "height": 353
        },
        "id": "7MymmLmrPUnM",
        "outputId": "09093fb1-8e31-42db-dae1-f44dfaf16b1e"
      },
      "outputs": [
        {
          "output_type": "stream",
          "name": "stderr",
          "text": [
            "/usr/local/lib/python3.7/dist-packages/seaborn/_decorators.py:43: FutureWarning: Pass the following variable as a keyword arg: x. From version 0.12, the only valid positional argument will be `data`, and passing other arguments without an explicit keyword will result in an error or misinterpretation.\n",
            "  FutureWarning\n"
          ]
        },
        {
          "output_type": "execute_result",
          "data": {
            "text/plain": [
              "<matplotlib.axes._subplots.AxesSubplot at 0x7f3b459d5d10>"
            ]
          },
          "metadata": {},
          "execution_count": 5
        },
        {
          "output_type": "display_data",
          "data": {
            "text/plain": [
              "<Figure size 432x288 with 1 Axes>"
            ],
            "image/png": "[encoded data removed]"
          },
          "metadata": {
            "needs_background": "light"
          }
        }
      ],
      "source": [
        "sns.countplot(cardio_vascular_data['cholesterol'])"
      ]
    },
    {
      "cell_type": "code",
      "execution_count": 6,
      "metadata": {
        "colab": {
          "base_uri": "https://localhost:8080/",
          "height": 353
        },
        "id": "qSamLangPWtT",
        "outputId": "de66d668-10f0-4fd4-c47d-0e49ae500b70"
      },
      "outputs": [
        {
          "output_type": "stream",
          "name": "stderr",
          "text": [
            "/usr/local/lib/python3.7/dist-packages/seaborn/_decorators.py:43: FutureWarning: Pass the following variable as a keyword arg: x. From version 0.12, the only valid positional argument will be `data`, and passing other arguments without an explicit keyword will result in an error or misinterpretation.\n",
            "  FutureWarning\n"
          ]
        },
        {
          "output_type": "execute_result",
          "data": {
            "text/plain": [
              "<matplotlib.axes._subplots.AxesSubplot at 0x7f3b45498b90>"
            ]
          },
          "metadata": {},
          "execution_count": 6
        },
        {
          "output_type": "display_data",
          "data": {
            "text/plain": [
              "<Figure size 432x288 with 1 Axes>"
            ],
            "image/png": "[encoded data removed]"
          },
          "metadata": {
            "needs_background": "light"
          }
        }
      ],
      "source": [
        "sns.countplot(cardio_vascular_data['gluc'])"
      ]
    },
    {
      "cell_type": "code",
      "execution_count": 7,
      "metadata": {
        "colab": {
          "base_uri": "https://localhost:8080/",
          "height": 353
        },
        "id": "F4-GG4pwPYkp",
        "outputId": "6428e69f-6ebc-4ffd-f73a-5e32cba5c0df"
      },
      "outputs": [
        {
          "output_type": "stream",
          "name": "stderr",
          "text": [
            "/usr/local/lib/python3.7/dist-packages/seaborn/_decorators.py:43: FutureWarning: Pass the following variable as a keyword arg: x. From version 0.12, the only valid positional argument will be `data`, and passing other arguments without an explicit keyword will result in an error or misinterpretation.\n",
            "  FutureWarning\n"
          ]
        },
        {
          "output_type": "execute_result",
          "data": {
            "text/plain": [
              "<matplotlib.axes._subplots.AxesSubplot at 0x7f3b45489e10>"
            ]
          },
          "metadata": {},
          "execution_count": 7
        },
        {
          "output_type": "display_data",
          "data": {
            "text/plain": [
              "<Figure size 432x288 with 1 Axes>"
            ],
            "image/png": "[encoded data removed]"
          },
          "metadata": {
            "needs_background": "light"
          }
        }
      ],
      "source": [
        "sns.countplot(cardio_vascular_data['alco'])"
      ]
    },
    {
      "cell_type": "code",
      "execution_count": 8,
      "metadata": {
        "colab": {
          "base_uri": "https://localhost:8080/",
          "height": 353
        },
        "id": "bVHQ4DzhPaLd",
        "outputId": "09ed1caf-dcd8-4720-ec29-2bba09f0b714"
      },
      "outputs": [
        {
          "output_type": "stream",
          "name": "stderr",
          "text": [
            "/usr/local/lib/python3.7/dist-packages/seaborn/_decorators.py:43: FutureWarning: Pass the following variable as a keyword arg: x. From version 0.12, the only valid positional argument will be `data`, and passing other arguments without an explicit keyword will result in an error or misinterpretation.\n",
            "  FutureWarning\n"
          ]
        },
        {
          "output_type": "execute_result",
          "data": {
            "text/plain": [
              "<matplotlib.axes._subplots.AxesSubplot at 0x7f3b453e74d0>"
            ]
          },
          "metadata": {},
          "execution_count": 8
        },
        {
          "output_type": "display_data",
          "data": {
            "text/plain": [
              "<Figure size 432x288 with 1 Axes>"
            ],
            "image/png": "[encoded data removed]"
          },
          "metadata": {
            "needs_background": "light"
          }
        }
      ],
      "source": [
        "sns.countplot(cardio_vascular_data['smoke'])"
      ]
    },
    {
      "cell_type": "code",
      "execution_count": 9,
      "metadata": {
        "colab": {
          "base_uri": "https://localhost:8080/",
          "height": 353
        },
        "id": "D9Wq56OLPcB1",
        "outputId": "0967c985-8f0c-4cd9-8cba-f818be956f77"
      },
      "outputs": [
        {
          "output_type": "stream",
          "name": "stderr",
          "text": [
            "/usr/local/lib/python3.7/dist-packages/seaborn/_decorators.py:43: FutureWarning: Pass the following variable as a keyword arg: x. From version 0.12, the only valid positional argument will be `data`, and passing other arguments without an explicit keyword will result in an error or misinterpretation.\n",
            "  FutureWarning\n"
          ]
        },
        {
          "output_type": "execute_result",
          "data": {
            "text/plain": [
              "<matplotlib.axes._subplots.AxesSubplot at 0x7f3b453c8050>"
            ]
          },
          "metadata": {},
          "execution_count": 9
        },
        {
          "output_type": "display_data",
          "data": {
            "text/plain": [
              "<Figure size 432x288 with 1 Axes>"
            ],
            "image/png": "[encoded data removed]"
          },
          "metadata": {
            "needs_background": "light"
          }
        }
      ],
      "source": [
        "sns.countplot(cardio_vascular_data['active'])"
      ]
    },
    {
      "cell_type": "code",
      "execution_count": 10,
      "metadata": {
        "colab": {
          "base_uri": "https://localhost:8080/",
          "height": 353
        },
        "id": "Bfr0ThHpPfMv",
        "outputId": "6755870c-464e-47a4-b41c-1659bd3aafd7"
      },
      "outputs": [
        {
          "output_type": "stream",
          "name": "stderr",
          "text": [
            "/usr/local/lib/python3.7/dist-packages/seaborn/_decorators.py:43: FutureWarning: Pass the following variable as a keyword arg: x. From version 0.12, the only valid positional argument will be `data`, and passing other arguments without an explicit keyword will result in an error or misinterpretation.\n",
            "  FutureWarning\n"
          ]
        },
        {
          "output_type": "execute_result",
          "data": {
            "text/plain": [
              "<matplotlib.axes._subplots.AxesSubplot at 0x7f3b453228d0>"
            ]
          },
          "metadata": {},
          "execution_count": 10
        },
        {
          "output_type": "display_data",
          "data": {
            "text/plain": [
              "<Figure size 432x288 with 1 Axes>"
            ],
            "image/png": "[encoded data removed]"
          },
          "metadata": {
            "needs_background": "light"
          }
        }
      ],
      "source": [
        "sns.countplot(cardio_vascular_data['cardio'])"
      ]
    },
    {
      "cell_type": "markdown",
      "metadata": {
        "id": "WYmcT4vZPzQv"
      },
      "source": [
        "# Data Preprocessing"
      ]
    },
    {
      "cell_type": "code",
      "execution_count": 11,
      "metadata": {
        "colab": {
          "base_uri": "https://localhost:8080/"
        },
        "id": "FeJWHdOOpDL6",
        "outputId": "59919788-f0d7-44ab-cdfd-7fae5e1355d7"
      },
      "outputs": [
        {
          "output_type": "stream",
          "name": "stdout",
          "text": [
            "<class 'pandas.core.frame.DataFrame'>\n",
            "RangeIndex: 69301 entries, 0 to 69300\n",
            "Data columns (total 13 columns):\n",
            " #   Column       Non-Null Count  Dtype  \n",
            "---  ------       --------------  -----  \n",
            " 0   id           69301 non-null  int64  \n",
            " 1   age          69301 non-null  int64  \n",
            " 2   gender       69301 non-null  int64  \n",
            " 3   height       69301 non-null  int64  \n",
            " 4   weight       69301 non-null  float64\n",
            " 5   ap_hi        69301 non-null  int64  \n",
            " 6   ap_lo        69301 non-null  int64  \n",
            " 7   cholesterol  69301 non-null  int64  \n",
            " 8   gluc         69301 non-null  int64  \n",
            " 9   smoke        69301 non-null  int64  \n",
            " 10  alco         69301 non-null  int64  \n",
            " 11  active       69301 non-null  int64  \n",
            " 12  cardio       69301 non-null  int64  \n",
            "dtypes: float64(1), int64(12)\n",
            "memory usage: 6.9 MB\n"
          ]
        }
      ],
      "source": [
        "#Checking the datatypes for all the attributes in the dataset\n",
        "cardio_vascular_data.info()"
      ]
    },
    {
      "cell_type": "code",
      "execution_count": 12,
      "metadata": {
        "colab": {
          "base_uri": "https://localhost:8080/"
        },
        "id": "DqC2dxrFrdV8",
        "outputId": "c2cc0e9b-2235-4629-8d3d-e869d06330c3"
      },
      "outputs": [
        {
          "output_type": "execute_result",
          "data": {
            "text/plain": [
              "id             0\n",
              "age            0\n",
              "gender         0\n",
              "height         0\n",
              "weight         0\n",
              "ap_hi          0\n",
              "ap_lo          0\n",
              "cholesterol    0\n",
              "gluc           0\n",
              "smoke          0\n",
              "alco           0\n",
              "active         0\n",
              "cardio         0\n",
              "dtype: int64"
            ]
          },
          "metadata": {},
          "execution_count": 12
        }
      ],
      "source": [
        "#Checking for null values in the dataset\n",
        "cardio_vascular_data.isnull().sum()"
      ]
    },
    {
      "cell_type": "code",
      "execution_count": 13,
      "metadata": {
        "colab": {
          "base_uri": "https://localhost:8080/",
          "height": 300
        },
        "id": "Zq1rOeY0VjOv",
        "outputId": "6279ab1e-ea47-4394-c71b-a4753122b6c8"
      },
      "outputs": [
        {
          "output_type": "execute_result",
          "data": {
            "text/plain": [
              "                 id           age        gender        height        weight  \\\n",
              "count  69301.000000  69301.000000  69301.000000  69301.000000  69301.000000   \n",
              "mean   50471.480397  19468.786280      1.349519    164.362217     74.203027   \n",
              "std    28563.100347   2467.261818      0.476821      8.205337     14.383469   \n",
              "min      988.000000  10798.000000      1.000000     55.000000     10.000000   \n",
              "25%    25745.000000  17664.000000      1.000000    159.000000     65.000000   \n",
              "50%    50494.000000  19704.000000      1.000000    165.000000     72.000000   \n",
              "75%    75150.000000  21326.000000      2.000000    170.000000     82.000000   \n",
              "max    99999.000000  23713.000000      2.000000    250.000000    200.000000   \n",
              "\n",
              "              ap_hi         ap_lo   cholesterol          gluc         smoke  \\\n",
              "count  69301.000000  69301.000000  69301.000000  69301.000000  69301.000000   \n",
              "mean     128.829584     96.650092      1.366806      1.226447      0.088051   \n",
              "std      154.775805    189.096240      0.680270      0.572246      0.283371   \n",
              "min     -150.000000    -70.000000      1.000000      1.000000      0.000000   \n",
              "25%      120.000000     80.000000      1.000000      1.000000      0.000000   \n",
              "50%      120.000000     80.000000      1.000000      1.000000      0.000000   \n",
              "75%      140.000000     90.000000      2.000000      1.000000      0.000000   \n",
              "max    16020.000000  11000.000000      3.000000      3.000000      1.000000   \n",
              "\n",
              "               alco        active        cardio  \n",
              "count  69301.000000  69301.000000  69301.000000  \n",
              "mean       0.053881      0.803986      0.499589  \n",
              "std        0.225784      0.396982      0.500003  \n",
              "min        0.000000      0.000000      0.000000  \n",
              "25%        0.000000      1.000000      0.000000  \n",
              "50%        0.000000      1.000000      0.000000  \n",
              "75%        0.000000      1.000000      1.000000  \n",
              "max        1.000000      1.000000      1.000000  "
            ],
            "text/html": [
              "\n",
              "  <div id=\"df-e99a30df-a414-40ef-8e1d-e3ac2daf0e9d\">\n",
              "    <div class=\"colab-df-container\">\n",
              "      <div>\n",
              "<style scoped>\n",
              "    .dataframe tbody tr th:only-of-type {\n",
              "        vertical-align: middle;\n",
              "    }\n",
              "\n",
              "    .dataframe tbody tr th {\n",
              "        vertical-align: top;\n",
              "    }\n",
              "\n",
              "    .dataframe thead th {\n",
              "        text-align: right;\n",
              "    }\n",
              "</style>\n",
              "<table border=\"1\" class=\"dataframe\">\n",
              "  <thead>\n",
              "    <tr style=\"text-align: right;\">\n",
              "      <th></th>\n",
              "      <th>id</th>\n",
              "      <th>age</th>\n",
              "      <th>gender</th>\n",
              "      <th>height</th>\n",
              "      <th>weight</th>\n",
              "      <th>ap_hi</th>\n",
              "      <th>ap_lo</th>\n",
              "      <th>cholesterol</th>\n",
              "      <th>gluc</th>\n",
              "      <th>smoke</th>\n",
              "      <th>alco</th>\n",
              "      <th>active</th>\n",
              "      <th>cardio</th>\n",
              "    </tr>\n",
              "  </thead>\n",
              "  <tbody>\n",
              "    <tr>\n",
              "      <th>count</th>\n",
              "      <td>69301.000000</td>\n",
              "      <td>69301.000000</td>\n",
              "      <td>69301.000000</td>\n",
              "      <td>69301.000000</td>\n",
              "      <td>69301.000000</td>\n",
              "      <td>69301.000000</td>\n",
              "      <td>69301.000000</td>\n",
              "      <td>69301.000000</td>\n",
              "      <td>69301.000000</td>\n",
              "      <td>69301.000000</td>\n",
              "      <td>69301.000000</td>\n",
              "      <td>69301.000000</td>\n",
              "      <td>69301.000000</td>\n",
              "    </tr>\n",
              "    <tr>\n",
              "      <th>mean</th>\n",
              "      <td>50471.480397</td>\n",
              "      <td>19468.786280</td>\n",
              "      <td>1.349519</td>\n",
              "      <td>164.362217</td>\n",
              "      <td>74.203027</td>\n",
              "      <td>128.829584</td>\n",
              "      <td>96.650092</td>\n",
              "      <td>1.366806</td>\n",
              "      <td>1.226447</td>\n",
              "      <td>0.088051</td>\n",
              "      <td>0.053881</td>\n",
              "      <td>0.803986</td>\n",
              "      <td>0.499589</td>\n",
              "    </tr>\n",
              "    <tr>\n",
              "      <th>std</th>\n",
              "      <td>28563.100347</td>\n",
              "      <td>2467.261818</td>\n",
              "      <td>0.476821</td>\n",
              "      <td>8.205337</td>\n",
              "      <td>14.383469</td>\n",
              "      <td>154.775805</td>\n",
              "      <td>189.096240</td>\n",
              "      <td>0.680270</td>\n",
              "      <td>0.572246</td>\n",
              "      <td>0.283371</td>\n",
              "      <td>0.225784</td>\n",
              "      <td>0.396982</td>\n",
              "      <td>0.500003</td>\n",
              "    </tr>\n",
              "    <tr>\n",
              "      <th>min</th>\n",
              "      <td>988.000000</td>\n",
              "      <td>10798.000000</td>\n",
              "      <td>1.000000</td>\n",
              "      <td>55.000000</td>\n",
              "      <td>10.000000</td>\n",
              "      <td>-150.000000</td>\n",
              "      <td>-70.000000</td>\n",
              "      <td>1.000000</td>\n",
              "      <td>1.000000</td>\n",
              "      <td>0.000000</td>\n",
              "      <td>0.000000</td>\n",
              "      <td>0.000000</td>\n",
              "      <td>0.000000</td>\n",
              "    </tr>\n",
              "    <tr>\n",
              "      <th>25%</th>\n",
              "      <td>25745.000000</td>\n",
              "      <td>17664.000000</td>\n",
              "      <td>1.000000</td>\n",
              "      <td>159.000000</td>\n",
              "      <td>65.000000</td>\n",
              "      <td>120.000000</td>\n",
              "      <td>80.000000</td>\n",
              "      <td>1.000000</td>\n",
              "      <td>1.000000</td>\n",
              "      <td>0.000000</td>\n",
              "      <td>0.000000</td>\n",
              "      <td>1.000000</td>\n",
              "      <td>0.000000</td>\n",
              "    </tr>\n",
              "    <tr>\n",
              "      <th>50%</th>\n",
              "      <td>50494.000000</td>\n",
              "      <td>19704.000000</td>\n",
              "      <td>1.000000</td>\n",
              "      <td>165.000000</td>\n",
              "      <td>72.000000</td>\n",
              "      <td>120.000000</td>\n",
              "      <td>80.000000</td>\n",
              "      <td>1.000000</td>\n",
              "      <td>1.000000</td>\n",
              "      <td>0.000000</td>\n",
              "      <td>0.000000</td>\n",
              "      <td>1.000000</td>\n",
              "      <td>0.000000</td>\n",
              "    </tr>\n",
              "    <tr>\n",
              "      <th>75%</th>\n",
              "      <td>75150.000000</td>\n",
              "      <td>21326.000000</td>\n",
              "      <td>2.000000</td>\n",
              "      <td>170.000000</td>\n",
              "      <td>82.000000</td>\n",
              "      <td>140.000000</td>\n",
              "      <td>90.000000</td>\n",
              "      <td>2.000000</td>\n",
              "      <td>1.000000</td>\n",
              "      <td>0.000000</td>\n",
              "      <td>0.000000</td>\n",
              "      <td>1.000000</td>\n",
              "      <td>1.000000</td>\n",
              "    </tr>\n",
              "    <tr>\n",
              "      <th>max</th>\n",
              "      <td>99999.000000</td>\n",
              "      <td>23713.000000</td>\n",
              "      <td>2.000000</td>\n",
              "      <td>250.000000</td>\n",
              "      <td>200.000000</td>\n",
              "      <td>16020.000000</td>\n",
              "      <td>11000.000000</td>\n",
              "      <td>3.000000</td>\n",
              "      <td>3.000000</td>\n",
              "      <td>1.000000</td>\n",
              "      <td>1.000000</td>\n",
              "      <td>1.000000</td>\n",
              "      <td>1.000000</td>\n",
              "    </tr>\n",
              "  </tbody>\n",
              "</table>\n",
              "</div>\n",
              "      <button class=\"colab-df-convert\" onclick=\"convertToInteractive('df-e99a30df-a414-40ef-8e1d-e3ac2daf0e9d')\"\n",
              "              title=\"Convert this dataframe to an interactive table.\"\n",
              "              style=\"display:none;\">\n",
              "        \n",
              "  <svg xmlns=\"http://www.w3.org/2000/svg\" height=\"24px\"viewBox=\"0 0 24 24\"\n",
              "       width=\"24px\">\n",
              "    <path d=\"M0 0h24v24H0V0z\" fill=\"none\"/>\n",
              "    <path d=\"M18.56 5.44l.94 2.06.94-2.06 2.06-.94-2.06-.94-.94-2.06-.94 2.06-2.06.94zm-11 1L8.5 8.5l.94-2.06 2.06-.94-2.06-.94L8.5 2.5l-.94 2.06-2.06.94zm10 10l.94 2.06.94-2.06 2.06-.94-2.06-.94-.94-2.06-.94 2.06-2.06.94z\"/><path d=\"M17.41 7.96l-1.37-1.37c-.4-.4-.92-.59-1.43-.59-.52 0-1.04.2-1.43.59L10.3 9.45l-7.72 7.72c-.78.78-.78 2.05 0 2.83L4 21.41c.39.39.9.59 1.41.59.51 0 1.02-.2 1.41-.59l7.78-7.78 2.81-2.81c.8-.78.8-2.07 0-2.86zM5.41 20L4 18.59l7.72-7.72 1.47 1.35L5.41 20z\"/>\n",
              "  </svg>\n",
              "      </button>\n",
              "      \n",
              "  <style>\n",
              "    .colab-df-container {\n",
              "      display:flex;\n",
              "      flex-wrap:wrap;\n",
              "      gap: 12px;\n",
              "    }\n",
              "\n",
              "    .colab-df-convert {\n",
              "      background-color: #E8F0FE;\n",
              "      border: none;\n",
              "      border-radius: 50%;\n",
              "      cursor: pointer;\n",
              "      display: none;\n",
              "      fill: #1967D2;\n",
              "      height: 32px;\n",
              "      padding: 0 0 0 0;\n",
              "      width: 32px;\n",
              "    }\n",
              "\n",
              "    .colab-df-convert:hover {\n",
              "      background-color: #E2EBFA;\n",
              "      box-shadow: 0px 1px 2px rgba(60, 64, 67, 0.3), 0px 1px 3px 1px rgba(60, 64, 67, 0.15);\n",
              "      fill: #174EA6;\n",
              "    }\n",
              "\n",
              "    [theme=dark] .colab-df-convert {\n",
              "      background-color: #3B4455;\n",
              "      fill: #D2E3FC;\n",
              "    }\n",
              "\n",
              "    [theme=dark] .colab-df-convert:hover {\n",
              "      background-color: #434B5C;\n",
              "      box-shadow: 0px 1px 3px 1px rgba(0, 0, 0, 0.15);\n",
              "      filter: drop-shadow(0px 1px 2px rgba(0, 0, 0, 0.3));\n",
              "      fill: #FFFFFF;\n",
              "    }\n",
              "  </style>\n",
              "\n",
              "      <script>\n",
              "        const buttonEl =\n",
              "          document.querySelector('#df-e99a30df-a414-40ef-8e1d-e3ac2daf0e9d button.colab-df-convert');\n",
              "        buttonEl.style.display =\n",
              "          google.colab.kernel.accessAllowed ? 'block' : 'none';\n",
              "\n",
              "        async function convertToInteractive(key) {\n",
              "          const element = document.querySelector('#df-e99a30df-a414-40ef-8e1d-e3ac2daf0e9d');\n",
              "          const dataTable =\n",
              "            await google.colab.kernel.invokeFunction('convertToInteractive',\n",
              "                                                     [key], {});\n",
              "          if (!dataTable) return;\n",
              "\n",
              "          const docLinkHtml = 'Like what you see? Visit the ' +\n",
              "            '<a target=\"_blank\" href=https://colab.research.google.com/notebooks/data_table.ipynb>data table notebook</a>'\n",
              "            + ' to learn more about interactive tables.';\n",
              "          element.innerHTML = '';\n",
              "          dataTable['output_type'] = 'display_data';\n",
              "          await google.colab.output.renderOutput(dataTable, element);\n",
              "          const docLink = document.createElement('div');\n",
              "          docLink.innerHTML = docLinkHtml;\n",
              "          element.appendChild(docLink);\n",
              "        }\n",
              "      </script>\n",
              "    </div>\n",
              "  </div>\n",
              "  "
            ]
          },
          "metadata": {},
          "execution_count": 13
        }
      ],
      "source": [
        "#Checking for the starting and ending values to find out the outliers present in the dataset\n",
        "cardio_vascular_data.describe()"
      ]
    },
    {
      "cell_type": "code",
      "execution_count": 14,
      "metadata": {
        "id": "-_9MHJapbytZ"
      },
      "outputs": [],
      "source": [
        "#Age attribute is in the form of number of days. So, converting age to number of years.\n",
        "cardio_vascular_data['age'] = cardio_vascular_data['age']/365.25"
      ]
    },
    {
      "cell_type": "code",
      "execution_count": 15,
      "metadata": {
        "id": "lyNgy09pdXXk"
      },
      "outputs": [],
      "source": [
        "#Dropping the data entries where ap_hi and ap_lo are out of range.\n",
        "cardio_vascular_data.drop(cardio_vascular_data.query('ap_hi >220 or ap_lo >180 or ap_hi<40 or ap_lo<40').index, axis=0, inplace=True)"
      ]
    },
    {
      "cell_type": "code",
      "execution_count": 16,
      "metadata": {
        "colab": {
          "base_uri": "https://localhost:8080/",
          "height": 206
        },
        "id": "1s8oqW4zfqoq",
        "outputId": "5292d35f-65c1-4797-a5b2-a3528220693c"
      },
      "outputs": [
        {
          "output_type": "execute_result",
          "data": {
            "text/plain": [
              "    id        age  gender  height  weight  ap_hi  ap_lo  cholesterol  gluc  \\\n",
              "0  988  61.516769       1     155    69.0    130     80            2     2   \n",
              "1  989  40.104038       1     163    71.0    110     70            1     1   \n",
              "2  990  59.961670       1     165    70.0    120     80            1     1   \n",
              "3  991  39.832991       2     165    85.0    120     80            1     1   \n",
              "4  992  64.046543       1     155    62.0    120     80            1     1   \n",
              "\n",
              "   smoke  alco  active  cardio  \n",
              "0      0     0       1       0  \n",
              "1      0     0       1       1  \n",
              "2      0     0       1       0  \n",
              "3      1     1       1       0  \n",
              "4      0     0       1       0  "
            ],
            "text/html": [
              "\n",
              "  <div id=\"df-c33153a8-5459-4915-ad2b-b6a2b18266ef\">\n",
              "    <div class=\"colab-df-container\">\n",
              "      <div>\n",
              "<style scoped>\n",
              "    .dataframe tbody tr th:only-of-type {\n",
              "        vertical-align: middle;\n",
              "    }\n",
              "\n",
              "    .dataframe tbody tr th {\n",
              "        vertical-align: top;\n",
              "    }\n",
              "\n",
              "    .dataframe thead th {\n",
              "        text-align: right;\n",
              "    }\n",
              "</style>\n",
              "<table border=\"1\" class=\"dataframe\">\n",
              "  <thead>\n",
              "    <tr style=\"text-align: right;\">\n",
              "      <th></th>\n",
              "      <th>id</th>\n",
              "      <th>age</th>\n",
              "      <th>gender</th>\n",
              "      <th>height</th>\n",
              "      <th>weight</th>\n",
              "      <th>ap_hi</th>\n",
              "      <th>ap_lo</th>\n",
              "      <th>cholesterol</th>\n",
              "      <th>gluc</th>\n",
              "      <th>smoke</th>\n",
              "      <th>alco</th>\n",
              "      <th>active</th>\n",
              "      <th>cardio</th>\n",
              "    </tr>\n",
              "  </thead>\n",
              "  <tbody>\n",
              "    <tr>\n",
              "      <th>0</th>\n",
              "      <td>988</td>\n",
              "      <td>61.516769</td>\n",
              "      <td>1</td>\n",
              "      <td>155</td>\n",
              "      <td>69.0</td>\n",
              "      <td>130</td>\n",
              "      <td>80</td>\n",
              "      <td>2</td>\n",
              "      <td>2</td>\n",
              "      <td>0</td>\n",
              "      <td>0</td>\n",
              "      <td>1</td>\n",
              "      <td>0</td>\n",
              "    </tr>\n",
              "    <tr>\n",
              "      <th>1</th>\n",
              "      <td>989</td>\n",
              "      <td>40.104038</td>\n",
              "      <td>1</td>\n",
              "      <td>163</td>\n",
              "      <td>71.0</td>\n",
              "      <td>110</td>\n",
              "      <td>70</td>\n",
              "      <td>1</td>\n",
              "      <td>1</td>\n",
              "      <td>0</td>\n",
              "      <td>0</td>\n",
              "      <td>1</td>\n",
              "      <td>1</td>\n",
              "    </tr>\n",
              "    <tr>\n",
              "      <th>2</th>\n",
              "      <td>990</td>\n",
              "      <td>59.961670</td>\n",
              "      <td>1</td>\n",
              "      <td>165</td>\n",
              "      <td>70.0</td>\n",
              "      <td>120</td>\n",
              "      <td>80</td>\n",
              "      <td>1</td>\n",
              "      <td>1</td>\n",
              "      <td>0</td>\n",
              "      <td>0</td>\n",
              "      <td>1</td>\n",
              "      <td>0</td>\n",
              "    </tr>\n",
              "    <tr>\n",
              "      <th>3</th>\n",
              "      <td>991</td>\n",
              "      <td>39.832991</td>\n",
              "      <td>2</td>\n",
              "      <td>165</td>\n",
              "      <td>85.0</td>\n",
              "      <td>120</td>\n",
              "      <td>80</td>\n",
              "      <td>1</td>\n",
              "      <td>1</td>\n",
              "      <td>1</td>\n",
              "      <td>1</td>\n",
              "      <td>1</td>\n",
              "      <td>0</td>\n",
              "    </tr>\n",
              "    <tr>\n",
              "      <th>4</th>\n",
              "      <td>992</td>\n",
              "      <td>64.046543</td>\n",
              "      <td>1</td>\n",
              "      <td>155</td>\n",
              "      <td>62.0</td>\n",
              "      <td>120</td>\n",
              "      <td>80</td>\n",
              "      <td>1</td>\n",
              "      <td>1</td>\n",
              "      <td>0</td>\n",
              "      <td>0</td>\n",
              "      <td>1</td>\n",
              "      <td>0</td>\n",
              "    </tr>\n",
              "  </tbody>\n",
              "</table>\n",
              "</div>\n",
              "      <button class=\"colab-df-convert\" onclick=\"convertToInteractive('df-c33153a8-5459-4915-ad2b-b6a2b18266ef')\"\n",
              "              title=\"Convert this dataframe to an interactive table.\"\n",
              "              style=\"display:none;\">\n",
              "        \n",
              "  <svg xmlns=\"http://www.w3.org/2000/svg\" height=\"24px\"viewBox=\"0 0 24 24\"\n",
              "       width=\"24px\">\n",
              "    <path d=\"M0 0h24v24H0V0z\" fill=\"none\"/>\n",
              "    <path d=\"M18.56 5.44l.94 2.06.94-2.06 2.06-.94-2.06-.94-.94-2.06-.94 2.06-2.06.94zm-11 1L8.5 8.5l.94-2.06 2.06-.94-2.06-.94L8.5 2.5l-.94 2.06-2.06.94zm10 10l.94 2.06.94-2.06 2.06-.94-2.06-.94-.94-2.06-.94 2.06-2.06.94z\"/><path d=\"M17.41 7.96l-1.37-1.37c-.4-.4-.92-.59-1.43-.59-.52 0-1.04.2-1.43.59L10.3 9.45l-7.72 7.72c-.78.78-.78 2.05 0 2.83L4 21.41c.39.39.9.59 1.41.59.51 0 1.02-.2 1.41-.59l7.78-7.78 2.81-2.81c.8-.78.8-2.07 0-2.86zM5.41 20L4 18.59l7.72-7.72 1.47 1.35L5.41 20z\"/>\n",
              "  </svg>\n",
              "      </button>\n",
              "      \n",
              "  <style>\n",
              "    .colab-df-container {\n",
              "      display:flex;\n",
              "      flex-wrap:wrap;\n",
              "      gap: 12px;\n",
              "    }\n",
              "\n",
              "    .colab-df-convert {\n",
              "      background-color: #E8F0FE;\n",
              "      border: none;\n",
              "      border-radius: 50%;\n",
              "      cursor: pointer;\n",
              "      display: none;\n",
              "      fill: #1967D2;\n",
              "      height: 32px;\n",
              "      padding: 0 0 0 0;\n",
              "      width: 32px;\n",
              "    }\n",
              "\n",
              "    .colab-df-convert:hover {\n",
              "      background-color: #E2EBFA;\n",
              "      box-shadow: 0px 1px 2px rgba(60, 64, 67, 0.3), 0px 1px 3px 1px rgba(60, 64, 67, 0.15);\n",
              "      fill: #174EA6;\n",
              "    }\n",
              "\n",
              "    [theme=dark] .colab-df-convert {\n",
              "      background-color: #3B4455;\n",
              "      fill: #D2E3FC;\n",
              "    }\n",
              "\n",
              "    [theme=dark] .colab-df-convert:hover {\n",
              "      background-color: #434B5C;\n",
              "      box-shadow: 0px 1px 3px 1px rgba(0, 0, 0, 0.15);\n",
              "      filter: drop-shadow(0px 1px 2px rgba(0, 0, 0, 0.3));\n",
              "      fill: #FFFFFF;\n",
              "    }\n",
              "  </style>\n",
              "\n",
              "      <script>\n",
              "        const buttonEl =\n",
              "          document.querySelector('#df-c33153a8-5459-4915-ad2b-b6a2b18266ef button.colab-df-convert');\n",
              "        buttonEl.style.display =\n",
              "          google.colab.kernel.accessAllowed ? 'block' : 'none';\n",
              "\n",
              "        async function convertToInteractive(key) {\n",
              "          const element = document.querySelector('#df-c33153a8-5459-4915-ad2b-b6a2b18266ef');\n",
              "          const dataTable =\n",
              "            await google.colab.kernel.invokeFunction('convertToInteractive',\n",
              "                                                     [key], {});\n",
              "          if (!dataTable) return;\n",
              "\n",
              "          const docLinkHtml = 'Like what you see? Visit the ' +\n",
              "            '<a target=\"_blank\" href=https://colab.research.google.com/notebooks/data_table.ipynb>data table notebook</a>'\n",
              "            + ' to learn more about interactive tables.';\n",
              "          element.innerHTML = '';\n",
              "          dataTable['output_type'] = 'display_data';\n",
              "          await google.colab.output.renderOutput(dataTable, element);\n",
              "          const docLink = document.createElement('div');\n",
              "          docLink.innerHTML = docLinkHtml;\n",
              "          element.appendChild(docLink);\n",
              "        }\n",
              "      </script>\n",
              "    </div>\n",
              "  </div>\n",
              "  "
            ]
          },
          "metadata": {},
          "execution_count": 16
        }
      ],
      "source": [
        "#Displaying the top 5 entries from the datatset to check if the data is preprocessed properly.\n",
        "cardio_vascular_data.head()"
      ]
    },
    {
      "cell_type": "markdown",
      "metadata": {
        "id": "7m9L54umyzWY"
      },
      "source": [
        "# Correlation Matrix Plot "
      ]
    },
    {
      "cell_type": "markdown",
      "metadata": {
        "id": "-mbfz1iZyzWY"
      },
      "source": [
        "### Correlation Matrix Visualization without Values "
      ]
    },
    {
      "cell_type": "code",
      "execution_count": 17,
      "metadata": {
        "colab": {
          "base_uri": "https://localhost:8080/",
          "height": 613
        },
        "id": "RHsIJtHdjugx",
        "outputId": "15173fa1-80da-4538-decc-cd47c940ade8"
      },
      "outputs": [
        {
          "output_type": "execute_result",
          "data": {
            "text/plain": [
              "<matplotlib.colorbar.Colorbar at 0x7f3b45239050>"
            ]
          },
          "metadata": {},
          "execution_count": 17
        },
        {
          "output_type": "display_data",
          "data": {
            "text/plain": [
              "<Figure size 720x720 with 2 Axes>"
            ],
            "image/png": "[encoded data removed]"
          },
          "metadata": {
            "needs_background": "light"
          }
        }
      ],
      "source": [
        "#Correlation matrix for finding out which attributes(features) are correlated.\n",
        "rcParams['figure.figsize'] = 10,10\n",
        "plt.matshow(cardio_vascular_data.corr())\n",
        "plt.yticks(np.arange(cardio_vascular_data.shape[1]), cardio_vascular_data.columns ,rotation='horizontal')\n",
        "plt.xticks(np.arange(cardio_vascular_data.shape[1]), cardio_vascular_data.columns, rotation='vertical')\n",
        "plt.colorbar()"
      ]
    },
    {
      "cell_type": "markdown",
      "metadata": {
        "id": "Sgy74XybyzWZ"
      },
      "source": [
        "### Correlation Matrix Visualization with Values "
      ]
    },
    {
      "cell_type": "code",
      "execution_count": 19,
      "metadata": {
        "colab": {
          "base_uri": "https://localhost:8080/",
          "height": 601
        },
        "id": "btSwj8_ur_-G",
        "outputId": "6b08b681-666a-4301-a19b-01bd98abe6d6"
      },
      "outputs": [
        {
          "output_type": "display_data",
          "data": {
            "text/plain": [
              "<Figure size 720x720 with 2 Axes>"
            ],
            "image/png": "[encoded data removed]"
          },
          "metadata": {}
        }
      ],
      "source": [
        "corrmat = cardio_vascular_data.corr()\n",
        "\n",
        "plt.figure(figsize=(10,10))\n",
        "sns.set()\n",
        "hm = sns.heatmap(corrmat,cmap = 'Set1', cbar=True, annot=True,vmin=0,vmax =1,center=True, square=True, fmt='.2f', annot_kws={'size': 10},\n",
        "             yticklabels = cardio_vascular_data.columns, xticklabels = cardio_vascular_data.columns)\n",
        "plt.show()"
      ]
    },
    {
      "cell_type": "code",
      "execution_count": 20,
      "metadata": {
        "colab": {
          "base_uri": "https://localhost:8080/",
          "height": 1000
        },
        "id": "T82cuIBl3odl",
        "outputId": "6820cec5-bb95-4548-bbb2-f941e3fc3617"
      },
      "outputs": [
        {
          "output_type": "execute_result",
          "data": {
            "text/plain": [
              "array([[<matplotlib.axes._subplots.AxesSubplot object at 0x7f3b41592fd0>,\n",
              "        <matplotlib.axes._subplots.AxesSubplot object at 0x7f3b415a3490>,\n",
              "        <matplotlib.axes._subplots.AxesSubplot object at 0x7f3b4155b590>,\n",
              "        <matplotlib.axes._subplots.AxesSubplot object at 0x7f3b415130d0>],\n",
              "       [<matplotlib.axes._subplots.AxesSubplot object at 0x7f3b414d61d0>,\n",
              "        <matplotlib.axes._subplots.AxesSubplot object at 0x7f3b4148c7d0>,\n",
              "        <matplotlib.axes._subplots.AxesSubplot object at 0x7f3b41447310>,\n",
              "        <matplotlib.axes._subplots.AxesSubplot object at 0x7f3b41406410>],\n",
              "       [<matplotlib.axes._subplots.AxesSubplot object at 0x7f3b413bea50>,\n",
              "        <matplotlib.axes._subplots.AxesSubplot object at 0x7f3b41381090>,\n",
              "        <matplotlib.axes._subplots.AxesSubplot object at 0x7f3b41805e50>,\n",
              "        <matplotlib.axes._subplots.AxesSubplot object at 0x7f3b41602410>],\n",
              "       [<matplotlib.axes._subplots.AxesSubplot object at 0x7f3b41459a50>,\n",
              "        <matplotlib.axes._subplots.AxesSubplot object at 0x7f3b45328fd0>,\n",
              "        <matplotlib.axes._subplots.AxesSubplot object at 0x7f3b45065690>,\n",
              "        <matplotlib.axes._subplots.AxesSubplot object at 0x7f3b4503f150>]],\n",
              "      dtype=object)"
            ]
          },
          "metadata": {},
          "execution_count": 20
        },
        {
          "output_type": "display_data",
          "data": {
            "text/plain": [
              "<Figure size 1152x1152 with 16 Axes>"
            ],
            "image/png": "[encoded data removed]"
          },
          "metadata": {}
        }
      ],
      "source": [
        "cardio_vascular_data.hist(figsize=(16,16))"
      ]
    },
    {
      "cell_type": "code",
      "execution_count": 21,
      "metadata": {
        "id": "ojZmea6Ov0Ce"
      },
      "outputs": [],
      "source": [
        "#Dropping attribute \"id\" as it is not important for classifying the CVD \n",
        "#and setting X(input features) and y(target variable) for using the classification model on the data.\n",
        "X = cardio_vascular_data.drop(['cardio', 'id'], axis=1)\n",
        "y = cardio_vascular_data['cardio']"
      ]
    },
    {
      "cell_type": "code",
      "source": [
        "X.head()"
      ],
      "metadata": {
        "colab": {
          "base_uri": "https://localhost:8080/",
          "height": 206
        },
        "id": "ziTtEr6yIhpt",
        "outputId": "2208064a-2767-476d-facf-7d77d862c298"
      },
      "execution_count": 22,
      "outputs": [
        {
          "output_type": "execute_result",
          "data": {
            "text/plain": [
              "         age  gender  height  weight  ap_hi  ap_lo  cholesterol  gluc  smoke  \\\n",
              "0  61.516769       1     155    69.0    130     80            2     2      0   \n",
              "1  40.104038       1     163    71.0    110     70            1     1      0   \n",
              "2  59.961670       1     165    70.0    120     80            1     1      0   \n",
              "3  39.832991       2     165    85.0    120     80            1     1      1   \n",
              "4  64.046543       1     155    62.0    120     80            1     1      0   \n",
              "\n",
              "   alco  active  \n",
              "0     0       1  \n",
              "1     0       1  \n",
              "2     0       1  \n",
              "3     1       1  \n",
              "4     0       1  "
            ],
            "text/html": [
              "\n",
              "  <div id=\"df-04290fbc-4b98-49a0-b2a5-85857f5f5f9c\">\n",
              "    <div class=\"colab-df-container\">\n",
              "      <div>\n",
              "<style scoped>\n",
              "    .dataframe tbody tr th:only-of-type {\n",
              "        vertical-align: middle;\n",
              "    }\n",
              "\n",
              "    .dataframe tbody tr th {\n",
              "        vertical-align: top;\n",
              "    }\n",
              "\n",
              "    .dataframe thead th {\n",
              "        text-align: right;\n",
              "    }\n",
              "</style>\n",
              "<table border=\"1\" class=\"dataframe\">\n",
              "  <thead>\n",
              "    <tr style=\"text-align: right;\">\n",
              "      <th></th>\n",
              "      <th>age</th>\n",
              "      <th>gender</th>\n",
              "      <th>height</th>\n",
              "      <th>weight</th>\n",
              "      <th>ap_hi</th>\n",
              "      <th>ap_lo</th>\n",
              "      <th>cholesterol</th>\n",
              "      <th>gluc</th>\n",
              "      <th>smoke</th>\n",
              "      <th>alco</th>\n",
              "      <th>active</th>\n",
              "    </tr>\n",
              "  </thead>\n",
              "  <tbody>\n",
              "    <tr>\n",
              "      <th>0</th>\n",
              "      <td>61.516769</td>\n",
              "      <td>1</td>\n",
              "      <td>155</td>\n",
              "      <td>69.0</td>\n",
              "      <td>130</td>\n",
              "      <td>80</td>\n",
              "      <td>2</td>\n",
              "      <td>2</td>\n",
              "      <td>0</td>\n",
              "      <td>0</td>\n",
              "      <td>1</td>\n",
              "    </tr>\n",
              "    <tr>\n",
              "      <th>1</th>\n",
              "      <td>40.104038</td>\n",
              "      <td>1</td>\n",
              "      <td>163</td>\n",
              "      <td>71.0</td>\n",
              "      <td>110</td>\n",
              "      <td>70</td>\n",
              "      <td>1</td>\n",
              "      <td>1</td>\n",
              "      <td>0</td>\n",
              "      <td>0</td>\n",
              "      <td>1</td>\n",
              "    </tr>\n",
              "    <tr>\n",
              "      <th>2</th>\n",
              "      <td>59.961670</td>\n",
              "      <td>1</td>\n",
              "      <td>165</td>\n",
              "      <td>70.0</td>\n",
              "      <td>120</td>\n",
              "      <td>80</td>\n",
              "      <td>1</td>\n",
              "      <td>1</td>\n",
              "      <td>0</td>\n",
              "      <td>0</td>\n",
              "      <td>1</td>\n",
              "    </tr>\n",
              "    <tr>\n",
              "      <th>3</th>\n",
              "      <td>39.832991</td>\n",
              "      <td>2</td>\n",
              "      <td>165</td>\n",
              "      <td>85.0</td>\n",
              "      <td>120</td>\n",
              "      <td>80</td>\n",
              "      <td>1</td>\n",
              "      <td>1</td>\n",
              "      <td>1</td>\n",
              "      <td>1</td>\n",
              "      <td>1</td>\n",
              "    </tr>\n",
              "    <tr>\n",
              "      <th>4</th>\n",
              "      <td>64.046543</td>\n",
              "      <td>1</td>\n",
              "      <td>155</td>\n",
              "      <td>62.0</td>\n",
              "      <td>120</td>\n",
              "      <td>80</td>\n",
              "      <td>1</td>\n",
              "      <td>1</td>\n",
              "      <td>0</td>\n",
              "      <td>0</td>\n",
              "      <td>1</td>\n",
              "    </tr>\n",
              "  </tbody>\n",
              "</table>\n",
              "</div>\n",
              "      <button class=\"colab-df-convert\" onclick=\"convertToInteractive('df-04290fbc-4b98-49a0-b2a5-85857f5f5f9c')\"\n",
              "              title=\"Convert this dataframe to an interactive table.\"\n",
              "              style=\"display:none;\">\n",
              "        \n",
              "  <svg xmlns=\"http://www.w3.org/2000/svg\" height=\"24px\"viewBox=\"0 0 24 24\"\n",
              "       width=\"24px\">\n",
              "    <path d=\"M0 0h24v24H0V0z\" fill=\"none\"/>\n",
              "    <path d=\"M18.56 5.44l.94 2.06.94-2.06 2.06-.94-2.06-.94-.94-2.06-.94 2.06-2.06.94zm-11 1L8.5 8.5l.94-2.06 2.06-.94-2.06-.94L8.5 2.5l-.94 2.06-2.06.94zm10 10l.94 2.06.94-2.06 2.06-.94-2.06-.94-.94-2.06-.94 2.06-2.06.94z\"/><path d=\"M17.41 7.96l-1.37-1.37c-.4-.4-.92-.59-1.43-.59-.52 0-1.04.2-1.43.59L10.3 9.45l-7.72 7.72c-.78.78-.78 2.05 0 2.83L4 21.41c.39.39.9.59 1.41.59.51 0 1.02-.2 1.41-.59l7.78-7.78 2.81-2.81c.8-.78.8-2.07 0-2.86zM5.41 20L4 18.59l7.72-7.72 1.47 1.35L5.41 20z\"/>\n",
              "  </svg>\n",
              "      </button>\n",
              "      \n",
              "  <style>\n",
              "    .colab-df-container {\n",
              "      display:flex;\n",
              "      flex-wrap:wrap;\n",
              "      gap: 12px;\n",
              "    }\n",
              "\n",
              "    .colab-df-convert {\n",
              "      background-color: #E8F0FE;\n",
              "      border: none;\n",
              "      border-radius: 50%;\n",
              "      cursor: pointer;\n",
              "      display: none;\n",
              "      fill: #1967D2;\n",
              "      height: 32px;\n",
              "      padding: 0 0 0 0;\n",
              "      width: 32px;\n",
              "    }\n",
              "\n",
              "    .colab-df-convert:hover {\n",
              "      background-color: #E2EBFA;\n",
              "      box-shadow: 0px 1px 2px rgba(60, 64, 67, 0.3), 0px 1px 3px 1px rgba(60, 64, 67, 0.15);\n",
              "      fill: #174EA6;\n",
              "    }\n",
              "\n",
              "    [theme=dark] .colab-df-convert {\n",
              "      background-color: #3B4455;\n",
              "      fill: #D2E3FC;\n",
              "    }\n",
              "\n",
              "    [theme=dark] .colab-df-convert:hover {\n",
              "      background-color: #434B5C;\n",
              "      box-shadow: 0px 1px 3px 1px rgba(0, 0, 0, 0.15);\n",
              "      filter: drop-shadow(0px 1px 2px rgba(0, 0, 0, 0.3));\n",
              "      fill: #FFFFFF;\n",
              "    }\n",
              "  </style>\n",
              "\n",
              "      <script>\n",
              "        const buttonEl =\n",
              "          document.querySelector('#df-04290fbc-4b98-49a0-b2a5-85857f5f5f9c button.colab-df-convert');\n",
              "        buttonEl.style.display =\n",
              "          google.colab.kernel.accessAllowed ? 'block' : 'none';\n",
              "\n",
              "        async function convertToInteractive(key) {\n",
              "          const element = document.querySelector('#df-04290fbc-4b98-49a0-b2a5-85857f5f5f9c');\n",
              "          const dataTable =\n",
              "            await google.colab.kernel.invokeFunction('convertToInteractive',\n",
              "                                                     [key], {});\n",
              "          if (!dataTable) return;\n",
              "\n",
              "          const docLinkHtml = 'Like what you see? Visit the ' +\n",
              "            '<a target=\"_blank\" href=https://colab.research.google.com/notebooks/data_table.ipynb>data table notebook</a>'\n",
              "            + ' to learn more about interactive tables.';\n",
              "          element.innerHTML = '';\n",
              "          dataTable['output_type'] = 'display_data';\n",
              "          await google.colab.output.renderOutput(dataTable, element);\n",
              "          const docLink = document.createElement('div');\n",
              "          docLink.innerHTML = docLinkHtml;\n",
              "          element.appendChild(docLink);\n",
              "        }\n",
              "      </script>\n",
              "    </div>\n",
              "  </div>\n",
              "  "
            ]
          },
          "metadata": {},
          "execution_count": 22
        }
      ]
    },
    {
      "cell_type": "code",
      "source": [
        "y.head()"
      ],
      "metadata": {
        "colab": {
          "base_uri": "https://localhost:8080/"
        },
        "id": "ZX3on63aIoDm",
        "outputId": "c91ac2c9-aa15-45e1-c412-ae8b3ddf905a"
      },
      "execution_count": 23,
      "outputs": [
        {
          "output_type": "execute_result",
          "data": {
            "text/plain": [
              "0    0\n",
              "1    1\n",
              "2    0\n",
              "3    0\n",
              "4    0\n",
              "Name: cardio, dtype: int64"
            ]
          },
          "metadata": {},
          "execution_count": 23
        }
      ]
    },
    {
      "cell_type": "markdown",
      "source": [
        "# Splitting the dataset into training and testing dataset"
      ],
      "metadata": {
        "id": "s66uzaVfLTzF"
      }
    },
    {
      "cell_type": "code",
      "source": [
        "X_train, X_test, y_train, y_test = train_test_split(X, y, train_size = .66, random_state=0)"
      ],
      "metadata": {
        "id": "hKQ9X4CVLi3O"
      },
      "execution_count": 24,
      "outputs": []
    },
    {
      "cell_type": "markdown",
      "metadata": {
        "id": "TZQjTa-hyzWb"
      },
      "source": [
        "# Applying Machine Learning Model to the Processed Data "
      ]
    },
    {
      "cell_type": "markdown",
      "metadata": {
        "id": "hkmZOfXcT_-i"
      },
      "source": [
        "# 1. Random Forest Classifier "
      ]
    },
    {
      "cell_type": "code",
      "source": [
        "#Random Forest Classifier model for different number of Decision Trees.\n",
        "\n",
        "lst_acc_train_rfc = []\n",
        "lst_y_pred_train_rfc = []\n",
        "lst_acc_test_rfc = []\n",
        "lst_y_pred_test_rfc = []\n",
        "cnt = 0\n",
        "\n",
        "no_of_decision_trees = [10, 20, 30, 40, 50, 60, 70, 80, 90, 100, 110, 120, 130, 140, 150, 160, 170, 180, 190, 200]\n",
        "\n",
        "for i in no_of_decision_trees:\n",
        "  random_forest_model = RandomForestClassifier(n_estimators=i, max_depth=8, random_state=0)\n",
        "  random_forest_model.fit(X_train, y_train)\n",
        "  lst_y_pred_train_rfc.append(random_forest_model.predict(X_train))\n",
        "  lst_y_pred_test_rfc.append(random_forest_model.predict(X_test))\n",
        "\n",
        "  lst_acc_train_rfc.append(accuracy_score(y_train, lst_y_pred_train_rfc[cnt]))\n",
        "  lst_acc_test_rfc.append(accuracy_score(y_test, lst_y_pred_test_rfc[cnt]))\n",
        "\n",
        "  cnt += 1"
      ],
      "metadata": {
        "id": "lXLLtA9UV2po"
      },
      "execution_count": 25,
      "outputs": []
    },
    {
      "cell_type": "code",
      "source": [
        "#Printing Training and Testing Accuracies for different number of decision trees.\n",
        "\n",
        "for i in range(0,20):\n",
        "  print(\"\\nTraining and Testing Accuracy for \", no_of_decision_trees[i],\" Decision Trees: \")\n",
        "  print(\"Training Accuracy: \", lst_acc_train_rfc[i])\n",
        "  print(\"Testing Accuracy: \", lst_acc_test_rfc[i])"
      ],
      "metadata": {
        "id": "mDAGg-C8Wems",
        "colab": {
          "base_uri": "https://localhost:8080/"
        },
        "outputId": "c1ae29eb-272b-4c36-af8f-9921cb4af93d"
      },
      "execution_count": 26,
      "outputs": [
        {
          "output_type": "stream",
          "name": "stdout",
          "text": [
            "\n",
            "Training and Testing Accuracy for  10  Decision Trees: \n",
            "Training Accuracy:  0.7434898731359894\n",
            "Testing Accuracy:  0.7311962673348598\n",
            "\n",
            "Training and Testing Accuracy for  20  Decision Trees: \n",
            "Training Accuracy:  0.7436234141998664\n",
            "Testing Accuracy:  0.7326651401909535\n",
            "\n",
            "Training and Testing Accuracy for  30  Decision Trees: \n",
            "Training Accuracy:  0.7425995993768084\n",
            "Testing Accuracy:  0.7333131723333477\n",
            "\n",
            "Training and Testing Accuracy for  40  Decision Trees: \n",
            "Training Accuracy:  0.7423992877809926\n",
            "Testing Accuracy:  0.7330107573335637\n",
            "\n",
            "Training and Testing Accuracy for  50  Decision Trees: \n",
            "Training Accuracy:  0.7423325172490541\n",
            "Testing Accuracy:  0.7322763209055169\n",
            "\n",
            "Training and Testing Accuracy for  60  Decision Trees: \n",
            "Training Accuracy:  0.7425105720008903\n",
            "Testing Accuracy:  0.7326219380481271\n",
            "\n",
            "Training and Testing Accuracy for  70  Decision Trees: \n",
            "Training Accuracy:  0.7424215446249722\n",
            "Testing Accuracy:  0.7325355337624746\n",
            "\n",
            "Training and Testing Accuracy for  80  Decision Trees: \n",
            "Training Accuracy:  0.7426441130647674\n",
            "Testing Accuracy:  0.7329675551907374\n",
            "\n",
            "Training and Testing Accuracy for  90  Decision Trees: \n",
            "Training Accuracy:  0.7423770309370131\n",
            "Testing Accuracy:  0.7331835659048689\n",
            "\n",
            "Training and Testing Accuracy for  100  Decision Trees: \n",
            "Training Accuracy:  0.7423102604050745\n",
            "Testing Accuracy:  0.7333995766190003\n",
            "\n",
            "Training and Testing Accuracy for  110  Decision Trees: \n",
            "Training Accuracy:  0.7424883151569107\n",
            "Testing Accuracy:  0.7333995766190003\n",
            "\n",
            "Training and Testing Accuracy for  120  Decision Trees: \n",
            "Training Accuracy:  0.7426218562207879\n",
            "Testing Accuracy:  0.7330539594763901\n",
            "\n",
            "Training and Testing Accuracy for  130  Decision Trees: \n",
            "Training Accuracy:  0.7427776541286446\n",
            "Testing Accuracy:  0.7327515444766061\n",
            "\n",
            "Training and Testing Accuracy for  140  Decision Trees: \n",
            "Training Accuracy:  0.7426441130647674\n",
            "Testing Accuracy:  0.7328811509050849\n",
            "\n",
            "Training and Testing Accuracy for  150  Decision Trees: \n",
            "Training Accuracy:  0.7423325172490541\n",
            "Testing Accuracy:  0.7328811509050849\n",
            "\n",
            "Training and Testing Accuracy for  160  Decision Trees: \n",
            "Training Accuracy:  0.7419096372134432\n",
            "Testing Accuracy:  0.7323195230483432\n",
            "\n",
            "Training and Testing Accuracy for  170  Decision Trees: \n",
            "Training Accuracy:  0.7423547740930336\n",
            "Testing Accuracy:  0.7322331187626906\n",
            "\n",
            "Training and Testing Accuracy for  180  Decision Trees: \n",
            "Training Accuracy:  0.7425995993768084\n",
            "Testing Accuracy:  0.7324059273339958\n",
            "\n",
            "Training and Testing Accuracy for  190  Decision Trees: \n",
            "Training Accuracy:  0.7426441130647674\n",
            "Testing Accuracy:  0.7327515444766061\n",
            "\n",
            "Training and Testing Accuracy for  200  Decision Trees: \n",
            "Training Accuracy:  0.7425773425328288\n",
            "Testing Accuracy:  0.7326651401909535\n"
          ]
        }
      ]
    },
    {
      "cell_type": "code",
      "source": [
        "labels = [10,20,30,40,50,60,70,80,90,100,110,120,130,140,150,160,170,180,190,200]\n",
        "plt.xticks([0,1,2,3,4,5,6,7,8,9,10,11,12,13,14,15,16,17,18,19],labels)\n",
        "plt.xlabel(\"Decision Trees\")\n",
        "plt.ylabel(\"Accuracy\")\n",
        "plt.plot(lst_acc_train_rfc,label='Training Accuracy')\n",
        "plt.plot(lst_acc_test_rfc,label='Testing Accuracy')\n",
        "plt.legend()"
      ],
      "metadata": {
        "id": "jxuQ5KOPWwkQ",
        "colab": {
          "base_uri": "https://localhost:8080/",
          "height": 629
        },
        "outputId": "5927d2d6-6c54-4ca7-e8a3-eb16717cfe5b"
      },
      "execution_count": 27,
      "outputs": [
        {
          "output_type": "execute_result",
          "data": {
            "text/plain": [
              "<matplotlib.legend.Legend at 0x7f3b410638d0>"
            ]
          },
          "metadata": {},
          "execution_count": 27
        },
        {
          "output_type": "display_data",
          "data": {
            "text/plain": [
              "<Figure size 720x720 with 1 Axes>"
            ],
            "image/png": "[encoded data removed]"
          },
          "metadata": {}
        }
      ]
    },
    {
      "cell_type": "code",
      "source": [
        "#Printing Testing and Training Accuracy and Confusion Matrix for the best number of decision trees.\n",
        "#i.e. For the number of decision trees that has highest testing accuracy in Random Forest Classifier.\n",
        "\n",
        "max_test_accuracy = max(lst_acc_test_rfc)\n",
        "index = lst_acc_test_rfc.index(max_test_accuracy)\n",
        "\n",
        "cf_train_rfc = confusion_matrix(y_train,lst_y_pred_train_rfc[index])\n",
        "cf_test_rfc = confusion_matrix(y_test, lst_y_pred_test_rfc[index])\n",
        "\n",
        "precision_test_rfc = precision_score(y_test,lst_y_pred_test_rfc[index])\n",
        "\n",
        "recall_test_rfc = recall_score(y_test,lst_y_pred_test_rfc[index])\n",
        "\n",
        "f_measure_test_rfc = f1_score(y_test,lst_y_pred_test_rfc[index])\n",
        "\n",
        "print(\"\\nMaximum Testing Accuracy found for \", no_of_decision_trees[index], \"Decision Trees.\")\n",
        "\n",
        "print(\"\\nConfusion Matrix for the Training Dataset\")\n",
        "print(cf_train_rfc)\n",
        "print(\"\\n\\nConfusion Matrix for the Testing Dataset\")\n",
        "print(cf_test_rfc)\n",
        "\n",
        "acc_train_rfc = lst_acc_train_rfc[index]\n",
        "print(\"\\nTraining Accuracy : \", acc_train_rfc)\n",
        "acc_test_rfc = lst_acc_test_rfc[index]\n",
        "print(\"Testing Accuracy : \", acc_test_rfc)\n",
        "\n",
        "print(\"\\nPrecision for random forest testing: \",precision_test_rfc)\n",
        "print(\"\\nRecall for random forest testing: \",recall_test_rfc)\n",
        "print(\"\\nF-1 Score for random forest testing\",f_measure_test_rfc)"
      ],
      "metadata": {
        "colab": {
          "base_uri": "https://localhost:8080/"
        },
        "id": "8FJUCSt1KdnA",
        "outputId": "108f1d81-29f7-4f66-c398-bedd6cdb5440"
      },
      "execution_count": 28,
      "outputs": [
        {
          "output_type": "stream",
          "name": "stdout",
          "text": [
            "\n",
            "Maximum Testing Accuracy found for  100 Decision Trees.\n",
            "\n",
            "Confusion Matrix for the Training Dataset\n",
            "[[18236  4496]\n",
            " [ 7082 15116]]\n",
            "\n",
            "\n",
            "Confusion Matrix for the Testing Dataset\n",
            "[[9281 2381]\n",
            " [3790 7695]]\n",
            "\n",
            "Training Accuracy :  0.7423102604050745\n",
            "Testing Accuracy :  0.7333995766190003\n",
            "\n",
            "Precision for random forest testing:  0.7636959110758237\n",
            "\n",
            "Recall for random forest testing:  0.6700043535045712\n",
            "\n",
            "F-1 Score for random forest testing 0.713788785306804\n"
          ]
        }
      ]
    },
    {
      "cell_type": "markdown",
      "metadata": {
        "id": "Gf6EoFrbkj3c"
      },
      "source": [
        "# 2. Logistic Regression"
      ]
    },
    {
      "cell_type": "code",
      "execution_count": 29,
      "metadata": {
        "colab": {
          "base_uri": "https://localhost:8080/"
        },
        "id": "XJ3jPZbEKHv0",
        "outputId": "0be76e82-c9ef-49b8-a712-87a32157baf3"
      },
      "outputs": [
        {
          "output_type": "stream",
          "name": "stdout",
          "text": [
            "\n",
            "Confusion Matrix for the Training Dataset\n",
            "[[18236  4496]\n",
            " [ 7082 15116]]\n",
            "\n",
            "Confusion Matrix for the Testing Dataset\n",
            "[[9211 2451]\n",
            " [3874 7611]]\n",
            "\n",
            "Training Accuracy:  0.7264411306476741\n",
            "\n",
            "Testing Accuracy:  0.7267464466237525\n",
            "\n",
            "Precision for logestic regression testing:  0.7564102564102564\n",
            "\n",
            "Recall for logestic regression testing:  0.6626904658249891\n",
            "\n",
            "F-1 Score for logestic regression testing 0.7064556550795933\n"
          ]
        }
      ],
      "source": [
        "logreg = make_pipeline(StandardScaler(),LogisticRegression(solver=\"saga\", random_state=0))\n",
        "logreg.fit(X_train, y_train)\n",
        "\n",
        "y_pred_train_lgr = pd.Series(logreg.predict(X_train))\n",
        "y_pred_test_lgr = pd.Series(logreg.predict(X_test))\n",
        "\n",
        "cf_train_lgr = confusion_matrix(y_train, y_pred_train_lgr)\n",
        "cf_test_lgr = confusion_matrix(y_test, y_pred_test_lgr)\n",
        "\n",
        "precision_test_lgr = precision_score(y_test,y_pred_test_lgr)\n",
        "\n",
        "recall_test_lgr = recall_score(y_test,y_pred_test_lgr)\n",
        "\n",
        "f_measure_test_lgr = f1_score(y_test,y_pred_test_lgr)\n",
        "\n",
        "print(\"\\nConfusion Matrix for the Training Dataset\")\n",
        "print(cf_train_rfc)\n",
        "print(\"\\nConfusion Matrix for the Testing Dataset\")\n",
        "print(cf_test_lgr)\n",
        "\n",
        "acc_train_lgr = accuracy_score(y_train, y_pred_train_lgr)\n",
        "print(\"\\nTraining Accuracy: \", acc_train_lgr)\n",
        "acc_test_lgr = accuracy_score(y_test, y_pred_test_lgr)\n",
        "print(\"\\nTesting Accuracy: \", acc_test_lgr)\n",
        "\n",
        "print(\"\\nPrecision for logestic regression testing: \",precision_test_lgr)\n",
        "print(\"\\nRecall for logestic regression testing: \",recall_test_lgr)\n",
        "print(\"\\nF-1 Score for logestic regression testing\",f_measure_test_lgr)"
      ]
    },
    {
      "cell_type": "markdown",
      "metadata": {
        "id": "bMgBlf75kp-k"
      },
      "source": [
        "# 3. K Nearest Neighbours"
      ]
    },
    {
      "cell_type": "code",
      "source": [
        "#Using kNN for classification for different values of k\n",
        "\n",
        "k = [2,3,4,5,6,7,8,9,10,11,12,13,14,15]\n",
        "lst_y_pred_train_knn = []\n",
        "lst_y_pred_test_knn = []\n",
        "lst_acc_train_knn = []\n",
        "lst_acc_test_knn = []\n",
        "cnt = 0\n",
        "\n",
        "for i in k:\n",
        "  knn_classifier = KNeighborsClassifier(n_neighbors = i)\n",
        "  knn_classifier.fit(X_train, y_train)\n",
        "\n",
        "  lst_y_pred_train_knn.append(knn_classifier.predict(X_train))\n",
        "  lst_y_pred_test_knn.append(knn_classifier.predict(X_test))\n",
        "\n",
        "  lst_acc_train_knn.append(accuracy_score(y_train, lst_y_pred_train_knn[cnt]))\n",
        "  lst_acc_test_knn.append(accuracy_score(y_test, lst_y_pred_test_knn[cnt]))\n",
        "  \n",
        "  cnt += 1"
      ],
      "metadata": {
        "id": "ufZ9cjiaVpY1"
      },
      "execution_count": 30,
      "outputs": []
    },
    {
      "cell_type": "code",
      "source": [
        "#Printing Testing and Training Accuracies for different values of k.\n",
        "\n",
        "for i in k:\n",
        "  print(\"\\nTraining and Testing Accuracy for k =\", i)\n",
        "  print(\"Training Accuracy: \", lst_acc_train_knn[i-2])\n",
        "  print(\"Testing Accuracy: \", lst_acc_test_knn[i-2])"
      ],
      "metadata": {
        "id": "BGP_HUMaVtdI",
        "colab": {
          "base_uri": "https://localhost:8080/"
        },
        "outputId": "025cc3d9-4235-4315-abc9-0d7b702a841e"
      },
      "execution_count": 31,
      "outputs": [
        {
          "output_type": "stream",
          "name": "stdout",
          "text": [
            "\n",
            "Training and Testing Accuracy for k = 2\n",
            "Training Accuracy:  0.8142221233029157\n",
            "Testing Accuracy:  0.6342938609755043\n",
            "\n",
            "Training and Testing Accuracy for k = 3\n",
            "Training Accuracy:  0.81542399287781\n",
            "Testing Accuracy:  0.6712316930919774\n",
            "\n",
            "Training and Testing Accuracy for k = 4\n",
            "Training Accuracy:  0.7767193411974183\n",
            "Testing Accuracy:  0.6726141616624185\n",
            "\n",
            "Training and Testing Accuracy for k = 5\n",
            "Training Accuracy:  0.7817939016247496\n",
            "Testing Accuracy:  0.6839331230829049\n",
            "\n",
            "Training and Testing Accuracy for k = 6\n",
            "Training Accuracy:  0.7641887380369463\n",
            "Testing Accuracy:  0.6884693480796648\n",
            "\n",
            "Training and Testing Accuracy for k = 7\n",
            "Training Accuracy:  0.7678611172935678\n",
            "Testing Accuracy:  0.696418542359701\n",
            "\n",
            "Training and Testing Accuracy for k = 8\n",
            "Training Accuracy:  0.7550634320053417\n",
            "Testing Accuracy:  0.7005227459281981\n",
            "\n",
            "Training and Testing Accuracy for k = 9\n",
            "Training Accuracy:  0.755419541509014\n",
            "Testing Accuracy:  0.7017756080701603\n",
            "\n",
            "Training and Testing Accuracy for k = 10\n",
            "Training Accuracy:  0.7499666147340307\n",
            "Testing Accuracy:  0.705534194496047\n",
            "\n",
            "Training and Testing Accuracy for k = 11\n",
            "Training Accuracy:  0.750701090585355\n",
            "Testing Accuracy:  0.7077375037801875\n",
            "\n",
            "Training and Testing Accuracy for k = 12\n",
            "Training Accuracy:  0.7458268417538393\n",
            "Testing Accuracy:  0.7087743552080183\n",
            "\n",
            "Training and Testing Accuracy for k = 13\n",
            "Training Accuracy:  0.7479189850879145\n",
            "Testing Accuracy:  0.7104592387782434\n",
            "\n",
            "Training and Testing Accuracy for k = 14\n",
            "Training Accuracy:  0.7444246605831293\n",
            "Testing Accuracy:  0.7104160366354171\n",
            "\n",
            "Training and Testing Accuracy for k = 15\n",
            "Training Accuracy:  0.7437792121077231\n",
            "Testing Accuracy:  0.7109776644921588\n"
          ]
        }
      ]
    },
    {
      "cell_type": "code",
      "source": [
        "#Plotting Testing and Training Accuracies for different values of k.\n",
        "\n",
        "labels = [2,3,4,5,6,7,8,9,10,11,12,13,14,15]\n",
        "plt.xticks([0,1,2,3,4,5,6,7,8,9,10,11,12,13],labels)\n",
        "plt.xlabel(\"Nearest Neighbours(k)\")\n",
        "plt.ylabel(\"Accuracy\")\n",
        "plt.plot(lst_acc_train_knn,label='Training Accuracy')\n",
        "plt.plot(lst_acc_test_knn,label='Testing Accuracy')\n",
        "plt.legend()"
      ],
      "metadata": {
        "id": "U5cngRDRV0VX",
        "colab": {
          "base_uri": "https://localhost:8080/",
          "height": 629
        },
        "outputId": "332d42fe-cb5e-4dc2-ce3a-b1aa52c38ff8"
      },
      "execution_count": 32,
      "outputs": [
        {
          "output_type": "execute_result",
          "data": {
            "text/plain": [
              "<matplotlib.legend.Legend at 0x7f3b3e79bbd0>"
            ]
          },
          "metadata": {},
          "execution_count": 32
        },
        {
          "output_type": "display_data",
          "data": {
            "text/plain": [
              "<Figure size 720x720 with 1 Axes>"
            ],
            "image/png": "[encoded data removed]"
          },
          "metadata": {}
        }
      ]
    },
    {
      "cell_type": "code",
      "source": [
        "#Printing Testing and Training Accuracy and Confusion Matrix for the best value of k.\n",
        "#i.e. For the value of k that has highest testing accuracy in kNN.\n",
        "\n",
        "max_test_accuracy = max(lst_acc_test_knn)\n",
        "index = lst_acc_test_knn.index(max_test_accuracy)\n",
        "\n",
        "cf_train_knn = confusion_matrix(y_train, lst_y_pred_train_knn[index])\n",
        "cf_test_knn = confusion_matrix(y_test, lst_y_pred_test_knn[index])\n",
        "\n",
        "precision_test_knn = precision_score(y_test,lst_y_pred_test_knn[index])\n",
        "\n",
        "recall_test_knn = recall_score(y_test,lst_y_pred_test_knn[index])\n",
        "\n",
        "f_measure_test_knn = f1_score(y_test,lst_y_pred_test_knn[index])\n",
        "\n",
        "print(\"Maximum Testing Accuracy found for value of k =\", k[index])\n",
        "\n",
        "print(\"\\nConfusion Matrix for the Training Dataset\")\n",
        "print(cf_train_knn)\n",
        "print(\"\\nConfusion Matrix for the Testing Dataset\")\n",
        "print(cf_test_knn)\n",
        "\n",
        "acc_train_knn = lst_acc_train_knn[index]\n",
        "print(\"\\nTraining Accuracy: \", acc_train_knn)\n",
        "acc_test_knn = lst_acc_test_knn[index]\n",
        "print(\"Testing Accuracy: \", acc_test_knn)\n",
        "\n",
        "print(\"\\nPrecision for knn testing: \",precision_test_knn)\n",
        "print(\"\\nRecall for knn testing: \",recall_test_knn)\n",
        "print(\"\\nF-1 Score for knn testing\",f_measure_test_knn)"
      ],
      "metadata": {
        "colab": {
          "base_uri": "https://localhost:8080/"
        },
        "id": "1iAsNxbsRCqs",
        "outputId": "0da94840-9a13-4bb9-e2bd-41e9745e31d6"
      },
      "execution_count": 33,
      "outputs": [
        {
          "output_type": "stream",
          "name": "stdout",
          "text": [
            "Maximum Testing Accuracy found for value of k = 15\n",
            "\n",
            "Confusion Matrix for the Training Dataset\n",
            "[[17838  4894]\n",
            " [ 6618 15580]]\n",
            "\n",
            "Confusion Matrix for the Testing Dataset\n",
            "[[8846 2816]\n",
            " [3874 7611]]\n",
            "\n",
            "Training Accuracy:  0.7437792121077231\n",
            "Testing Accuracy:  0.7109776644921588\n",
            "\n",
            "Precision for knn testing:  0.7299319075477126\n",
            "\n",
            "Recall for knn testing:  0.6626904658249891\n",
            "\n",
            "F-1 Score for knn testing 0.6946878422782037\n"
          ]
        }
      ]
    },
    {
      "cell_type": "markdown",
      "metadata": {
        "id": "EX2rxBy8yzWe"
      },
      "source": [
        "# 4. Support Vector Classifier (LinearSVC)"
      ]
    },
    {
      "cell_type": "code",
      "execution_count": 34,
      "metadata": {
        "colab": {
          "base_uri": "https://localhost:8080/"
        },
        "id": "0d4gZ8Ok5148",
        "outputId": "320dd80f-d767-4417-e30e-af62b56a2c56",
        "scrolled": true
      },
      "outputs": [
        {
          "output_type": "stream",
          "name": "stdout",
          "text": [
            "\n",
            "Confusion Matrix for the Training Dataset\n",
            "[[18006  4726]\n",
            " [ 7591 14607]]\n",
            "\n",
            "Confusion Matrix for the Testing Dataset\n",
            "[[9279 2383]\n",
            " [3970 7515]]\n",
            "\n",
            "Training Accuracy:  0.7258624527042066\n",
            "\n",
            "Testing Accuracy:  0.7255367866246166\n",
            "\n",
            "Precision for svc testing:  0.7592442917761164\n",
            "\n",
            "Recall for svc testing:  0.6543317370483239\n",
            "\n",
            "F-1 Score for svc testing 0.7028948229902259\n"
          ]
        }
      ],
      "source": [
        "support_vector_classifier = svm.LinearSVC(dual=False, random_state=0) \n",
        "support_vector_classifier.fit(X_train,y_train)\n",
        "\n",
        "y_pred_train_svc = support_vector_classifier.predict(X_train) \n",
        "y_pred_test_svc = support_vector_classifier.predict(X_test)\n",
        "\n",
        "cf_train_svc = confusion_matrix(y_train, y_pred_train_svc)\n",
        "cf_test_svc = confusion_matrix(y_test, y_pred_test_svc)\n",
        "\n",
        "precision_test_svc = precision_score(y_test,y_pred_test_svc)\n",
        "\n",
        "recall_test_svc = recall_score(y_test,y_pred_test_svc)\n",
        "\n",
        "f_measure_test_svc = f1_score(y_test,y_pred_test_svc)\n",
        "\n",
        "print(\"\\nConfusion Matrix for the Training Dataset\") \n",
        "print(cf_train_svc) \n",
        "print(\"\\nConfusion Matrix for the Testing Dataset\") \n",
        "print(cf_test_svc)\n",
        "\n",
        "acc_train_svc = accuracy_score(y_train, y_pred_train_svc) \n",
        "print(\"\\nTraining Accuracy: \", acc_train_svc) \n",
        "acc_test_svc = accuracy_score(y_test, y_pred_test_svc) \n",
        "print(\"\\nTesting Accuracy: \", acc_test_svc)\n",
        "\n",
        "print(\"\\nPrecision for svc testing: \",precision_test_svc)\n",
        "print(\"\\nRecall for svc testing: \",recall_test_svc)\n",
        "print(\"\\nF-1 Score for svc testing\",f_measure_test_svc)"
      ]
    },
    {
      "cell_type": "markdown",
      "metadata": {
        "id": "7755aPBlyzWf"
      },
      "source": [
        "# 5. XG-Boost Classifier (eXtreme Gradient Boosting)"
      ]
    },
    {
      "cell_type": "code",
      "execution_count": 35,
      "metadata": {
        "colab": {
          "base_uri": "https://localhost:8080/"
        },
        "id": "xHfMcsnfA8zJ",
        "outputId": "c429f91e-aad6-489d-ff62-9324d17f51a4"
      },
      "outputs": [
        {
          "output_type": "stream",
          "name": "stdout",
          "text": [
            "\n",
            "Confusion Matrix for the Training Dataset\n",
            "[[17771  4961]\n",
            " [ 6841 15357]]\n",
            "\n",
            "Confusion Matrix for the Testing Dataset\n",
            "[[9142 2520]\n",
            " [3598 7887]]\n",
            "\n",
            "Training Accuracy:  0.7373247273536613\n",
            "\n",
            "Testing Accuracy:  0.7356892901887934\n",
            "\n",
            "Precision for xgb testing:  0.7578552897088499\n",
            "\n",
            "Recall for xgb testing:  0.6867218110579016\n",
            "\n",
            "F-1 Score for xgb testing 0.7205371825324318\n"
          ]
        }
      ],
      "source": [
        "xgb_classifier = XGBClassifier(use_label_encoder=False, eval_metric='mlogloss', random_state=0)\n",
        "xgb_classifier.fit(X_train,y_train)\n",
        "\n",
        "y_pred_train_xgb = xgb_classifier.predict(X_train) \n",
        "y_pred_test_xgb = xgb_classifier.predict(X_test)\n",
        "\n",
        "cf_train_xgb = confusion_matrix(y_train, y_pred_train_xgb)\n",
        "cf_test_xgb = confusion_matrix(y_test, y_pred_test_xgb)\n",
        "\n",
        "precision_test_xgb = precision_score(y_test,y_pred_test_xgb)\n",
        "\n",
        "recall_test_xgb = recall_score(y_test,y_pred_test_xgb)\n",
        "\n",
        "f_measure_test_xgb = f1_score(y_test,y_pred_test_xgb)\n",
        "\n",
        "print(\"\\nConfusion Matrix for the Training Dataset\") \n",
        "print(cf_train_xgb) \n",
        "print(\"\\nConfusion Matrix for the Testing Dataset\") \n",
        "print(cf_test_xgb)\n",
        "\n",
        "acc_train_xgb = accuracy_score(y_train, y_pred_train_xgb) \n",
        "print(\"\\nTraining Accuracy: \", acc_train_xgb) \n",
        "acc_test_xgb = accuracy_score(y_test, y_pred_test_xgb) \n",
        "print(\"\\nTesting Accuracy: \", acc_test_xgb)\n",
        "\n",
        "print(\"\\nPrecision for xgb testing: \",precision_test_xgb)\n",
        "print(\"\\nRecall for xgb testing: \",recall_test_xgb)\n",
        "print(\"\\nF-1 Score for xgb testing\",f_measure_test_xgb)"
      ]
    },
    {
      "cell_type": "markdown",
      "source": [
        "#  6. Decision Tree Classifier"
      ],
      "metadata": {
        "id": "xVERYG0c0o2N"
      }
    },
    {
      "cell_type": "code",
      "source": [
        "decision_tree_classifier = DecisionTreeClassifier(criterion=\"entropy\", max_depth=8, random_state=0)\n",
        "decision_tree_classifier.fit(X_train, y_train)\n",
        "\n",
        "y_pred_train_dtc = decision_tree_classifier.predict(X_train)\n",
        "y_pred_test_dtc = decision_tree_classifier.predict(X_test)\n",
        "\n",
        "cf_train_dtc = confusion_matrix(y_train, y_pred_train_dtc)\n",
        "cf_test_dtc = confusion_matrix(y_test, y_pred_test_dtc)\n",
        "\n",
        "precision_test_dtc = precision_score(y_test,y_pred_test_dtc)\n",
        "\n",
        "recall_test_dtc = recall_score(y_test,y_pred_test_dtc)\n",
        "\n",
        "f_measure_test_dtc = f1_score(y_test,y_pred_test_dtc)\n",
        "\n",
        "print(\"\\nConfusion Matrix for the Training Dataset\") \n",
        "print(cf_train_dtc) \n",
        "print(\"\\nConfusion Matrix for the Testing Dataset\") \n",
        "print(cf_test_dtc)\n",
        "\n",
        "acc_train_dtc = accuracy_score(y_train, y_pred_train_dtc) \n",
        "print(\"\\nTraining Accuracy: \", acc_train_dtc) \n",
        "acc_test_dtc = accuracy_score(y_test, y_pred_test_dtc) \n",
        "print(\"\\nTesting Accuracy: \", acc_test_dtc)\n",
        "\n",
        "print(\"\\nPrecision for decision tree testing: \",precision_test_dtc)\n",
        "print(\"\\nRecall for decision tree testing: \",recall_test_dtc)\n",
        "print(\"\\nF-1 Score for decision tree testing\",f_measure_test_dtc)"
      ],
      "metadata": {
        "colab": {
          "base_uri": "https://localhost:8080/"
        },
        "id": "Klj3d7U104Hi",
        "outputId": "1578f9ba-e613-4a14-9e94-c56d2add6f69"
      },
      "execution_count": 36,
      "outputs": [
        {
          "output_type": "stream",
          "name": "stdout",
          "text": [
            "\n",
            "Confusion Matrix for the Training Dataset\n",
            "[[17784  4948]\n",
            " [ 6772 15426]]\n",
            "\n",
            "Confusion Matrix for the Testing Dataset\n",
            "[[9006 2656]\n",
            " [3657 7828]]\n",
            "\n",
            "Training Accuracy:  0.7391497885599821\n",
            "\n",
            "Testing Accuracy:  0.7272648723376679\n",
            "\n",
            "Precision for decision tree testing:  0.7466615795497902\n",
            "\n",
            "Recall for decision tree testing:  0.6815846756639095\n",
            "\n",
            "F-1 Score for decision tree testing 0.7126405389412354\n"
          ]
        }
      ]
    },
    {
      "cell_type": "code",
      "source": [
        "classifiers = [random_forest_model, logreg,knn_classifier, support_vector_classifier, xgb_classifier, decision_tree_classifier]\n",
        "fig1, axes1 = plt.subplots(nrows=2, ncols=3, figsize=(12,9))\n",
        "\n",
        "for clf, axis in zip(classifiers, axes1.flatten()):\n",
        "    plot_confusion_matrix(clf, \n",
        "                          X_test, \n",
        "                          y_test, \n",
        "                          ax=axis, \n",
        "                          cmap='Greens',\n",
        "                         display_labels=cardio_vascular_data.cardio)\n",
        "    axis.title.set_text(type(clf).__name__)\n",
        "plt.tight_layout()  \n",
        "plt.show()"
      ],
      "metadata": {
        "colab": {
          "base_uri": "https://localhost:8080/",
          "height": 888
        },
        "id": "fdRm0Qz51Vjk",
        "outputId": "aad9dc2c-d252-4567-c738-e2df63ca77ec"
      },
      "execution_count": 37,
      "outputs": [
        {
          "output_type": "stream",
          "name": "stderr",
          "text": [
            "/usr/local/lib/python3.7/dist-packages/sklearn/utils/deprecation.py:87: FutureWarning: Function plot_confusion_matrix is deprecated; Function `plot_confusion_matrix` is deprecated in 1.0 and will be removed in 1.2. Use one of the class methods: ConfusionMatrixDisplay.from_predictions or ConfusionMatrixDisplay.from_estimator.\n",
            "  warnings.warn(msg, category=FutureWarning)\n",
            "/usr/local/lib/python3.7/dist-packages/sklearn/utils/deprecation.py:87: FutureWarning: Function plot_confusion_matrix is deprecated; Function `plot_confusion_matrix` is deprecated in 1.0 and will be removed in 1.2. Use one of the class methods: ConfusionMatrixDisplay.from_predictions or ConfusionMatrixDisplay.from_estimator.\n",
            "  warnings.warn(msg, category=FutureWarning)\n",
            "/usr/local/lib/python3.7/dist-packages/sklearn/utils/deprecation.py:87: FutureWarning: Function plot_confusion_matrix is deprecated; Function `plot_confusion_matrix` is deprecated in 1.0 and will be removed in 1.2. Use one of the class methods: ConfusionMatrixDisplay.from_predictions or ConfusionMatrixDisplay.from_estimator.\n",
            "  warnings.warn(msg, category=FutureWarning)\n",
            "/usr/local/lib/python3.7/dist-packages/sklearn/utils/deprecation.py:87: FutureWarning: Function plot_confusion_matrix is deprecated; Function `plot_confusion_matrix` is deprecated in 1.0 and will be removed in 1.2. Use one of the class methods: ConfusionMatrixDisplay.from_predictions or ConfusionMatrixDisplay.from_estimator.\n",
            "  warnings.warn(msg, category=FutureWarning)\n",
            "/usr/local/lib/python3.7/dist-packages/sklearn/utils/deprecation.py:87: FutureWarning: Function plot_confusion_matrix is deprecated; Function `plot_confusion_matrix` is deprecated in 1.0 and will be removed in 1.2. Use one of the class methods: ConfusionMatrixDisplay.from_predictions or ConfusionMatrixDisplay.from_estimator.\n",
            "  warnings.warn(msg, category=FutureWarning)\n",
            "/usr/local/lib/python3.7/dist-packages/sklearn/utils/deprecation.py:87: FutureWarning: Function plot_confusion_matrix is deprecated; Function `plot_confusion_matrix` is deprecated in 1.0 and will be removed in 1.2. Use one of the class methods: ConfusionMatrixDisplay.from_predictions or ConfusionMatrixDisplay.from_estimator.\n",
            "  warnings.warn(msg, category=FutureWarning)\n"
          ]
        },
        {
          "output_type": "display_data",
          "data": {
            "text/plain": [
              "<Figure size 864x648 with 12 Axes>"
            ],
            "image/png": "[encoded data removed]"
          },
          "metadata": {}
        }
      ]
    },
    {
      "cell_type": "code",
      "source": [
        "fig2, axes2 = plt.subplots(nrows=2, ncols=3, figsize=(12,9))\n",
        "\n",
        "for clf, axis in zip(classifiers, axes2.flatten()):\n",
        "    plot_confusion_matrix(clf, \n",
        "                          X_train, \n",
        "                          y_train, \n",
        "                          ax=axis, \n",
        "                          cmap='Reds',\n",
        "                         display_labels=cardio_vascular_data.cardio)\n",
        "    axis.title.set_text(type(clf).__name__)\n",
        "plt.tight_layout()  \n",
        "plt.show()"
      ],
      "metadata": {
        "colab": {
          "base_uri": "https://localhost:8080/",
          "height": 887
        },
        "id": "-qy9m4P127Bb",
        "outputId": "294872a3-9a9e-4084-90de-3a7edc43b0a2"
      },
      "execution_count": 38,
      "outputs": [
        {
          "output_type": "stream",
          "name": "stderr",
          "text": [
            "/usr/local/lib/python3.7/dist-packages/sklearn/utils/deprecation.py:87: FutureWarning: Function plot_confusion_matrix is deprecated; Function `plot_confusion_matrix` is deprecated in 1.0 and will be removed in 1.2. Use one of the class methods: ConfusionMatrixDisplay.from_predictions or ConfusionMatrixDisplay.from_estimator.\n",
            "  warnings.warn(msg, category=FutureWarning)\n",
            "/usr/local/lib/python3.7/dist-packages/sklearn/utils/deprecation.py:87: FutureWarning: Function plot_confusion_matrix is deprecated; Function `plot_confusion_matrix` is deprecated in 1.0 and will be removed in 1.2. Use one of the class methods: ConfusionMatrixDisplay.from_predictions or ConfusionMatrixDisplay.from_estimator.\n",
            "  warnings.warn(msg, category=FutureWarning)\n",
            "/usr/local/lib/python3.7/dist-packages/sklearn/utils/deprecation.py:87: FutureWarning: Function plot_confusion_matrix is deprecated; Function `plot_confusion_matrix` is deprecated in 1.0 and will be removed in 1.2. Use one of the class methods: ConfusionMatrixDisplay.from_predictions or ConfusionMatrixDisplay.from_estimator.\n",
            "  warnings.warn(msg, category=FutureWarning)\n",
            "/usr/local/lib/python3.7/dist-packages/sklearn/utils/deprecation.py:87: FutureWarning: Function plot_confusion_matrix is deprecated; Function `plot_confusion_matrix` is deprecated in 1.0 and will be removed in 1.2. Use one of the class methods: ConfusionMatrixDisplay.from_predictions or ConfusionMatrixDisplay.from_estimator.\n",
            "  warnings.warn(msg, category=FutureWarning)\n",
            "/usr/local/lib/python3.7/dist-packages/sklearn/utils/deprecation.py:87: FutureWarning: Function plot_confusion_matrix is deprecated; Function `plot_confusion_matrix` is deprecated in 1.0 and will be removed in 1.2. Use one of the class methods: ConfusionMatrixDisplay.from_predictions or ConfusionMatrixDisplay.from_estimator.\n",
            "  warnings.warn(msg, category=FutureWarning)\n",
            "/usr/local/lib/python3.7/dist-packages/sklearn/utils/deprecation.py:87: FutureWarning: Function plot_confusion_matrix is deprecated; Function `plot_confusion_matrix` is deprecated in 1.0 and will be removed in 1.2. Use one of the class methods: ConfusionMatrixDisplay.from_predictions or ConfusionMatrixDisplay.from_estimator.\n",
            "  warnings.warn(msg, category=FutureWarning)\n"
          ]
        },
        {
          "output_type": "display_data",
          "data": {
            "text/plain": [
              "<Figure size 864x648 with 12 Axes>"
            ],
            "image/png": "[encoded data removed]"
          },
          "metadata": {}
        }
      ]
    },
    {
      "cell_type": "code",
      "source": [
        "cross_validation_scores = []\n",
        "for clf in classifiers:\n",
        "    cross_validation_scores.append(cross_val_score(clf,X,y, cv=3))\n",
        "    print(\"The Cross Validation Score for \",type(clf).__name__, \" : \",cross_val_score(clf,X,y, cv=3))\n",
        "    axis.title.set_text(type(clf).__name__)\n",
        "plt.tight_layout()  \n",
        "plt.show()"
      ],
      "metadata": {
        "id": "rmKJmyrXQOyB",
        "colab": {
          "base_uri": "https://localhost:8080/",
          "height": 145
        },
        "outputId": "45d298d9-2d52-4a93-f560-ff2c8266ba62"
      },
      "execution_count": 39,
      "outputs": [
        {
          "output_type": "stream",
          "name": "stdout",
          "text": [
            "The Cross Validation Score for  RandomForestClassifier  :  [0.73247257 0.73320994 0.73135907]\n",
            "The Cross Validation Score for  Pipeline  :  [0.72471687 0.7279658  0.72739291]\n",
            "The Cross Validation Score for  KNeighborsClassifier  :  [0.71184947 0.71091133 0.71002997]\n",
            "The Cross Validation Score for  LinearSVC  :  [0.72432027 0.72677596 0.7254539 ]\n",
            "The Cross Validation Score for  XGBClassifier  :  [0.73300137 0.73351842 0.73519302]\n",
            "The Cross Validation Score for  DecisionTreeClassifier  :  [0.72850659 0.7295082  0.72479288]\n"
          ]
        },
        {
          "output_type": "display_data",
          "data": {
            "text/plain": [
              "<Figure size 720x720 with 0 Axes>"
            ]
          },
          "metadata": {}
        }
      ]
    },
    {
      "cell_type": "code",
      "source": [
        "cross_validation_scores"
      ],
      "metadata": {
        "colab": {
          "base_uri": "https://localhost:8080/"
        },
        "id": "yGJvsYX4aBtl",
        "outputId": "33b6ac29-7b83-424b-f027-a8baecf7ff01"
      },
      "execution_count": 40,
      "outputs": [
        {
          "output_type": "execute_result",
          "data": {
            "text/plain": [
              "[array([0.73247257, 0.73320994, 0.73135907]),\n",
              " array([0.72471687, 0.7279658 , 0.72739291]),\n",
              " array([0.71184947, 0.71091133, 0.71002997]),\n",
              " array([0.72432027, 0.72677596, 0.7254539 ]),\n",
              " array([0.73300137, 0.73351842, 0.73519302]),\n",
              " array([0.72850659, 0.7295082 , 0.72479288])]"
            ]
          },
          "metadata": {},
          "execution_count": 40
        }
      ]
    },
    {
      "cell_type": "code",
      "source": [
        "evaluation = {'Model No.': [1,2,3,4,5,6],\n",
        "              'Classifier': [\"RandomForestClassifier\", \"LogisticRegressionClassifier\", \"KNeighborsClassifier\",\"SupportVectorClassifier\", \"XGBClassifier\", \"DecisionTreeClassifier\" ],\n",
        "              'Training Accuracy': [acc_train_rfc,acc_train_lgr,acc_train_knn,acc_train_svc,acc_train_xgb,acc_train_dtc],\n",
        "              'Testing Accuracy': [acc_test_rfc,acc_test_lgr,acc_test_knn,acc_test_svc,acc_test_xgb,acc_test_dtc],\n",
        "              'Precision': [precision_test_rfc,precision_test_lgr,precision_test_knn,precision_test_svc,precision_test_xgb,precision_test_dtc],\n",
        "              'Recall': [recall_test_rfc,recall_test_lgr,recall_test_knn,recall_test_svc,recall_test_xgb,recall_test_dtc],\n",
        "              'F1-Score': [f_measure_test_rfc,f_measure_test_lgr,f_measure_test_knn,f_measure_test_svc,f_measure_test_xgb,f_measure_test_dtc],\n",
        "              'Cross Validation Score': [max(x) for x in cross_validation_scores]\n",
        "              } "
      ],
      "metadata": {
        "id": "VNjmBt5yaqNu"
      },
      "execution_count": 41,
      "outputs": []
    },
    {
      "cell_type": "code",
      "source": [
        "eval_df = pd.DataFrame(data=evaluation)"
      ],
      "metadata": {
        "id": "44TwwB4Ifsch"
      },
      "execution_count": 42,
      "outputs": []
    },
    {
      "cell_type": "markdown",
      "source": [
        "# Evaluation Table"
      ],
      "metadata": {
        "id": "Q66gwwKSGaW4"
      }
    },
    {
      "cell_type": "code",
      "source": [
        "eval_df"
      ],
      "metadata": {
        "colab": {
          "base_uri": "https://localhost:8080/",
          "height": 237
        },
        "id": "BFOLP1DVfwoN",
        "outputId": "11c90d48-1d8e-451f-dbcc-9730a4435f8d"
      },
      "execution_count": 43,
      "outputs": [
        {
          "output_type": "execute_result",
          "data": {
            "text/plain": [
              "   Model No.                    Classifier  Training Accuracy  \\\n",
              "0          1        RandomForestClassifier           0.742310   \n",
              "1          2  LogisticRegressionClassifier           0.726441   \n",
              "2          3          KNeighborsClassifier           0.743779   \n",
              "3          4       SupportVectorClassifier           0.725862   \n",
              "4          5                 XGBClassifier           0.737325   \n",
              "5          6        DecisionTreeClassifier           0.739150   \n",
              "\n",
              "   Testing Accuracy  Precision    Recall  F1-Score  Cross Validation Score  \n",
              "0          0.733400   0.763696  0.670004  0.713789                0.733210  \n",
              "1          0.726746   0.756410  0.662690  0.706456                0.727966  \n",
              "2          0.710978   0.729932  0.662690  0.694688                0.711849  \n",
              "3          0.725537   0.759244  0.654332  0.702895                0.726776  \n",
              "4          0.735689   0.757855  0.686722  0.720537                0.735193  \n",
              "5          0.727265   0.746662  0.681585  0.712641                0.729508  "
            ],
            "text/html": [
              "\n",
              "  <div id=\"df-8ca977fc-897f-402e-80fd-409b807ac06b\">\n",
              "    <div class=\"colab-df-container\">\n",
              "      <div>\n",
              "<style scoped>\n",
              "    .dataframe tbody tr th:only-of-type {\n",
              "        vertical-align: middle;\n",
              "    }\n",
              "\n",
              "    .dataframe tbody tr th {\n",
              "        vertical-align: top;\n",
              "    }\n",
              "\n",
              "    .dataframe thead th {\n",
              "        text-align: right;\n",
              "    }\n",
              "</style>\n",
              "<table border=\"1\" class=\"dataframe\">\n",
              "  <thead>\n",
              "    <tr style=\"text-align: right;\">\n",
              "      <th></th>\n",
              "      <th>Model No.</th>\n",
              "      <th>Classifier</th>\n",
              "      <th>Training Accuracy</th>\n",
              "      <th>Testing Accuracy</th>\n",
              "      <th>Precision</th>\n",
              "      <th>Recall</th>\n",
              "      <th>F1-Score</th>\n",
              "      <th>Cross Validation Score</th>\n",
              "    </tr>\n",
              "  </thead>\n",
              "  <tbody>\n",
              "    <tr>\n",
              "      <th>0</th>\n",
              "      <td>1</td>\n",
              "      <td>RandomForestClassifier</td>\n",
              "      <td>0.742310</td>\n",
              "      <td>0.733400</td>\n",
              "      <td>0.763696</td>\n",
              "      <td>0.670004</td>\n",
              "      <td>0.713789</td>\n",
              "      <td>0.733210</td>\n",
              "    </tr>\n",
              "    <tr>\n",
              "      <th>1</th>\n",
              "      <td>2</td>\n",
              "      <td>LogisticRegressionClassifier</td>\n",
              "      <td>0.726441</td>\n",
              "      <td>0.726746</td>\n",
              "      <td>0.756410</td>\n",
              "      <td>0.662690</td>\n",
              "      <td>0.706456</td>\n",
              "      <td>0.727966</td>\n",
              "    </tr>\n",
              "    <tr>\n",
              "      <th>2</th>\n",
              "      <td>3</td>\n",
              "      <td>KNeighborsClassifier</td>\n",
              "      <td>0.743779</td>\n",
              "      <td>0.710978</td>\n",
              "      <td>0.729932</td>\n",
              "      <td>0.662690</td>\n",
              "      <td>0.694688</td>\n",
              "      <td>0.711849</td>\n",
              "    </tr>\n",
              "    <tr>\n",
              "      <th>3</th>\n",
              "      <td>4</td>\n",
              "      <td>SupportVectorClassifier</td>\n",
              "      <td>0.725862</td>\n",
              "      <td>0.725537</td>\n",
              "      <td>0.759244</td>\n",
              "      <td>0.654332</td>\n",
              "      <td>0.702895</td>\n",
              "      <td>0.726776</td>\n",
              "    </tr>\n",
              "    <tr>\n",
              "      <th>4</th>\n",
              "      <td>5</td>\n",
              "      <td>XGBClassifier</td>\n",
              "      <td>0.737325</td>\n",
              "      <td>0.735689</td>\n",
              "      <td>0.757855</td>\n",
              "      <td>0.686722</td>\n",
              "      <td>0.720537</td>\n",
              "      <td>0.735193</td>\n",
              "    </tr>\n",
              "    <tr>\n",
              "      <th>5</th>\n",
              "      <td>6</td>\n",
              "      <td>DecisionTreeClassifier</td>\n",
              "      <td>0.739150</td>\n",
              "      <td>0.727265</td>\n",
              "      <td>0.746662</td>\n",
              "      <td>0.681585</td>\n",
              "      <td>0.712641</td>\n",
              "      <td>0.729508</td>\n",
              "    </tr>\n",
              "  </tbody>\n",
              "</table>\n",
              "</div>\n",
              "      <button class=\"colab-df-convert\" onclick=\"convertToInteractive('df-8ca977fc-897f-402e-80fd-409b807ac06b')\"\n",
              "              title=\"Convert this dataframe to an interactive table.\"\n",
              "              style=\"display:none;\">\n",
              "        \n",
              "  <svg xmlns=\"http://www.w3.org/2000/svg\" height=\"24px\"viewBox=\"0 0 24 24\"\n",
              "       width=\"24px\">\n",
              "    <path d=\"M0 0h24v24H0V0z\" fill=\"none\"/>\n",
              "    <path d=\"M18.56 5.44l.94 2.06.94-2.06 2.06-.94-2.06-.94-.94-2.06-.94 2.06-2.06.94zm-11 1L8.5 8.5l.94-2.06 2.06-.94-2.06-.94L8.5 2.5l-.94 2.06-2.06.94zm10 10l.94 2.06.94-2.06 2.06-.94-2.06-.94-.94-2.06-.94 2.06-2.06.94z\"/><path d=\"M17.41 7.96l-1.37-1.37c-.4-.4-.92-.59-1.43-.59-.52 0-1.04.2-1.43.59L10.3 9.45l-7.72 7.72c-.78.78-.78 2.05 0 2.83L4 21.41c.39.39.9.59 1.41.59.51 0 1.02-.2 1.41-.59l7.78-7.78 2.81-2.81c.8-.78.8-2.07 0-2.86zM5.41 20L4 18.59l7.72-7.72 1.47 1.35L5.41 20z\"/>\n",
              "  </svg>\n",
              "      </button>\n",
              "      \n",
              "  <style>\n",
              "    .colab-df-container {\n",
              "      display:flex;\n",
              "      flex-wrap:wrap;\n",
              "      gap: 12px;\n",
              "    }\n",
              "\n",
              "    .colab-df-convert {\n",
              "      background-color: #E8F0FE;\n",
              "      border: none;\n",
              "      border-radius: 50%;\n",
              "      cursor: pointer;\n",
              "      display: none;\n",
              "      fill: #1967D2;\n",
              "      height: 32px;\n",
              "      padding: 0 0 0 0;\n",
              "      width: 32px;\n",
              "    }\n",
              "\n",
              "    .colab-df-convert:hover {\n",
              "      background-color: #E2EBFA;\n",
              "      box-shadow: 0px 1px 2px rgba(60, 64, 67, 0.3), 0px 1px 3px 1px rgba(60, 64, 67, 0.15);\n",
              "      fill: #174EA6;\n",
              "    }\n",
              "\n",
              "    [theme=dark] .colab-df-convert {\n",
              "      background-color: #3B4455;\n",
              "      fill: #D2E3FC;\n",
              "    }\n",
              "\n",
              "    [theme=dark] .colab-df-convert:hover {\n",
              "      background-color: #434B5C;\n",
              "      box-shadow: 0px 1px 3px 1px rgba(0, 0, 0, 0.15);\n",
              "      filter: drop-shadow(0px 1px 2px rgba(0, 0, 0, 0.3));\n",
              "      fill: #FFFFFF;\n",
              "    }\n",
              "  </style>\n",
              "\n",
              "      <script>\n",
              "        const buttonEl =\n",
              "          document.querySelector('#df-8ca977fc-897f-402e-80fd-409b807ac06b button.colab-df-convert');\n",
              "        buttonEl.style.display =\n",
              "          google.colab.kernel.accessAllowed ? 'block' : 'none';\n",
              "\n",
              "        async function convertToInteractive(key) {\n",
              "          const element = document.querySelector('#df-8ca977fc-897f-402e-80fd-409b807ac06b');\n",
              "          const dataTable =\n",
              "            await google.colab.kernel.invokeFunction('convertToInteractive',\n",
              "                                                     [key], {});\n",
              "          if (!dataTable) return;\n",
              "\n",
              "          const docLinkHtml = 'Like what you see? Visit the ' +\n",
              "            '<a target=\"_blank\" href=https://colab.research.google.com/notebooks/data_table.ipynb>data table notebook</a>'\n",
              "            + ' to learn more about interactive tables.';\n",
              "          element.innerHTML = '';\n",
              "          dataTable['output_type'] = 'display_data';\n",
              "          await google.colab.output.renderOutput(dataTable, element);\n",
              "          const docLink = document.createElement('div');\n",
              "          docLink.innerHTML = docLinkHtml;\n",
              "          element.appendChild(docLink);\n",
              "        }\n",
              "      </script>\n",
              "    </div>\n",
              "  </div>\n",
              "  "
            ]
          },
          "metadata": {},
          "execution_count": 43
        }
      ]
    }
  ],
  "metadata": {
    "accelerator": "TPU",
    "colab": {
      "collapsed_sections": [],
      "name": "Project_Special_Topics.ipynb",
      "provenance": []
    },
    "kernelspec": {
      "display_name": "Python 3",
      "language": "python",
      "name": "python3"
    },
    "language_info": {
      "codemirror_mode": {
        "name": "ipython",
        "version": 3
      },
      "file_extension": ".py",
      "mimetype": "text/x-python",
      "name": "python",
      "nbconvert_exporter": "python",
      "pygments_lexer": "ipython3",
      "version": "3.8.8"
    }
  },
  "nbformat": 4,
  "nbformat_minor": 0
}